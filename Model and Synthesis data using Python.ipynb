{
 "cells": [
  {
   "cell_type": "markdown",
   "metadata": {},
   "source": [
    "# Model & Synthesize Data\n",
    "\n",
    "The purpose of this Jupyter Notebook is to complete the task of modeling and synthesizing a data set.  To choose a real-world phenomenon that can be measured and for which you could collect at least one-hundred data points across at least four different variables.\n",
    "\n",
    "My focus for this project is in relation to the Vermont Oxford Network.  Vermont Oxford Network (VON) is a nonprofit voluntary collaboration of health care professionals working together as an interdisciplinary community to change the landscape of neonatal care. Founded in 1988, VON is now comprised of teams of health professionals representing neonatal intensive care units and level I and II care centers around the world, in support of the mission to improve the quality and safety of medical care for newborn infants and their families through a coordinated program of research, education, and quality improvement projects. (ref: https://public.vtoxford.org/about-us/)"
   ]
  },
  {
   "cell_type": "markdown",
   "metadata": {},
   "source": [
    "The National Perinatal Epidemiology Centre, UCC, published a report in 2018 \"Mortality Risk Amongst Very Low Birth Weight Infants Born in the Republic of Ireland\" (ref: \n",
    "https://www.ucc.ie/en/media/research/nationalperinatalepidemiologycentre/annualreports/MortalityRiskAmongstVeryLowBirthWeightInfantsintheRepublicofIrelandReport2014-2016.pdf).\n",
    "\n",
    "In 2014-2016, 19 neonatal units submitted data to the VON’s VLBW database. The inclusion criteria were as follows:\n",
    "'Any infant who is born alive at your hospital and whose birth weight is between 401 and 1500 grams OR whose gestational age is between 22 weeks 0 days and 29 weeks 6 days (inclusive), regardless of where in your hospital the infant receives care'\n",
    "\n",
    "This notebook aims to sythesise data to reflect the key variables & findings in this report"
   ]
  },
  {
   "cell_type": "markdown",
   "metadata": {},
   "source": [
    "# The Summary Approach\n",
    "\n",
    "In order to complete the task of synthesizing data which assesses the mortality risk amongst very low birth weight babies, I have decided to take the following approach:\n",
    "\n",
    " - Explain the Variables\n",
    " - Generate a Data Frame Structure\n",
    " - Create the DF variables\n",
    " - Analyise & plot the dataset and highlight key findings"
   ]
  },
  {
   "cell_type": "markdown",
   "metadata": {},
   "source": [
    "# The Variables - Explained\n",
    "\n",
    "## Gestational Weeks\n",
    "Gestational age is the common term used during pregnancy to describe how far along the pregnancy is. It is measured in weeks, from the first day of the woman's last menstrual cycle to the current date. A normal pregnancy can range from 38 to 42 weeks. Infants born before 37 weeks are considered premature. The outcome of this variable will be most likely between 22 - 32 weeks. (ref:https://medlineplus.gov/ency/article/002367.htm)\n",
    "\n",
    "## Birthweight\n",
    "Birth weight is the first weight of your baby, taken just after he or she is born. A low birth weight is less than 2,640 grams. A high birth weight is more than 4,000 grams. The expected result of this variable will see most weights less than 5.5 pounds.  \n",
    "\n",
    "The gestational ages of the VLBW (Very Low Birth Weight) infants ranged from 21 weeks to 33 weeks and their birth weights ranged from 360g to 2,640g\n",
    "(ref:https://www.ucc.ie/en/media/research/nationalperinatalepidemiologycentre/annualreports/MortalityRiskAmongstVeryLowBirthWeightInfantsintheRepublicofIrelandReport2014-2016.pdf)\n",
    "\n",
    "## Congenital Anomaly \n",
    "Congenital anomalies are also known as birth defects, congenital disorders or congenital malformations. If the infant was born with a congenital anomaly, it was recored. Yes or No.\n",
    "\n",
    "## Disposition at 1 Year\n",
    "Did the infant live or die.  The outcome is recorded one year after birth.  There are 4 possible outcomes:\n",
    "- Died: Unfortunately self explanatory  \n",
    "- Home: The infant has been discharged from hospital and is at home\n",
    "- Still Hospitalised: The infant is still under medical care in hospital\n",
    "- Unkown: no contact with the infant's family so status of infant is unknown \n",
    " \n",
    "\n"
   ]
  },
  {
   "cell_type": "markdown",
   "metadata": {},
   "source": [
    "# How to create a Dataset "
   ]
  },
  {
   "cell_type": "code",
   "execution_count": 1,
   "metadata": {},
   "outputs": [],
   "source": [
    "# create a dataframe structure by starting with the column headings\n",
    "import pandas as pd #use pandas to create the dataframe\n",
    "import numpy as np # use numpy to generate the random variables\n",
    "df = pd.DataFrame(columns= [\"Gestational Weeks\", \"Birthweight\", \"Sex\", \"Congenital Anomaly\", \"Disposition at 1 Year\"]) #gives headings to each of the columns"
   ]
  },
  {
   "cell_type": "code",
   "execution_count": 2,
   "metadata": {},
   "outputs": [
    {
     "data": {
      "text/html": [
       "<div>\n",
       "<style scoped>\n",
       "    .dataframe tbody tr th:only-of-type {\n",
       "        vertical-align: middle;\n",
       "    }\n",
       "\n",
       "    .dataframe tbody tr th {\n",
       "        vertical-align: top;\n",
       "    }\n",
       "\n",
       "    .dataframe thead th {\n",
       "        text-align: right;\n",
       "    }\n",
       "</style>\n",
       "<table border=\"1\" class=\"dataframe\">\n",
       "  <thead>\n",
       "    <tr style=\"text-align: right;\">\n",
       "      <th></th>\n",
       "      <th>Gestational Weeks</th>\n",
       "      <th>Birthweight</th>\n",
       "      <th>Sex</th>\n",
       "      <th>Congenital Anomaly</th>\n",
       "      <th>Disposition at 1 Year</th>\n",
       "    </tr>\n",
       "  </thead>\n",
       "  <tbody>\n",
       "  </tbody>\n",
       "</table>\n",
       "</div>"
      ],
      "text/plain": [
       "Empty DataFrame\n",
       "Columns: [Gestational Weeks, Birthweight, Sex, Congenital Anomaly, Disposition at 1 Year]\n",
       "Index: []"
      ]
     },
     "execution_count": 2,
     "metadata": {},
     "output_type": "execute_result"
    }
   ],
   "source": [
    "df # create the dataframe"
   ]
  },
  {
   "cell_type": "code",
   "execution_count": 3,
   "metadata": {},
   "outputs": [
    {
     "data": {
      "text/html": [
       "<div>\n",
       "<style scoped>\n",
       "    .dataframe tbody tr th:only-of-type {\n",
       "        vertical-align: middle;\n",
       "    }\n",
       "\n",
       "    .dataframe tbody tr th {\n",
       "        vertical-align: top;\n",
       "    }\n",
       "\n",
       "    .dataframe thead th {\n",
       "        text-align: right;\n",
       "    }\n",
       "</style>\n",
       "<table border=\"1\" class=\"dataframe\">\n",
       "  <thead>\n",
       "    <tr style=\"text-align: right;\">\n",
       "      <th></th>\n",
       "      <th>Gestational Weeks</th>\n",
       "      <th>Birthweight</th>\n",
       "      <th>Sex</th>\n",
       "      <th>Congenital Anomaly</th>\n",
       "      <th>Disposition at 1 Year</th>\n",
       "    </tr>\n",
       "  </thead>\n",
       "  <tbody>\n",
       "    <tr>\n",
       "      <th>0</th>\n",
       "      <td>Alex</td>\n",
       "      <td>10</td>\n",
       "      <td>6</td>\n",
       "      <td>2</td>\n",
       "      <td>5</td>\n",
       "    </tr>\n",
       "    <tr>\n",
       "      <th>1</th>\n",
       "      <td>Bob</td>\n",
       "      <td>12</td>\n",
       "      <td>6</td>\n",
       "      <td>2</td>\n",
       "      <td>5</td>\n",
       "    </tr>\n",
       "    <tr>\n",
       "      <th>2</th>\n",
       "      <td>Clarke</td>\n",
       "      <td>13</td>\n",
       "      <td>6</td>\n",
       "      <td>2</td>\n",
       "      <td>5</td>\n",
       "    </tr>\n",
       "  </tbody>\n",
       "</table>\n",
       "</div>"
      ],
      "text/plain": [
       "  Gestational Weeks  Birthweight  Sex  Congenital Anomaly  \\\n",
       "0              Alex           10    6                   2   \n",
       "1               Bob           12    6                   2   \n",
       "2            Clarke           13    6                   2   \n",
       "\n",
       "   Disposition at 1 Year  \n",
       "0                      5  \n",
       "1                      5  \n",
       "2                      5  "
      ]
     },
     "execution_count": 3,
     "metadata": {},
     "output_type": "execute_result"
    }
   ],
   "source": [
    "# Testing to populate the data \n",
    "data = [['Alex',10, 6, 2, 5],['Bob',12, 6 ,2, 5],['Clarke',13, 6 ,2, 5]]\n",
    "df = pd.DataFrame(data, columns = ['Gestational Weeks', 'Birthweight', 'Sex', 'Congenital Anomaly', 'Disposition at 1 Year'])\n",
    "df"
   ]
  },
  {
   "cell_type": "code",
   "execution_count": 4,
   "metadata": {},
   "outputs": [],
   "source": [
    "# The above table is the basic structure which I will use as the foundations for systhessing my dataset.\n",
    "# Key learning is how to structure code in order to populate the rows"
   ]
  },
  {
   "cell_type": "markdown",
   "metadata": {},
   "source": [
    "## Gestational Weeks\n",
    "In this dataset the Gestational weeks has a spread from 21 weeks to 33 weeks. With the majority of babies born around weeks 28, 29, 30.  Based on this, I think it is best to generate an array from a normal distribution.\n"
   ]
  },
  {
   "cell_type": "code",
   "execution_count": 5,
   "metadata": {},
   "outputs": [
    {
     "data": {
      "text/plain": [
       "array([29., 31., 35., 24., 28., 30., 33., 27., 26., 31., 36., 27., 28.,\n",
       "       30., 24., 24., 29., 29., 27., 25., 28., 28., 27., 29., 24., 21.,\n",
       "       26., 31., 25., 28., 30., 27., 30., 30., 27., 30., 31., 26., 24.,\n",
       "       29., 26., 28., 23., 29., 26., 31., 22., 29., 26., 24., 32., 33.,\n",
       "       29., 27., 32., 31., 23., 25., 34., 27., 26., 27., 31., 27., 27.,\n",
       "       28., 33., 27., 36., 27., 25., 25., 29., 30., 27., 28., 29., 30.,\n",
       "       28., 28., 33., 24., 25., 27., 22., 25., 30., 26., 26., 29., 23.,\n",
       "       32., 28., 28., 27., 27., 30., 27., 31., 29.])"
      ]
     },
     "execution_count": 5,
     "metadata": {},
     "output_type": "execute_result"
    }
   ],
   "source": [
    "#Setting Parameters for gestational weeks.  Majority of babies born weeks 28, 29, 30\n",
    "# mean and standard deviation\n",
    "gw = np.random.normal(28, 3, 100).round(0) # 28 is the mean, 3 is standard deviation, 100 is the size of the sample\n",
    "gw\n",
    "\n",
    "# took research to find how to round the floats to integers\n",
    "# https://stackoverflow.com/questions/33160367/numpy-how-to-generate-a-normally-distributed-set-of-integers?rq=1"
   ]
  },
  {
   "cell_type": "markdown",
   "metadata": {},
   "source": [
    "## Birthweight\n",
    "The birth weights of very low birth weight infants ranged from 360g to 2,640g.  The data here forms a uniform distribution. Infants are born at many different birth weights. No one more than any other."
   ]
  },
  {
   "cell_type": "code",
   "execution_count": 6,
   "metadata": {},
   "outputs": [
    {
     "data": {
      "text/plain": [
       "array([1215, 1689, 1251, 1007, 1936, 1940,  492, 1583, 1049,  634, 2560,\n",
       "       1008, 1300, 1896, 1344,  474, 2606,  681,  371, 1707, 1985,  618,\n",
       "        579,  945,  958, 1629,  503,  642, 1106, 2228,  834, 1120, 1968,\n",
       "       1821, 2491, 1786, 2566, 2173,  566, 2394,  671, 2225, 2041,  901,\n",
       "       2562, 1565, 2320,  399, 2288, 1023,  595,  559, 1729, 1520, 1629,\n",
       "       1644,  809, 2176,  833, 1873,  635, 2548,  994, 2490,  601, 1890,\n",
       "       2433, 2015,  625,  588, 1698, 1632, 2017, 1790, 2210,  923, 2341,\n",
       "       1242, 2166, 2427, 1265, 2327,  826,  986,  802, 1054, 1219,  717,\n",
       "       2053, 1878, 1622,  931,  933, 2115,  761, 1193, 1302, 2491, 2161,\n",
       "        434])"
      ]
     },
     "execution_count": 6,
     "metadata": {},
     "output_type": "execute_result"
    }
   ],
   "source": [
    "#Setting Parameters for bithweight, low = 360g, High = 2640g\n",
    "\n",
    "bw = np.random.randint(360, 2640, size=100) #this function draws random numbers from a uniform distribution\n",
    "bw"
   ]
  },
  {
   "cell_type": "markdown",
   "metadata": {},
   "source": [
    "## Sex\n",
    "\n",
    "Is the infant male or female.  There is a 50/50 chance of being either male or female.  "
   ]
  },
  {
   "cell_type": "code",
   "execution_count": 7,
   "metadata": {},
   "outputs": [
    {
     "data": {
      "text/plain": [
       "array(['Female', 'Female', 'Male', 'Male', 'Male', 'Male', 'Female',\n",
       "       'Female', 'Male', 'Female', 'Male', 'Female', 'Female', 'Female',\n",
       "       'Female', 'Female', 'Male', 'Female', 'Male', 'Male', 'Male',\n",
       "       'Male', 'Female', 'Female', 'Male', 'Male', 'Male', 'Male', 'Male',\n",
       "       'Male', 'Male', 'Female', 'Female', 'Female', 'Male', 'Female',\n",
       "       'Female', 'Female', 'Female', 'Female', 'Female', 'Male', 'Female',\n",
       "       'Female', 'Male', 'Female', 'Male', 'Male', 'Male', 'Female',\n",
       "       'Female', 'Male', 'Female', 'Male', 'Male', 'Male', 'Female',\n",
       "       'Male', 'Male', 'Male', 'Female', 'Female', 'Male', 'Male',\n",
       "       'Female', 'Female', 'Male', 'Female', 'Female', 'Female', 'Female',\n",
       "       'Female', 'Male', 'Female', 'Male', 'Female', 'Male', 'Female',\n",
       "       'Female', 'Male', 'Male', 'Female', 'Female', 'Female', 'Female',\n",
       "       'Female', 'Female', 'Female', 'Male', 'Male', 'Female', 'Female',\n",
       "       'Female', 'Male', 'Male', 'Male', 'Female', 'Male', 'Male',\n",
       "       'Female'], dtype='<U6')"
      ]
     },
     "execution_count": 7,
     "metadata": {},
     "output_type": "execute_result"
    }
   ],
   "source": [
    "#using random.choice, I have ensure that there is a 50/50 chance of the infant being male or female\n",
    "s = np.random.choice([\"Male\", \"Female\"], 100, p=[0.5, 0.5])\n",
    "s"
   ]
  },
  {
   "cell_type": "markdown",
   "metadata": {},
   "source": [
    "## Congenital Anomaly\n",
    "About 9% of babies have a congenital anomaly.  This figure is high in comparison to VON data as abortion was/is not in Ireland.  Does the baby have a congenital anomaly? Yes or No?"
   ]
  },
  {
   "cell_type": "code",
   "execution_count": 8,
   "metadata": {},
   "outputs": [
    {
     "data": {
      "text/plain": [
       "array(['No', 'No', 'No', 'No', 'No', 'No', 'No', 'No', 'No', 'No', 'No',\n",
       "       'No', 'No', 'No', 'No', 'No', 'No', 'No', 'No', 'No', 'No', 'No',\n",
       "       'No', 'No', 'No', 'No', 'Yes', 'No', 'No', 'No', 'No', 'No', 'No',\n",
       "       'No', 'No', 'No', 'No', 'No', 'No', 'No', 'No', 'No', 'Yes', 'No',\n",
       "       'No', 'No', 'No', 'No', 'No', 'No', 'No', 'No', 'Yes', 'No', 'No',\n",
       "       'No', 'No', 'No', 'No', 'No', 'No', 'No', 'No', 'No', 'No', 'No',\n",
       "       'No', 'No', 'No', 'No', 'Yes', 'No', 'No', 'No', 'No', 'No', 'No',\n",
       "       'No', 'No', 'No', 'Yes', 'No', 'No', 'No', 'No', 'No', 'No', 'No',\n",
       "       'No', 'Yes', 'No', 'No', 'No', 'No', 'No', 'No', 'No', 'No', 'No',\n",
       "       'No'], dtype='<U3')"
      ]
     },
     "execution_count": 8,
     "metadata": {},
     "output_type": "execute_result"
    }
   ],
   "source": [
    "# using random.choice, I have implmented a bias to reflect the real world\n",
    "ca = np.random.choice([\"Yes\",\"No\"], 100, p=[0.08, 0.92])\n",
    "ca\n"
   ]
  },
  {
   "cell_type": "markdown",
   "metadata": {},
   "source": [
    "## Disposition at 1 Year\n"
   ]
  },
  {
   "cell_type": "code",
   "execution_count": 9,
   "metadata": {},
   "outputs": [
    {
     "data": {
      "text/plain": [
       "array(['Hospital', 'At Home', 'Died', 'Died', 'At Home', 'Died',\n",
       "       'At Home', 'At Home', 'At Home', 'At Home', 'At Home', 'At Home',\n",
       "       'At Home', 'At Home', 'At Home', 'Unknown', 'Died', 'Hospital',\n",
       "       'Died', 'Unknown', 'At Home', 'Died', 'At Home', 'Died', 'At Home',\n",
       "       'At Home', 'Unknown', 'Hospital', 'Hospital', 'At Home', 'At Home',\n",
       "       'Died', 'Died', 'At Home', 'Hospital', 'At Home', 'At Home',\n",
       "       'At Home', 'Unknown', 'Unknown', 'At Home', 'Died', 'Died',\n",
       "       'Unknown', 'At Home', 'At Home', 'At Home', 'At Home', 'Died',\n",
       "       'Died', 'At Home', 'Hospital', 'At Home', 'At Home', 'At Home',\n",
       "       'Died', 'At Home', 'Died', 'At Home', 'At Home', 'Died', 'At Home',\n",
       "       'Hospital', 'At Home', 'At Home', 'At Home', 'At Home', 'At Home',\n",
       "       'At Home', 'Died', 'At Home', 'At Home', 'At Home', 'At Home',\n",
       "       'Hospital', 'At Home', 'Hospital', 'At Home', 'At Home', 'Died',\n",
       "       'At Home', 'Died', 'At Home', 'At Home', 'At Home', 'At Home',\n",
       "       'Died', 'At Home', 'Died', 'At Home', 'At Home', 'At Home',\n",
       "       'At Home', 'At Home', 'Died', 'At Home', 'Died', 'Hospital',\n",
       "       'At Home', 'At Home'], dtype='<U8')"
      ]
     },
     "execution_count": 9,
     "metadata": {},
     "output_type": "execute_result"
    }
   ],
   "source": [
    "# 1 year after the infants recorded birth, data is once again gathered to establish the health of the infant.\n",
    "dip = np.random.choice([\"Died\", \"At Home\", \"Hospital\", \"Unknown\"], 100, p=[0.2, 0.65, 0.05, 0.1]) \n",
    "# I have used an estiamted the probabilty based on the report's key findings and used this to generate this array\n",
    "dip"
   ]
  },
  {
   "cell_type": "markdown",
   "metadata": {},
   "source": [
    "# Creating the Dataset"
   ]
  },
  {
   "cell_type": "code",
   "execution_count": 10,
   "metadata": {},
   "outputs": [
    {
     "data": {
      "text/html": [
       "<div>\n",
       "<style scoped>\n",
       "    .dataframe tbody tr th:only-of-type {\n",
       "        vertical-align: middle;\n",
       "    }\n",
       "\n",
       "    .dataframe tbody tr th {\n",
       "        vertical-align: top;\n",
       "    }\n",
       "\n",
       "    .dataframe thead th {\n",
       "        text-align: right;\n",
       "    }\n",
       "</style>\n",
       "<table border=\"1\" class=\"dataframe\">\n",
       "  <thead>\n",
       "    <tr style=\"text-align: right;\">\n",
       "      <th></th>\n",
       "      <th>Gestational Weeks</th>\n",
       "      <th>Birthweight</th>\n",
       "      <th>Sex</th>\n",
       "      <th>Congenital Anomaly</th>\n",
       "      <th>Disposition</th>\n",
       "    </tr>\n",
       "  </thead>\n",
       "  <tbody>\n",
       "    <tr>\n",
       "      <th>0</th>\n",
       "      <td>29.0</td>\n",
       "      <td>1215</td>\n",
       "      <td>Female</td>\n",
       "      <td>No</td>\n",
       "      <td>Hospital</td>\n",
       "    </tr>\n",
       "    <tr>\n",
       "      <th>1</th>\n",
       "      <td>31.0</td>\n",
       "      <td>1689</td>\n",
       "      <td>Female</td>\n",
       "      <td>No</td>\n",
       "      <td>At Home</td>\n",
       "    </tr>\n",
       "    <tr>\n",
       "      <th>2</th>\n",
       "      <td>35.0</td>\n",
       "      <td>1251</td>\n",
       "      <td>Male</td>\n",
       "      <td>No</td>\n",
       "      <td>Died</td>\n",
       "    </tr>\n",
       "    <tr>\n",
       "      <th>3</th>\n",
       "      <td>24.0</td>\n",
       "      <td>1007</td>\n",
       "      <td>Male</td>\n",
       "      <td>No</td>\n",
       "      <td>Died</td>\n",
       "    </tr>\n",
       "    <tr>\n",
       "      <th>4</th>\n",
       "      <td>28.0</td>\n",
       "      <td>1936</td>\n",
       "      <td>Male</td>\n",
       "      <td>No</td>\n",
       "      <td>At Home</td>\n",
       "    </tr>\n",
       "    <tr>\n",
       "      <th>5</th>\n",
       "      <td>30.0</td>\n",
       "      <td>1940</td>\n",
       "      <td>Male</td>\n",
       "      <td>No</td>\n",
       "      <td>Died</td>\n",
       "    </tr>\n",
       "    <tr>\n",
       "      <th>6</th>\n",
       "      <td>33.0</td>\n",
       "      <td>492</td>\n",
       "      <td>Female</td>\n",
       "      <td>No</td>\n",
       "      <td>At Home</td>\n",
       "    </tr>\n",
       "    <tr>\n",
       "      <th>7</th>\n",
       "      <td>27.0</td>\n",
       "      <td>1583</td>\n",
       "      <td>Female</td>\n",
       "      <td>No</td>\n",
       "      <td>At Home</td>\n",
       "    </tr>\n",
       "    <tr>\n",
       "      <th>8</th>\n",
       "      <td>26.0</td>\n",
       "      <td>1049</td>\n",
       "      <td>Male</td>\n",
       "      <td>No</td>\n",
       "      <td>At Home</td>\n",
       "    </tr>\n",
       "    <tr>\n",
       "      <th>9</th>\n",
       "      <td>31.0</td>\n",
       "      <td>634</td>\n",
       "      <td>Female</td>\n",
       "      <td>No</td>\n",
       "      <td>At Home</td>\n",
       "    </tr>\n",
       "    <tr>\n",
       "      <th>10</th>\n",
       "      <td>36.0</td>\n",
       "      <td>2560</td>\n",
       "      <td>Male</td>\n",
       "      <td>No</td>\n",
       "      <td>At Home</td>\n",
       "    </tr>\n",
       "    <tr>\n",
       "      <th>11</th>\n",
       "      <td>27.0</td>\n",
       "      <td>1008</td>\n",
       "      <td>Female</td>\n",
       "      <td>No</td>\n",
       "      <td>At Home</td>\n",
       "    </tr>\n",
       "    <tr>\n",
       "      <th>12</th>\n",
       "      <td>28.0</td>\n",
       "      <td>1300</td>\n",
       "      <td>Female</td>\n",
       "      <td>No</td>\n",
       "      <td>At Home</td>\n",
       "    </tr>\n",
       "    <tr>\n",
       "      <th>13</th>\n",
       "      <td>30.0</td>\n",
       "      <td>1896</td>\n",
       "      <td>Female</td>\n",
       "      <td>No</td>\n",
       "      <td>At Home</td>\n",
       "    </tr>\n",
       "    <tr>\n",
       "      <th>14</th>\n",
       "      <td>24.0</td>\n",
       "      <td>1344</td>\n",
       "      <td>Female</td>\n",
       "      <td>No</td>\n",
       "      <td>At Home</td>\n",
       "    </tr>\n",
       "    <tr>\n",
       "      <th>15</th>\n",
       "      <td>24.0</td>\n",
       "      <td>474</td>\n",
       "      <td>Female</td>\n",
       "      <td>No</td>\n",
       "      <td>Unknown</td>\n",
       "    </tr>\n",
       "    <tr>\n",
       "      <th>16</th>\n",
       "      <td>29.0</td>\n",
       "      <td>2606</td>\n",
       "      <td>Male</td>\n",
       "      <td>No</td>\n",
       "      <td>Died</td>\n",
       "    </tr>\n",
       "    <tr>\n",
       "      <th>17</th>\n",
       "      <td>29.0</td>\n",
       "      <td>681</td>\n",
       "      <td>Female</td>\n",
       "      <td>No</td>\n",
       "      <td>Hospital</td>\n",
       "    </tr>\n",
       "    <tr>\n",
       "      <th>18</th>\n",
       "      <td>27.0</td>\n",
       "      <td>371</td>\n",
       "      <td>Male</td>\n",
       "      <td>No</td>\n",
       "      <td>Died</td>\n",
       "    </tr>\n",
       "    <tr>\n",
       "      <th>19</th>\n",
       "      <td>25.0</td>\n",
       "      <td>1707</td>\n",
       "      <td>Male</td>\n",
       "      <td>No</td>\n",
       "      <td>Unknown</td>\n",
       "    </tr>\n",
       "    <tr>\n",
       "      <th>20</th>\n",
       "      <td>28.0</td>\n",
       "      <td>1985</td>\n",
       "      <td>Male</td>\n",
       "      <td>No</td>\n",
       "      <td>At Home</td>\n",
       "    </tr>\n",
       "    <tr>\n",
       "      <th>21</th>\n",
       "      <td>28.0</td>\n",
       "      <td>618</td>\n",
       "      <td>Male</td>\n",
       "      <td>No</td>\n",
       "      <td>Died</td>\n",
       "    </tr>\n",
       "    <tr>\n",
       "      <th>22</th>\n",
       "      <td>27.0</td>\n",
       "      <td>579</td>\n",
       "      <td>Female</td>\n",
       "      <td>No</td>\n",
       "      <td>At Home</td>\n",
       "    </tr>\n",
       "    <tr>\n",
       "      <th>23</th>\n",
       "      <td>29.0</td>\n",
       "      <td>945</td>\n",
       "      <td>Female</td>\n",
       "      <td>No</td>\n",
       "      <td>Died</td>\n",
       "    </tr>\n",
       "    <tr>\n",
       "      <th>24</th>\n",
       "      <td>24.0</td>\n",
       "      <td>958</td>\n",
       "      <td>Male</td>\n",
       "      <td>No</td>\n",
       "      <td>At Home</td>\n",
       "    </tr>\n",
       "    <tr>\n",
       "      <th>25</th>\n",
       "      <td>21.0</td>\n",
       "      <td>1629</td>\n",
       "      <td>Male</td>\n",
       "      <td>No</td>\n",
       "      <td>At Home</td>\n",
       "    </tr>\n",
       "    <tr>\n",
       "      <th>26</th>\n",
       "      <td>26.0</td>\n",
       "      <td>503</td>\n",
       "      <td>Male</td>\n",
       "      <td>Yes</td>\n",
       "      <td>Unknown</td>\n",
       "    </tr>\n",
       "    <tr>\n",
       "      <th>27</th>\n",
       "      <td>31.0</td>\n",
       "      <td>642</td>\n",
       "      <td>Male</td>\n",
       "      <td>No</td>\n",
       "      <td>Hospital</td>\n",
       "    </tr>\n",
       "    <tr>\n",
       "      <th>28</th>\n",
       "      <td>25.0</td>\n",
       "      <td>1106</td>\n",
       "      <td>Male</td>\n",
       "      <td>No</td>\n",
       "      <td>Hospital</td>\n",
       "    </tr>\n",
       "    <tr>\n",
       "      <th>29</th>\n",
       "      <td>28.0</td>\n",
       "      <td>2228</td>\n",
       "      <td>Male</td>\n",
       "      <td>No</td>\n",
       "      <td>At Home</td>\n",
       "    </tr>\n",
       "    <tr>\n",
       "      <th>...</th>\n",
       "      <td>...</td>\n",
       "      <td>...</td>\n",
       "      <td>...</td>\n",
       "      <td>...</td>\n",
       "      <td>...</td>\n",
       "    </tr>\n",
       "    <tr>\n",
       "      <th>70</th>\n",
       "      <td>25.0</td>\n",
       "      <td>1698</td>\n",
       "      <td>Female</td>\n",
       "      <td>Yes</td>\n",
       "      <td>At Home</td>\n",
       "    </tr>\n",
       "    <tr>\n",
       "      <th>71</th>\n",
       "      <td>25.0</td>\n",
       "      <td>1632</td>\n",
       "      <td>Female</td>\n",
       "      <td>No</td>\n",
       "      <td>At Home</td>\n",
       "    </tr>\n",
       "    <tr>\n",
       "      <th>72</th>\n",
       "      <td>29.0</td>\n",
       "      <td>2017</td>\n",
       "      <td>Male</td>\n",
       "      <td>No</td>\n",
       "      <td>At Home</td>\n",
       "    </tr>\n",
       "    <tr>\n",
       "      <th>73</th>\n",
       "      <td>30.0</td>\n",
       "      <td>1790</td>\n",
       "      <td>Female</td>\n",
       "      <td>No</td>\n",
       "      <td>At Home</td>\n",
       "    </tr>\n",
       "    <tr>\n",
       "      <th>74</th>\n",
       "      <td>27.0</td>\n",
       "      <td>2210</td>\n",
       "      <td>Male</td>\n",
       "      <td>No</td>\n",
       "      <td>Hospital</td>\n",
       "    </tr>\n",
       "    <tr>\n",
       "      <th>75</th>\n",
       "      <td>28.0</td>\n",
       "      <td>923</td>\n",
       "      <td>Female</td>\n",
       "      <td>No</td>\n",
       "      <td>At Home</td>\n",
       "    </tr>\n",
       "    <tr>\n",
       "      <th>76</th>\n",
       "      <td>29.0</td>\n",
       "      <td>2341</td>\n",
       "      <td>Male</td>\n",
       "      <td>No</td>\n",
       "      <td>Hospital</td>\n",
       "    </tr>\n",
       "    <tr>\n",
       "      <th>77</th>\n",
       "      <td>30.0</td>\n",
       "      <td>1242</td>\n",
       "      <td>Female</td>\n",
       "      <td>No</td>\n",
       "      <td>At Home</td>\n",
       "    </tr>\n",
       "    <tr>\n",
       "      <th>78</th>\n",
       "      <td>28.0</td>\n",
       "      <td>2166</td>\n",
       "      <td>Female</td>\n",
       "      <td>No</td>\n",
       "      <td>At Home</td>\n",
       "    </tr>\n",
       "    <tr>\n",
       "      <th>79</th>\n",
       "      <td>28.0</td>\n",
       "      <td>2427</td>\n",
       "      <td>Male</td>\n",
       "      <td>No</td>\n",
       "      <td>Died</td>\n",
       "    </tr>\n",
       "    <tr>\n",
       "      <th>80</th>\n",
       "      <td>33.0</td>\n",
       "      <td>1265</td>\n",
       "      <td>Male</td>\n",
       "      <td>Yes</td>\n",
       "      <td>At Home</td>\n",
       "    </tr>\n",
       "    <tr>\n",
       "      <th>81</th>\n",
       "      <td>24.0</td>\n",
       "      <td>2327</td>\n",
       "      <td>Female</td>\n",
       "      <td>No</td>\n",
       "      <td>Died</td>\n",
       "    </tr>\n",
       "    <tr>\n",
       "      <th>82</th>\n",
       "      <td>25.0</td>\n",
       "      <td>826</td>\n",
       "      <td>Female</td>\n",
       "      <td>No</td>\n",
       "      <td>At Home</td>\n",
       "    </tr>\n",
       "    <tr>\n",
       "      <th>83</th>\n",
       "      <td>27.0</td>\n",
       "      <td>986</td>\n",
       "      <td>Female</td>\n",
       "      <td>No</td>\n",
       "      <td>At Home</td>\n",
       "    </tr>\n",
       "    <tr>\n",
       "      <th>84</th>\n",
       "      <td>22.0</td>\n",
       "      <td>802</td>\n",
       "      <td>Female</td>\n",
       "      <td>No</td>\n",
       "      <td>At Home</td>\n",
       "    </tr>\n",
       "    <tr>\n",
       "      <th>85</th>\n",
       "      <td>25.0</td>\n",
       "      <td>1054</td>\n",
       "      <td>Female</td>\n",
       "      <td>No</td>\n",
       "      <td>At Home</td>\n",
       "    </tr>\n",
       "    <tr>\n",
       "      <th>86</th>\n",
       "      <td>30.0</td>\n",
       "      <td>1219</td>\n",
       "      <td>Female</td>\n",
       "      <td>No</td>\n",
       "      <td>Died</td>\n",
       "    </tr>\n",
       "    <tr>\n",
       "      <th>87</th>\n",
       "      <td>26.0</td>\n",
       "      <td>717</td>\n",
       "      <td>Female</td>\n",
       "      <td>No</td>\n",
       "      <td>At Home</td>\n",
       "    </tr>\n",
       "    <tr>\n",
       "      <th>88</th>\n",
       "      <td>26.0</td>\n",
       "      <td>2053</td>\n",
       "      <td>Male</td>\n",
       "      <td>No</td>\n",
       "      <td>Died</td>\n",
       "    </tr>\n",
       "    <tr>\n",
       "      <th>89</th>\n",
       "      <td>29.0</td>\n",
       "      <td>1878</td>\n",
       "      <td>Male</td>\n",
       "      <td>Yes</td>\n",
       "      <td>At Home</td>\n",
       "    </tr>\n",
       "    <tr>\n",
       "      <th>90</th>\n",
       "      <td>23.0</td>\n",
       "      <td>1622</td>\n",
       "      <td>Female</td>\n",
       "      <td>No</td>\n",
       "      <td>At Home</td>\n",
       "    </tr>\n",
       "    <tr>\n",
       "      <th>91</th>\n",
       "      <td>32.0</td>\n",
       "      <td>931</td>\n",
       "      <td>Female</td>\n",
       "      <td>No</td>\n",
       "      <td>At Home</td>\n",
       "    </tr>\n",
       "    <tr>\n",
       "      <th>92</th>\n",
       "      <td>28.0</td>\n",
       "      <td>933</td>\n",
       "      <td>Female</td>\n",
       "      <td>No</td>\n",
       "      <td>At Home</td>\n",
       "    </tr>\n",
       "    <tr>\n",
       "      <th>93</th>\n",
       "      <td>28.0</td>\n",
       "      <td>2115</td>\n",
       "      <td>Male</td>\n",
       "      <td>No</td>\n",
       "      <td>At Home</td>\n",
       "    </tr>\n",
       "    <tr>\n",
       "      <th>94</th>\n",
       "      <td>27.0</td>\n",
       "      <td>761</td>\n",
       "      <td>Male</td>\n",
       "      <td>No</td>\n",
       "      <td>Died</td>\n",
       "    </tr>\n",
       "    <tr>\n",
       "      <th>95</th>\n",
       "      <td>27.0</td>\n",
       "      <td>1193</td>\n",
       "      <td>Male</td>\n",
       "      <td>No</td>\n",
       "      <td>At Home</td>\n",
       "    </tr>\n",
       "    <tr>\n",
       "      <th>96</th>\n",
       "      <td>30.0</td>\n",
       "      <td>1302</td>\n",
       "      <td>Female</td>\n",
       "      <td>No</td>\n",
       "      <td>Died</td>\n",
       "    </tr>\n",
       "    <tr>\n",
       "      <th>97</th>\n",
       "      <td>27.0</td>\n",
       "      <td>2491</td>\n",
       "      <td>Male</td>\n",
       "      <td>No</td>\n",
       "      <td>Hospital</td>\n",
       "    </tr>\n",
       "    <tr>\n",
       "      <th>98</th>\n",
       "      <td>31.0</td>\n",
       "      <td>2161</td>\n",
       "      <td>Male</td>\n",
       "      <td>No</td>\n",
       "      <td>At Home</td>\n",
       "    </tr>\n",
       "    <tr>\n",
       "      <th>99</th>\n",
       "      <td>29.0</td>\n",
       "      <td>434</td>\n",
       "      <td>Female</td>\n",
       "      <td>No</td>\n",
       "      <td>At Home</td>\n",
       "    </tr>\n",
       "  </tbody>\n",
       "</table>\n",
       "<p>100 rows × 5 columns</p>\n",
       "</div>"
      ],
      "text/plain": [
       "    Gestational Weeks  Birthweight     Sex Congenital Anomaly Disposition\n",
       "0                29.0         1215  Female                 No    Hospital\n",
       "1                31.0         1689  Female                 No     At Home\n",
       "2                35.0         1251    Male                 No        Died\n",
       "3                24.0         1007    Male                 No        Died\n",
       "4                28.0         1936    Male                 No     At Home\n",
       "5                30.0         1940    Male                 No        Died\n",
       "6                33.0          492  Female                 No     At Home\n",
       "7                27.0         1583  Female                 No     At Home\n",
       "8                26.0         1049    Male                 No     At Home\n",
       "9                31.0          634  Female                 No     At Home\n",
       "10               36.0         2560    Male                 No     At Home\n",
       "11               27.0         1008  Female                 No     At Home\n",
       "12               28.0         1300  Female                 No     At Home\n",
       "13               30.0         1896  Female                 No     At Home\n",
       "14               24.0         1344  Female                 No     At Home\n",
       "15               24.0          474  Female                 No     Unknown\n",
       "16               29.0         2606    Male                 No        Died\n",
       "17               29.0          681  Female                 No    Hospital\n",
       "18               27.0          371    Male                 No        Died\n",
       "19               25.0         1707    Male                 No     Unknown\n",
       "20               28.0         1985    Male                 No     At Home\n",
       "21               28.0          618    Male                 No        Died\n",
       "22               27.0          579  Female                 No     At Home\n",
       "23               29.0          945  Female                 No        Died\n",
       "24               24.0          958    Male                 No     At Home\n",
       "25               21.0         1629    Male                 No     At Home\n",
       "26               26.0          503    Male                Yes     Unknown\n",
       "27               31.0          642    Male                 No    Hospital\n",
       "28               25.0         1106    Male                 No    Hospital\n",
       "29               28.0         2228    Male                 No     At Home\n",
       "..                ...          ...     ...                ...         ...\n",
       "70               25.0         1698  Female                Yes     At Home\n",
       "71               25.0         1632  Female                 No     At Home\n",
       "72               29.0         2017    Male                 No     At Home\n",
       "73               30.0         1790  Female                 No     At Home\n",
       "74               27.0         2210    Male                 No    Hospital\n",
       "75               28.0          923  Female                 No     At Home\n",
       "76               29.0         2341    Male                 No    Hospital\n",
       "77               30.0         1242  Female                 No     At Home\n",
       "78               28.0         2166  Female                 No     At Home\n",
       "79               28.0         2427    Male                 No        Died\n",
       "80               33.0         1265    Male                Yes     At Home\n",
       "81               24.0         2327  Female                 No        Died\n",
       "82               25.0          826  Female                 No     At Home\n",
       "83               27.0          986  Female                 No     At Home\n",
       "84               22.0          802  Female                 No     At Home\n",
       "85               25.0         1054  Female                 No     At Home\n",
       "86               30.0         1219  Female                 No        Died\n",
       "87               26.0          717  Female                 No     At Home\n",
       "88               26.0         2053    Male                 No        Died\n",
       "89               29.0         1878    Male                Yes     At Home\n",
       "90               23.0         1622  Female                 No     At Home\n",
       "91               32.0          931  Female                 No     At Home\n",
       "92               28.0          933  Female                 No     At Home\n",
       "93               28.0         2115    Male                 No     At Home\n",
       "94               27.0          761    Male                 No        Died\n",
       "95               27.0         1193    Male                 No     At Home\n",
       "96               30.0         1302  Female                 No        Died\n",
       "97               27.0         2491    Male                 No    Hospital\n",
       "98               31.0         2161    Male                 No     At Home\n",
       "99               29.0          434  Female                 No     At Home\n",
       "\n",
       "[100 rows x 5 columns]"
      ]
     },
     "execution_count": 10,
     "metadata": {},
     "output_type": "execute_result"
    }
   ],
   "source": [
    "# Populating the Dataset\n",
    "# using my trial and error example above, I have used this structure to create the dataset\n",
    "\n",
    "df = pd.DataFrame({\"Gestational Weeks\" : gw, \"Birthweight\" : bw, \"Sex\" : s, \"Congenital Anomaly\" : ca, \"Disposition\" : dip})\n",
    "df"
   ]
  },
  {
   "cell_type": "code",
   "execution_count": 11,
   "metadata": {},
   "outputs": [
    {
     "name": "stdout",
     "output_type": "stream",
     "text": [
      "(100, 5)\n"
     ]
    }
   ],
   "source": [
    "import pandas as pd\n",
    "print(df.shape) # shape - this tells quantity of rows and columns in the dataset"
   ]
  },
  {
   "cell_type": "code",
   "execution_count": 12,
   "metadata": {},
   "outputs": [
    {
     "name": "stdout",
     "output_type": "stream",
     "text": [
      "   Gestational Weeks  Birthweight     Sex Congenital Anomaly Disposition\n",
      "0               29.0         1215  Female                 No    Hospital\n",
      "1               31.0         1689  Female                 No     At Home\n",
      "2               35.0         1251    Male                 No        Died\n",
      "3               24.0         1007    Male                 No        Died\n",
      "4               28.0         1936    Male                 No     At Home\n",
      "5               30.0         1940    Male                 No        Died\n",
      "6               33.0          492  Female                 No     At Home\n",
      "7               27.0         1583  Female                 No     At Home\n",
      "8               26.0         1049    Male                 No     At Home\n",
      "9               31.0          634  Female                 No     At Home\n"
     ]
    }
   ],
   "source": [
    "print(df.head(10)) # head - prints first ten rows of the dataset"
   ]
  },
  {
   "cell_type": "code",
   "execution_count": 13,
   "metadata": {},
   "outputs": [
    {
     "name": "stdout",
     "output_type": "stream",
     "text": [
      "       Gestational Weeks  Birthweight\n",
      "count              100.0        100.0\n",
      "mean                28.0       1454.0\n",
      "std                  3.0        676.0\n",
      "min                 21.0        371.0\n",
      "25%                 26.0        834.0\n",
      "50%                 28.0       1432.0\n",
      "75%                 30.0       2023.0\n",
      "max                 36.0       2606.0\n"
     ]
    }
   ],
   "source": [
    "# description - prints keys stats on the dataset\n",
    "print(df.describe().round(0))"
   ]
  },
  {
   "cell_type": "code",
   "execution_count": 14,
   "metadata": {},
   "outputs": [
    {
     "data": {
      "text/html": [
       "<div>\n",
       "<style scoped>\n",
       "    .dataframe tbody tr th:only-of-type {\n",
       "        vertical-align: middle;\n",
       "    }\n",
       "\n",
       "    .dataframe tbody tr th {\n",
       "        vertical-align: top;\n",
       "    }\n",
       "\n",
       "    .dataframe thead th {\n",
       "        text-align: right;\n",
       "    }\n",
       "</style>\n",
       "<table border=\"1\" class=\"dataframe\">\n",
       "  <thead>\n",
       "    <tr style=\"text-align: right;\">\n",
       "      <th></th>\n",
       "      <th>Gestational Weeks</th>\n",
       "      <th>Birthweight</th>\n",
       "      <th>Sex</th>\n",
       "      <th>Congenital Anomaly</th>\n",
       "      <th>Disposition</th>\n",
       "    </tr>\n",
       "  </thead>\n",
       "  <tbody>\n",
       "    <tr>\n",
       "      <th>count</th>\n",
       "      <td>100.000000</td>\n",
       "      <td>100.000000</td>\n",
       "      <td>100</td>\n",
       "      <td>100</td>\n",
       "      <td>100</td>\n",
       "    </tr>\n",
       "    <tr>\n",
       "      <th>unique</th>\n",
       "      <td>NaN</td>\n",
       "      <td>NaN</td>\n",
       "      <td>2</td>\n",
       "      <td>2</td>\n",
       "      <td>4</td>\n",
       "    </tr>\n",
       "    <tr>\n",
       "      <th>top</th>\n",
       "      <td>NaN</td>\n",
       "      <td>NaN</td>\n",
       "      <td>Female</td>\n",
       "      <td>No</td>\n",
       "      <td>At Home</td>\n",
       "    </tr>\n",
       "    <tr>\n",
       "      <th>freq</th>\n",
       "      <td>NaN</td>\n",
       "      <td>NaN</td>\n",
       "      <td>54</td>\n",
       "      <td>94</td>\n",
       "      <td>61</td>\n",
       "    </tr>\n",
       "    <tr>\n",
       "      <th>mean</th>\n",
       "      <td>27.980000</td>\n",
       "      <td>1453.520000</td>\n",
       "      <td>NaN</td>\n",
       "      <td>NaN</td>\n",
       "      <td>NaN</td>\n",
       "    </tr>\n",
       "    <tr>\n",
       "      <th>std</th>\n",
       "      <td>3.031751</td>\n",
       "      <td>676.034374</td>\n",
       "      <td>NaN</td>\n",
       "      <td>NaN</td>\n",
       "      <td>NaN</td>\n",
       "    </tr>\n",
       "    <tr>\n",
       "      <th>min</th>\n",
       "      <td>21.000000</td>\n",
       "      <td>371.000000</td>\n",
       "      <td>NaN</td>\n",
       "      <td>NaN</td>\n",
       "      <td>NaN</td>\n",
       "    </tr>\n",
       "    <tr>\n",
       "      <th>25%</th>\n",
       "      <td>26.000000</td>\n",
       "      <td>833.750000</td>\n",
       "      <td>NaN</td>\n",
       "      <td>NaN</td>\n",
       "      <td>NaN</td>\n",
       "    </tr>\n",
       "    <tr>\n",
       "      <th>50%</th>\n",
       "      <td>28.000000</td>\n",
       "      <td>1432.000000</td>\n",
       "      <td>NaN</td>\n",
       "      <td>NaN</td>\n",
       "      <td>NaN</td>\n",
       "    </tr>\n",
       "    <tr>\n",
       "      <th>75%</th>\n",
       "      <td>30.000000</td>\n",
       "      <td>2023.000000</td>\n",
       "      <td>NaN</td>\n",
       "      <td>NaN</td>\n",
       "      <td>NaN</td>\n",
       "    </tr>\n",
       "    <tr>\n",
       "      <th>max</th>\n",
       "      <td>36.000000</td>\n",
       "      <td>2606.000000</td>\n",
       "      <td>NaN</td>\n",
       "      <td>NaN</td>\n",
       "      <td>NaN</td>\n",
       "    </tr>\n",
       "  </tbody>\n",
       "</table>\n",
       "</div>"
      ],
      "text/plain": [
       "        Gestational Weeks  Birthweight     Sex Congenital Anomaly Disposition\n",
       "count          100.000000   100.000000     100                100         100\n",
       "unique                NaN          NaN       2                  2           4\n",
       "top                   NaN          NaN  Female                 No     At Home\n",
       "freq                  NaN          NaN      54                 94          61\n",
       "mean            27.980000  1453.520000     NaN                NaN         NaN\n",
       "std              3.031751   676.034374     NaN                NaN         NaN\n",
       "min             21.000000   371.000000     NaN                NaN         NaN\n",
       "25%             26.000000   833.750000     NaN                NaN         NaN\n",
       "50%             28.000000  1432.000000     NaN                NaN         NaN\n",
       "75%             30.000000  2023.000000     NaN                NaN         NaN\n",
       "max             36.000000  2606.000000     NaN                NaN         NaN"
      ]
     },
     "execution_count": 14,
     "metadata": {},
     "output_type": "execute_result"
    }
   ],
   "source": [
    "df.describe(include='all') #Describing all columns of a DataFrame regardless of data type."
   ]
  },
  {
   "cell_type": "code",
   "execution_count": 15,
   "metadata": {},
   "outputs": [
    {
     "data": {
      "text/html": [
       "<div>\n",
       "<style scoped>\n",
       "    .dataframe tbody tr th:only-of-type {\n",
       "        vertical-align: middle;\n",
       "    }\n",
       "\n",
       "    .dataframe tbody tr th {\n",
       "        vertical-align: top;\n",
       "    }\n",
       "\n",
       "    .dataframe thead th {\n",
       "        text-align: right;\n",
       "    }\n",
       "</style>\n",
       "<table border=\"1\" class=\"dataframe\">\n",
       "  <thead>\n",
       "    <tr style=\"text-align: right;\">\n",
       "      <th></th>\n",
       "      <th>Sex</th>\n",
       "      <th>Congenital Anomaly</th>\n",
       "      <th>Disposition</th>\n",
       "    </tr>\n",
       "  </thead>\n",
       "  <tbody>\n",
       "    <tr>\n",
       "      <th>count</th>\n",
       "      <td>100</td>\n",
       "      <td>100</td>\n",
       "      <td>100</td>\n",
       "    </tr>\n",
       "    <tr>\n",
       "      <th>unique</th>\n",
       "      <td>2</td>\n",
       "      <td>2</td>\n",
       "      <td>4</td>\n",
       "    </tr>\n",
       "    <tr>\n",
       "      <th>top</th>\n",
       "      <td>Female</td>\n",
       "      <td>No</td>\n",
       "      <td>At Home</td>\n",
       "    </tr>\n",
       "    <tr>\n",
       "      <th>freq</th>\n",
       "      <td>54</td>\n",
       "      <td>94</td>\n",
       "      <td>61</td>\n",
       "    </tr>\n",
       "  </tbody>\n",
       "</table>\n",
       "</div>"
      ],
      "text/plain": [
       "           Sex Congenital Anomaly Disposition\n",
       "count      100                100         100\n",
       "unique       2                  2           4\n",
       "top     Female                 No     At Home\n",
       "freq        54                 94          61"
      ]
     },
     "execution_count": 15,
     "metadata": {},
     "output_type": "execute_result"
    }
   ],
   "source": [
    "df.describe(include=[np.object]) #Including only string columns in a DataFrame description"
   ]
  },
  {
   "cell_type": "code",
   "execution_count": 16,
   "metadata": {},
   "outputs": [
    {
     "data": {
      "text/html": [
       "<div>\n",
       "<style scoped>\n",
       "    .dataframe tbody tr th:only-of-type {\n",
       "        vertical-align: middle;\n",
       "    }\n",
       "\n",
       "    .dataframe tbody tr th {\n",
       "        vertical-align: top;\n",
       "    }\n",
       "\n",
       "    .dataframe thead th {\n",
       "        text-align: right;\n",
       "    }\n",
       "</style>\n",
       "<table border=\"1\" class=\"dataframe\">\n",
       "  <thead>\n",
       "    <tr style=\"text-align: right;\">\n",
       "      <th></th>\n",
       "      <th>Sex</th>\n",
       "      <th>Congenital Anomaly</th>\n",
       "      <th>Disposition</th>\n",
       "    </tr>\n",
       "  </thead>\n",
       "  <tbody>\n",
       "    <tr>\n",
       "      <th>count</th>\n",
       "      <td>100</td>\n",
       "      <td>100</td>\n",
       "      <td>100</td>\n",
       "    </tr>\n",
       "    <tr>\n",
       "      <th>unique</th>\n",
       "      <td>2</td>\n",
       "      <td>2</td>\n",
       "      <td>4</td>\n",
       "    </tr>\n",
       "    <tr>\n",
       "      <th>top</th>\n",
       "      <td>Female</td>\n",
       "      <td>No</td>\n",
       "      <td>At Home</td>\n",
       "    </tr>\n",
       "    <tr>\n",
       "      <th>freq</th>\n",
       "      <td>54</td>\n",
       "      <td>94</td>\n",
       "      <td>61</td>\n",
       "    </tr>\n",
       "  </tbody>\n",
       "</table>\n",
       "</div>"
      ],
      "text/plain": [
       "           Sex Congenital Anomaly Disposition\n",
       "count      100                100         100\n",
       "unique       2                  2           4\n",
       "top     Female                 No     At Home\n",
       "freq        54                 94          61"
      ]
     },
     "execution_count": 16,
     "metadata": {},
     "output_type": "execute_result"
    }
   ],
   "source": [
    " df.describe(exclude=[np.number]) #Excluding numeric columns from a DataFrame description - same result as code above"
   ]
  },
  {
   "cell_type": "code",
   "execution_count": 17,
   "metadata": {},
   "outputs": [
    {
     "data": {
      "text/plain": [
       "Sex\n",
       "Female    54\n",
       "Male      46\n",
       "dtype: int64"
      ]
     },
     "execution_count": 17,
     "metadata": {},
     "output_type": "execute_result"
    }
   ],
   "source": [
    "df.groupby('Sex').size()\n"
   ]
  },
  {
   "cell_type": "code",
   "execution_count": 18,
   "metadata": {},
   "outputs": [
    {
     "data": {
      "text/plain": [
       "Congenital Anomaly\n",
       "No     94\n",
       "Yes     6\n",
       "dtype: int64"
      ]
     },
     "execution_count": 18,
     "metadata": {},
     "output_type": "execute_result"
    }
   ],
   "source": [
    "df.groupby('Congenital Anomaly').size()\n"
   ]
  },
  {
   "cell_type": "code",
   "execution_count": 19,
   "metadata": {},
   "outputs": [
    {
     "data": {
      "text/plain": [
       "Disposition\n",
       "At Home     61\n",
       "Died        23\n",
       "Hospital    10\n",
       "Unknown      6\n",
       "dtype: int64"
      ]
     },
     "execution_count": 19,
     "metadata": {},
     "output_type": "execute_result"
    }
   ],
   "source": [
    "df.groupby('Disposition').size()\n",
    "\n"
   ]
  },
  {
   "cell_type": "code",
   "execution_count": 20,
   "metadata": {},
   "outputs": [
    {
     "name": "stdout",
     "output_type": "stream",
     "text": [
      "       Gestational Weeks  Birthweight\n",
      "count          61.000000    61.000000\n",
      "mean           28.180328  1467.901639\n",
      "std             3.237840   640.759047\n",
      "min            21.000000   399.000000\n",
      "25%            26.000000   923.000000\n",
      "50%            28.000000  1583.000000\n",
      "75%            30.000000  1936.000000\n",
      "max            36.000000  2566.000000\n",
      "       Gestational Weeks  Birthweight\n",
      "count          23.000000    23.000000\n",
      "mean           27.565217  1501.521739\n",
      "std             2.776952   696.865050\n",
      "min            23.000000   371.000000\n",
      "25%            26.000000   976.000000\n",
      "50%            27.000000  1302.000000\n",
      "75%            29.500000  2114.500000\n",
      "max            35.000000  2606.000000\n",
      "       Gestational Weeks  Birthweight\n",
      "count          10.000000    10.000000\n",
      "mean           28.800000  1473.000000\n",
      "std             2.394438   813.303005\n",
      "min            25.000000   559.000000\n",
      "25%            27.000000   759.250000\n",
      "50%            29.000000  1160.500000\n",
      "75%            30.500000  2308.250000\n",
      "max            33.000000  2491.000000\n",
      "       Gestational Weeks  Birthweight\n",
      "count           6.000000     6.000000\n",
      "mean           26.166667  1090.833333\n",
      "std             2.316607   789.357059\n",
      "min            24.000000   474.000000\n",
      "25%            24.250000   518.750000\n",
      "50%            25.500000   733.500000\n",
      "75%            28.250000  1505.500000\n",
      "max            29.000000  2394.000000\n"
     ]
    }
   ],
   "source": [
    "#Create 3 DataFrame for each Disposition Outcome\n",
    "# idea from https://www.kaggle.com/abhishekkrg/python-iris-data-visualization-and-explanation\n",
    "# Gather data by analysing the variables that give a certain outcome (disposition)\n",
    "AtHome=df[df['Disposition']=='At Home']\n",
    "Died=df[df['Disposition']=='Died']\n",
    "Hospital=df[df['Disposition']=='Hospital']\n",
    "Unknown=df[df['Disposition']=='Unknown']\n",
    "\n",
    "print(AtHome.describe())\n",
    "print(Died.describe())\n",
    "print(Hospital.describe())\n",
    "print(Unknown.describe())\n"
   ]
  },
  {
   "cell_type": "code",
   "execution_count": 21,
   "metadata": {},
   "outputs": [],
   "source": [
    "import matplotlib.pyplot as plt # importing matplotlib to plot the data"
   ]
  },
  {
   "cell_type": "code",
   "execution_count": 22,
   "metadata": {},
   "outputs": [
    {
     "data": {
      "text/plain": [
       "Text(0.5,1,'Gestational Weeks of Infant')"
      ]
     },
     "execution_count": 22,
     "metadata": {},
     "output_type": "execute_result"
    },
    {
     "data": {
      "image/png": "[encoded data removed]",
      "text/plain": [
       "<Figure size 432x288 with 1 Axes>"
      ]
     },
     "metadata": {
      "needs_background": "light"
     },
     "output_type": "display_data"
    }
   ],
   "source": [
    "plt.plot(gw) # Plot the spead of gestational weeks of each infant\n",
    "plt.ylabel(\"Gest. Weeks\") # name the y label\n",
    "plt.title(\"Gestational Weeks of Infant\") # give the plot a title"
   ]
  },
  {
   "cell_type": "code",
   "execution_count": 23,
   "metadata": {},
   "outputs": [
    {
     "data": {
      "text/plain": [
       "Text(0.5,1,'Birthweight of Infant')"
      ]
     },
     "execution_count": 23,
     "metadata": {},
     "output_type": "execute_result"
    },
    {
     "data": {
      "image/png": "[encoded data removed]",
      "text/plain": [
       "<Figure size 432x288 with 1 Axes>"
      ]
     },
     "metadata": {
      "needs_background": "light"
     },
     "output_type": "display_data"
    }
   ],
   "source": [
    "plt.plot(bw) # Plot the spead of birth weight of each infant\n",
    "plt.ylabel(\"Birthweight\") # name the y label\n",
    "plt.title(\"Birthweight of Infant\") # give the plot a title"
   ]
  },
  {
   "cell_type": "code",
   "execution_count": 24,
   "metadata": {},
   "outputs": [
    {
     "data": {
      "text/plain": [
       "Text(0.5,1,'Gestational Weeks of Infant')"
      ]
     },
     "execution_count": 24,
     "metadata": {},
     "output_type": "execute_result"
    },
    {
     "data": {
      "image/png": "[encoded data removed]",
      "text/plain": [
       "<Figure size 432x288 with 1 Axes>"
      ]
     },
     "metadata": {
      "needs_background": "light"
     },
     "output_type": "display_data"
    }
   ],
   "source": [
    "# better to read this data on a histogram\n",
    "plt.hist(gw)\n",
    "plt.xlabel(\"Gest. Weeks\") # name the y label\n",
    "plt.ylabel(\"No. of Infants\")\n",
    "plt.title(\"Gestational Weeks of Infant\") # give the plot a title"
   ]
  },
  {
   "cell_type": "code",
   "execution_count": 25,
   "metadata": {},
   "outputs": [
    {
     "data": {
      "text/plain": [
       "Text(0.5,1,'Birthweight of Infant')"
      ]
     },
     "execution_count": 25,
     "metadata": {},
     "output_type": "execute_result"
    },
    {
     "data": {
      "image/png": "[encoded data removed]",
      "text/plain": [
       "<Figure size 432x288 with 1 Axes>"
      ]
     },
     "metadata": {
      "needs_background": "light"
     },
     "output_type": "display_data"
    }
   ],
   "source": [
    "# better to read this data on a histogram\n",
    "plt.hist(bw)\n",
    "plt.xlabel(\"Birthweight\") # name the y label\n",
    "plt.ylabel(\"No. of Infants\")\n",
    "plt.title(\"Birthweight of Infant\") # give the plot a title"
   ]
  },
  {
   "cell_type": "code",
   "execution_count": 26,
   "metadata": {},
   "outputs": [
    {
     "data": {
      "text/plain": [
       "Text(0,0.5,'No. of Infants')"
      ]
     },
     "execution_count": 26,
     "metadata": {},
     "output_type": "execute_result"
    },
    {
     "data": {
      "image/png": "[encoded data removed]",
      "text/plain": [
       "<Figure size 432x288 with 2 Axes>"
      ]
     },
     "metadata": {
      "needs_background": "light"
     },
     "output_type": "display_data"
    }
   ],
   "source": [
    "plt.subplot(2, 1, 1)\n",
    "plt.hist(gw)\n",
    "plt.xlabel(\"Gest. Weeks\") # name the y label\n",
    "plt.ylabel(\"No. of Infants\")\n",
    "\n",
    "\n",
    "plt.subplot(2, 1, 2)\n",
    "plt.hist(bw)\n",
    "plt.xlabel(\"Birthweight\") # name the y label\n",
    "plt.ylabel(\"No. of Infants\")\n"
   ]
  },
  {
   "cell_type": "code",
   "execution_count": 27,
   "metadata": {},
   "outputs": [
    {
     "data": {
      "image/png": "[encoded data removed]",
      "text/plain": [
       "<Figure size 432x288 with 4 Axes>"
      ]
     },
     "metadata": {
      "needs_background": "light"
     },
     "output_type": "display_data"
    },
    {
     "data": {
      "image/png": "[encoded data removed]",
      "text/plain": [
       "<Figure size 432x288 with 2 Axes>"
      ]
     },
     "metadata": {
      "needs_background": "light"
     },
     "output_type": "display_data"
    },
    {
     "data": {
      "image/png": "[encoded data removed]",
      "text/plain": [
       "<Figure size 432x288 with 4 Axes>"
      ]
     },
     "metadata": {
      "needs_background": "light"
     },
     "output_type": "display_data"
    }
   ],
   "source": [
    "# ref: https://github.com/ClaireDrummond/GMITProject2018/blob/master/Graphs.py\n",
    "from pandas.plotting import scatter_matrix\n",
    "# box plots\n",
    "df.plot(kind='box', subplots=True, layout=(2,2), sharex=False, sharey=False)\n",
    "plt.show()\n",
    "\n",
    "# histograms \n",
    "df.hist()\n",
    "plt.show()\n",
    "\n",
    "#scatter plot matrix\n",
    "scatter_matrix(df)\n",
    "plt.show()\n",
    "\n",
    "\n",
    "\n"
   ]
  },
  {
   "cell_type": "code",
   "execution_count": 28,
   "metadata": {},
   "outputs": [
    {
     "data": {
      "image/png": "[encoded data removed]",
      "text/plain": [
       "<Figure size 432x288 with 4 Axes>"
      ]
     },
     "metadata": {
      "needs_background": "light"
     },
     "output_type": "display_data"
    },
    {
     "data": {
      "image/png": "[encoded data removed]",
      "text/plain": [
       "<Figure size 432x288 with 2 Axes>"
      ]
     },
     "metadata": {
      "needs_background": "light"
     },
     "output_type": "display_data"
    },
    {
     "data": {
      "image/png": "[encoded data removed]",
      "text/plain": [
       "<Figure size 432x288 with 4 Axes>"
      ]
     },
     "metadata": {
      "needs_background": "light"
     },
     "output_type": "display_data"
    }
   ],
   "source": [
    "# box plots\n",
    "AtHome.plot(kind='box', subplots=True, layout=(2,2), sharex=False, sharey=False)\n",
    "plt.show()\n",
    "\n",
    "# histograms \n",
    "AtHome.hist()\n",
    "plt.show()\n",
    "\n",
    "#scatter plot matrix\n",
    "scatter_matrix(AtHome)\n",
    "plt.show()\n",
    "\n"
   ]
  },
  {
   "cell_type": "code",
   "execution_count": 32,
   "metadata": {},
   "outputs": [
    {
     "data": {
      "image/png": "[encoded data removed]",
      "text/plain": [
       "<Figure size 432x288 with 4 Axes>"
      ]
     },
     "metadata": {
      "needs_background": "light"
     },
     "output_type": "display_data"
    },
    {
     "data": {
      "image/png": "[encoded data removed]",
      "text/plain": [
       "<Figure size 432x288 with 2 Axes>"
      ]
     },
     "metadata": {
      "needs_background": "light"
     },
     "output_type": "display_data"
    },
    {
     "data": {
      "image/png": "[encoded data removed]",
      "text/plain": [
       "<Figure size 432x288 with 4 Axes>"
      ]
     },
     "metadata": {
      "needs_background": "light"
     },
     "output_type": "display_data"
    }
   ],
   "source": [
    "# box plots\n",
    "Hospital.plot(kind='box', subplots=True, layout=(2,2), sharex=False, sharey=False)\n",
    "plt.show()\n",
    "\n",
    "# histograms \n",
    "Hospital.hist()\n",
    "plt.show()\n",
    "\n",
    "#scatter plot matrix\n",
    "scatter_matrix(Hospital)\n",
    "plt.show()\n",
    "\n"
   ]
  },
  {
   "cell_type": "code",
   "execution_count": 33,
   "metadata": {},
   "outputs": [
    {
     "data": {
      "image/png": "[encoded data removed]",
      "text/plain": [
       "<Figure size 432x288 with 4 Axes>"
      ]
     },
     "metadata": {
      "needs_background": "light"
     },
     "output_type": "display_data"
    },
    {
     "data": {
      "image/png": "[encoded data removed]",
      "text/plain": [
       "<Figure size 432x288 with 2 Axes>"
      ]
     },
     "metadata": {
      "needs_background": "light"
     },
     "output_type": "display_data"
    },
    {
     "data": {
      "image/png": "[encoded data removed]",
      "text/plain": [
       "<Figure size 432x288 with 4 Axes>"
      ]
     },
     "metadata": {
      "needs_background": "light"
     },
     "output_type": "display_data"
    }
   ],
   "source": [
    "# box plots\n",
    "Unknown.plot(kind='box', subplots=True, layout=(2,2), sharex=False, sharey=False)\n",
    "plt.show()\n",
    "\n",
    "# histograms \n",
    "Unknown.hist()\n",
    "plt.show()\n",
    "\n",
    "#scatter plot matrix\n",
    "scatter_matrix(Unknown)\n",
    "plt.show()\n",
    "\n"
   ]
  },
  {
   "cell_type": "code",
   "execution_count": 34,
   "metadata": {},
   "outputs": [
    {
     "data": {
      "text/plain": [
       "<matplotlib.axes._subplots.AxesSubplot at 0x16961d7dcf8>"
      ]
     },
     "execution_count": 34,
     "metadata": {},
     "output_type": "execute_result"
    },
    {
     "data": {
      "image/png": "[encoded data removed]",
      "text/plain": [
       "<Figure size 432x288 with 1 Axes>"
      ]
     },
     "metadata": {
      "needs_background": "light"
     },
     "output_type": "display_data"
    }
   ],
   "source": [
    "# ref https://datacamp-community-prod.s3.amazonaws.com/f9f06e72-519a-4722-9912-b5de742dbac4\n",
    "import seaborn as sns\n",
    "sns.stripplot(dip, bw)"
   ]
  },
  {
   "cell_type": "code",
   "execution_count": 35,
   "metadata": {},
   "outputs": [
    {
     "data": {
      "text/plain": [
       "<matplotlib.axes._subplots.AxesSubplot at 0x16961a5e208>"
      ]
     },
     "execution_count": 35,
     "metadata": {},
     "output_type": "execute_result"
    },
    {
     "data": {
      "image/png": "[encoded data removed]",
      "text/plain": [
       "<Figure size 432x288 with 1 Axes>"
      ]
     },
     "metadata": {
      "needs_background": "light"
     },
     "output_type": "display_data"
    }
   ],
   "source": [
    "sns.stripplot(dip, gw)"
   ]
  },
  {
   "cell_type": "code",
   "execution_count": 36,
   "metadata": {},
   "outputs": [
    {
     "data": {
      "text/plain": [
       "<matplotlib.axes._subplots.AxesSubplot at 0x16961a7e898>"
      ]
     },
     "execution_count": 36,
     "metadata": {},
     "output_type": "execute_result"
    },
    {
     "data": {
      "image/png": "[encoded data removed]",
      "text/plain": [
       "<Figure size 432x288 with 1 Axes>"
      ]
     },
     "metadata": {
      "needs_background": "light"
     },
     "output_type": "display_data"
    }
   ],
   "source": [
    "sns.countplot(dip, palette=\"Greens_d\")\n"
   ]
  },
  {
   "cell_type": "code",
   "execution_count": 37,
   "metadata": {},
   "outputs": [
    {
     "data": {
      "text/plain": [
       "<matplotlib.axes._subplots.AxesSubplot at 0x16961c8a0f0>"
      ]
     },
     "execution_count": 37,
     "metadata": {},
     "output_type": "execute_result"
    },
    {
     "data": {
      "image/png": "[encoded data removed]",
      "text/plain": [
       "<Figure size 432x288 with 1 Axes>"
      ]
     },
     "metadata": {
      "needs_background": "light"
     },
     "output_type": "display_data"
    }
   ],
   "source": [
    "sns.countplot(ca, palette=\"Greens_d\")"
   ]
  },
  {
   "cell_type": "code",
   "execution_count": 38,
   "metadata": {},
   "outputs": [
    {
     "data": {
      "text/plain": [
       "<matplotlib.axes._subplots.AxesSubplot at 0x16961967f60>"
      ]
     },
     "execution_count": 38,
     "metadata": {},
     "output_type": "execute_result"
    },
    {
     "data": {
      "image/png": "[encoded data removed]",
      "text/plain": [
       "<Figure size 432x288 with 1 Axes>"
      ]
     },
     "metadata": {
      "needs_background": "light"
     },
     "output_type": "display_data"
    }
   ],
   "source": [
    "sns.countplot(s, palette=\"Greens_d\")"
   ]
  },
  {
   "cell_type": "code",
   "execution_count": 57,
   "metadata": {},
   "outputs": [
    {
     "data": {
      "image/png": "[encoded data removed]",
      "text/plain": [
       "<Figure size 432x288 with 1 Axes>"
      ]
     },
     "metadata": {},
     "output_type": "display_data"
    }
   ],
   "source": [
    "ax = sns.countplot(x=\"Disposition\", hue=\"Congenital Anomaly\", data=df)"
   ]
  },
  {
   "cell_type": "code",
   "execution_count": 58,
   "metadata": {},
   "outputs": [
    {
     "data": {
      "image/png": "[encoded data removed]",
      "text/plain": [
       "<Figure size 432x288 with 1 Axes>"
      ]
     },
     "metadata": {},
     "output_type": "display_data"
    }
   ],
   "source": [
    "ax = sns.countplot(x=\"Disposition\", hue=\"Sex\", data=df)"
   ]
  },
  {
   "cell_type": "code",
   "execution_count": 52,
   "metadata": {},
   "outputs": [
    {
     "data": {
      "image/png": "[encoded data removed]",
      "text/plain": [
       "<Figure size 432x288 with 1 Axes>"
      ]
     },
     "metadata": {},
     "output_type": "display_data"
    }
   ],
   "source": [
    "ax = sns.countplot(x=\"Congenital Anomaly\", hue=\"Sex\", data=df)"
   ]
  },
  {
   "cell_type": "code",
   "execution_count": 51,
   "metadata": {},
   "outputs": [
    {
     "data": {
      "text/plain": [
       "<matplotlib.axes._subplots.AxesSubplot at 0x16963247828>"
      ]
     },
     "execution_count": 51,
     "metadata": {},
     "output_type": "execute_result"
    },
    {
     "data": {
      "image/png": "[encoded data removed]",
      "text/plain": [
       "<Figure size 432x288 with 1 Axes>"
      ]
     },
     "metadata": {},
     "output_type": "display_data"
    }
   ],
   "source": [
    "\n",
    "sns.set(style=\"darkgrid\")\n",
    "sns.countplot(x=\"Sex\", data=Died)\n",
    "sns.countplot(x=\"Sex\", data=AtHome)\n",
    "sns.countplot(x=\"Sex\", data=Hospital)\n",
    "sns.countplot(x=\"Sex\", data=Unknown)\n",
    "\n"
   ]
  },
  {
   "cell_type": "code",
   "execution_count": null,
   "metadata": {},
   "outputs": [],
   "source": [
    "\n",
    "\n"
   ]
  },
  {
   "cell_type": "code",
   "execution_count": null,
   "metadata": {},
   "outputs": [],
   "source": []
  }
 ],
 "metadata": {
  "kernelspec": {
   "display_name": "Python 3",
   "language": "python",
   "name": "python3"
  },
  "language_info": {
   "codemirror_mode": {
    "name": "ipython",
    "version": 3
   },
   "file_extension": ".py",
   "mimetype": "text/x-python",
   "name": "python",
   "nbconvert_exporter": "python",
   "pygments_lexer": "ipython3",
   "version": "3.6.6"
  }
 },
 "nbformat": 4,
 "nbformat_minor": 2
}
