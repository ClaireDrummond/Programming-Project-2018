{
 "cells": [
  {
   "cell_type": "markdown",
   "metadata": {},
   "source": [
    "# Model & Synthesize Data\n",
    "\n",
    "The purpose of this Jupyter Notebook is to complete the task of modeling and synthesizing a data set.  To choose a real-world phenomenon that can be measured and for which you could collect at least one-hundred data points across at least four different variables.\n",
    "\n",
    "My focus for this project is in relation to the Vermont Oxford Network.  Vermont Oxford Network (VON) is a nonprofit voluntary collaboration of health care professionals working together as an interdisciplinary community to change the landscape of neonatal care. Founded in 1988, VON is now comprised of teams of health professionals representing neonatal intensive care units and level I and II care centers around the world, in support of the mission to improve the quality and safety of medical care for newborn infants and their families through a coordinated program of research, education, and quality improvement projects. (ref: https://public.vtoxford.org/about-us/)"
   ]
  },
  {
   "cell_type": "markdown",
   "metadata": {},
   "source": [
    "The National Perinatal Epidemiology Centre, Department of Obstetrics and Gynaecology, UCC, published a report in 2018 \"Mortality Risk Amongst Very Low Birth Weight Infants Born in the Republic of Ireland\" (ref: \n",
    "https://www.ucc.ie/en/media/research/nationalperinatalepidemiologycentre/annualreports/MortalityRiskAmongstVeryLowBirthWeightInfantsintheRepublicofIrelandReport2014-2016.pdf).\n",
    "\n",
    "In 2014-2016, 19 neonatal units submitted data to the VON’s VLBW database. The inclusion criteria were as follows:\n",
    "'Any infant who is born alive at your hospital and whose birth weight is between 401 and 1500 grams OR whose gestational age is between 22 weeks 0 days and 29 weeks 6 days (inclusive), regardless of where in your hospital the infant receives care'\n",
    "\n",
    "This notebook aims to sythesise data to reflect the key variables & findings in this report"
   ]
  },
  {
   "cell_type": "markdown",
   "metadata": {},
   "source": [
    "# The Summary Approach\n",
    "\n",
    "In order to complete the task of synthesizing data which assesses the mortality risk amongst very low birth weight babies, I have decided to take the following approach:\n",
    "\n",
    " - Explain the Variables\n",
    " - Generate a Data Frame Structure\n",
    " - Create the DF variables\n",
    " - Analyise & plot the dataset and highlight key findings"
   ]
  },
  {
   "cell_type": "markdown",
   "metadata": {},
   "source": [
    "# The Variables - Explained\n",
    "\n",
    "## Gestational Weeks\n",
    "Gestational age is the common term used during pregnancy to describe how far along the pregnancy is. It is measured in weeks, from the first day of the woman's last menstrual cycle to the current date. A normal pregnancy can range from 38 to 42 weeks. Infants born before 37 weeks are considered premature. The outcome of this variable will be most likely between 22 - 32 weeks. (ref:https://medlineplus.gov/ency/article/002367.htm)\n",
    "\n",
    "## Birthweight\n",
    "Birth weight is the first weight of your baby, taken just after he or she is born. A low birth weight is less than 2,640 grams. A high birth weight is more than 4,000 grams. The expected result of this variable will see most weights less than 5.5 pounds.  \n",
    "\n",
    "The gestational ages of the VLBW (Very Low Birth Weight) infants ranged from 21 weeks to 33 weeks and their birth weights ranged from 360g to 2,640g\n",
    "(ref:https://www.ucc.ie/en/media/research/nationalperinatalepidemiologycentre/annualreports/MortalityRiskAmongstVeryLowBirthWeightInfantsintheRepublicofIrelandReport2014-2016.pdf)\n",
    "\n",
    "## Congenital Anomaly \n",
    "Congenital anomalies are also known as birth defects, congenital disorders or congenital malformations. If the infant was born with a congenital anomaly, it was recored. Yes or No.\n",
    "\n",
    "## Disposition at 1 Year\n",
    "Did the infant live or die.  The outcome is recorded one year after birth.  There are 4 possible outcomes:\n",
    "- Died: Unfortunately self explanatory  \n",
    "- Home: The infant has been discharged from hospital and is at home\n",
    "- Still Hospitalised: The infant is still under medical care in hospital\n",
    "- Unkown: no contact with the infant's family so status of infant is unknown \n",
    " \n",
    "\n"
   ]
  },
  {
   "cell_type": "markdown",
   "metadata": {},
   "source": [
    "# How to create a Dataset "
   ]
  },
  {
   "cell_type": "code",
   "execution_count": 1,
   "metadata": {},
   "outputs": [],
   "source": [
    "# create a dataframe structure by starting with the column headings\n",
    "import pandas as pd #use pandas to create the dataframe\n",
    "import numpy as np # use numpy to generate the random variables\n",
    "df = pd.DataFrame(columns= [\"Gestational Weeks\", \"Birthweight\", \"Sex\", \"Congenital Anomaly\", \"Disposition at 1 Year\"]) #gives headings to each of the columns"
   ]
  },
  {
   "cell_type": "code",
   "execution_count": 2,
   "metadata": {},
   "outputs": [
    {
     "data": {
      "text/html": [
       "<div>\n",
       "<style scoped>\n",
       "    .dataframe tbody tr th:only-of-type {\n",
       "        vertical-align: middle;\n",
       "    }\n",
       "\n",
       "    .dataframe tbody tr th {\n",
       "        vertical-align: top;\n",
       "    }\n",
       "\n",
       "    .dataframe thead th {\n",
       "        text-align: right;\n",
       "    }\n",
       "</style>\n",
       "<table border=\"1\" class=\"dataframe\">\n",
       "  <thead>\n",
       "    <tr style=\"text-align: right;\">\n",
       "      <th></th>\n",
       "      <th>Gestational Weeks</th>\n",
       "      <th>Birthweight</th>\n",
       "      <th>Sex</th>\n",
       "      <th>Congenital Anomaly</th>\n",
       "      <th>Disposition at 1 Year</th>\n",
       "    </tr>\n",
       "  </thead>\n",
       "  <tbody>\n",
       "  </tbody>\n",
       "</table>\n",
       "</div>"
      ],
      "text/plain": [
       "Empty DataFrame\n",
       "Columns: [Gestational Weeks, Birthweight, Sex, Congenital Anomaly, Disposition at 1 Year]\n",
       "Index: []"
      ]
     },
     "execution_count": 2,
     "metadata": {},
     "output_type": "execute_result"
    }
   ],
   "source": [
    "df # create the dataframe"
   ]
  },
  {
   "cell_type": "code",
   "execution_count": 3,
   "metadata": {},
   "outputs": [
    {
     "data": {
      "text/html": [
       "<div>\n",
       "<style scoped>\n",
       "    .dataframe tbody tr th:only-of-type {\n",
       "        vertical-align: middle;\n",
       "    }\n",
       "\n",
       "    .dataframe tbody tr th {\n",
       "        vertical-align: top;\n",
       "    }\n",
       "\n",
       "    .dataframe thead th {\n",
       "        text-align: right;\n",
       "    }\n",
       "</style>\n",
       "<table border=\"1\" class=\"dataframe\">\n",
       "  <thead>\n",
       "    <tr style=\"text-align: right;\">\n",
       "      <th></th>\n",
       "      <th>Gestational Weeks</th>\n",
       "      <th>Birthweight</th>\n",
       "      <th>Sex</th>\n",
       "      <th>Congenital Anomaly</th>\n",
       "      <th>Disposition at 1 Year</th>\n",
       "    </tr>\n",
       "  </thead>\n",
       "  <tbody>\n",
       "    <tr>\n",
       "      <th>0</th>\n",
       "      <td>Alex</td>\n",
       "      <td>10</td>\n",
       "      <td>6</td>\n",
       "      <td>2</td>\n",
       "      <td>5</td>\n",
       "    </tr>\n",
       "    <tr>\n",
       "      <th>1</th>\n",
       "      <td>Bob</td>\n",
       "      <td>12</td>\n",
       "      <td>6</td>\n",
       "      <td>2</td>\n",
       "      <td>5</td>\n",
       "    </tr>\n",
       "    <tr>\n",
       "      <th>2</th>\n",
       "      <td>Clarke</td>\n",
       "      <td>13</td>\n",
       "      <td>6</td>\n",
       "      <td>2</td>\n",
       "      <td>5</td>\n",
       "    </tr>\n",
       "  </tbody>\n",
       "</table>\n",
       "</div>"
      ],
      "text/plain": [
       "  Gestational Weeks  Birthweight  Sex  Congenital Anomaly  \\\n",
       "0              Alex           10    6                   2   \n",
       "1               Bob           12    6                   2   \n",
       "2            Clarke           13    6                   2   \n",
       "\n",
       "   Disposition at 1 Year  \n",
       "0                      5  \n",
       "1                      5  \n",
       "2                      5  "
      ]
     },
     "execution_count": 3,
     "metadata": {},
     "output_type": "execute_result"
    }
   ],
   "source": [
    "# Testing to populate the data \n",
    "data = [['Alex',10, 6, 2, 5],['Bob',12, 6 ,2, 5],['Clarke',13, 6 ,2, 5]]\n",
    "df = pd.DataFrame(data, columns = ['Gestational Weeks', 'Birthweight', 'Sex', 'Congenital Anomaly', 'Disposition at 1 Year'])\n",
    "df"
   ]
  },
  {
   "cell_type": "code",
   "execution_count": 4,
   "metadata": {},
   "outputs": [],
   "source": [
    "# The above table is the basic structure which I will use as the foundations for systhessing my dataset.\n",
    "# Key learning is how to structure code in order to populate the rows"
   ]
  },
  {
   "cell_type": "markdown",
   "metadata": {},
   "source": [
    "## Gestational Weeks\n",
    "In this dataset the Gestational weeks has a spread from 21 weeks to 33 weeks. With the majority of babies born around weeks 28, 29, 30.  Based on this, I think it is best to generate an array from a normal distribution.\n"
   ]
  },
  {
   "cell_type": "code",
   "execution_count": 5,
   "metadata": {},
   "outputs": [
    {
     "data": {
      "text/plain": [
       "array([25., 35., 34., 26., 25., 24., 30., 28., 33., 29., 30., 30., 22.,\n",
       "       27., 34., 29., 26., 23., 29., 29., 32., 28., 28., 28., 27., 26.,\n",
       "       27., 25., 25., 24., 26., 28., 25., 31., 29., 30., 22., 31., 30.,\n",
       "       31., 28., 23., 29., 27., 26., 35., 28., 26., 30., 30., 25., 34.,\n",
       "       31., 28., 29., 27., 26., 28., 29., 27., 29., 30., 28., 29., 26.,\n",
       "       21., 28., 29., 31., 33., 26., 33., 30., 32., 28., 31., 25., 29.,\n",
       "       31., 27., 33., 28., 26., 24., 31., 31., 26., 35., 33., 28., 27.,\n",
       "       25., 29., 30., 33., 27., 27., 28., 28., 22.])"
      ]
     },
     "execution_count": 5,
     "metadata": {},
     "output_type": "execute_result"
    }
   ],
   "source": [
    "#Setting Parameters for gestational weeks.  Majority of babies born weeks 28, 29, 30\n",
    "# mean and standard deviation\n",
    "gw = np.random.normal(28, 3, 100).round(0) # 28 is the mean, 3 is standard deviation, 100 is the size of the sample\n",
    "gw\n",
    "\n",
    "# took research to find how to round the floats to integers\n",
    "# https://stackoverflow.com/questions/33160367/numpy-how-to-generate-a-normally-distributed-set-of-integers?rq=1"
   ]
  },
  {
   "cell_type": "markdown",
   "metadata": {},
   "source": [
    "## Birthweight\n",
    "The birth weights of very low birth weight infants ranged from 360g to 2,640g.  The data here forms a uniform distribution. Infants are born at many different birth weights. No one more than any other."
   ]
  },
  {
   "cell_type": "code",
   "execution_count": 6,
   "metadata": {},
   "outputs": [
    {
     "data": {
      "text/plain": [
       "array([1172,  737,  955, 1714, 2204, 1818,  965, 1003,  727,  917,  792,\n",
       "       1589, 2221, 2299,  880, 1396,  752,  387, 1423, 1071, 2008, 2123,\n",
       "        875,  779, 1657, 2404,  590,  922, 1784, 1062, 2009, 2576, 1385,\n",
       "       2287, 2506,  441,  920,  433, 1131, 1098, 2195,  856, 2144,  683,\n",
       "       1148, 2242, 2321, 1279, 2606, 2174,  837,  965, 1738, 1650,  975,\n",
       "        946, 2602,  910, 1208, 2560,  875, 1191, 2448,  868, 1633, 1371,\n",
       "       1447, 1555, 1106,  534,  667, 2274,  468,  467, 1352, 1217, 1878,\n",
       "       1378,  875, 1116, 1714, 1763, 1346, 2118, 1369, 2322, 1184, 1237,\n",
       "        367, 1759, 1440, 1014, 1087, 2599,  554, 1721, 1997,  962, 1649,\n",
       "       1823])"
      ]
     },
     "execution_count": 6,
     "metadata": {},
     "output_type": "execute_result"
    }
   ],
   "source": [
    "#Setting Parameters for bithweight, low = 360g, High = 2640g\n",
    "\n",
    "bw = np.random.randint(360, 2640, size=100) #this function draws random numbers from a uniform distribution\n",
    "bw"
   ]
  },
  {
   "cell_type": "markdown",
   "metadata": {},
   "source": [
    "## Sex\n",
    "\n",
    "Is the infant male or female.  There is a 50/50 chance of being either male or female.  "
   ]
  },
  {
   "cell_type": "code",
   "execution_count": 7,
   "metadata": {},
   "outputs": [
    {
     "data": {
      "text/plain": [
       "array(['Female', 'Male', 'Female', 'Female', 'Male', 'Female', 'Male',\n",
       "       'Male', 'Male', 'Female', 'Male', 'Male', 'Female', 'Male',\n",
       "       'Female', 'Female', 'Female', 'Female', 'Female', 'Male', 'Female',\n",
       "       'Male', 'Male', 'Female', 'Male', 'Female', 'Male', 'Female',\n",
       "       'Female', 'Female', 'Male', 'Female', 'Male', 'Female', 'Male',\n",
       "       'Male', 'Female', 'Male', 'Male', 'Male', 'Female', 'Female',\n",
       "       'Female', 'Female', 'Female', 'Female', 'Female', 'Female',\n",
       "       'Female', 'Male', 'Female', 'Male', 'Female', 'Male', 'Female',\n",
       "       'Female', 'Female', 'Male', 'Male', 'Male', 'Male', 'Male', 'Male',\n",
       "       'Female', 'Female', 'Female', 'Male', 'Female', 'Female', 'Female',\n",
       "       'Male', 'Male', 'Male', 'Female', 'Female', 'Female', 'Male',\n",
       "       'Male', 'Female', 'Female', 'Male', 'Male', 'Female', 'Male',\n",
       "       'Male', 'Male', 'Male', 'Male', 'Female', 'Male', 'Male', 'Female',\n",
       "       'Female', 'Female', 'Female', 'Female', 'Female', 'Female',\n",
       "       'Female', 'Male'], dtype='<U6')"
      ]
     },
     "execution_count": 7,
     "metadata": {},
     "output_type": "execute_result"
    }
   ],
   "source": [
    "#using random.choice, I have ensure that there is a 50/50 chance of the infant being male or female\n",
    "s = np.random.choice([\"Male\", \"Female\"], 100, p=[0.5, 0.5])\n",
    "s"
   ]
  },
  {
   "cell_type": "markdown",
   "metadata": {},
   "source": [
    "## Congenital Anomaly\n",
    "About 9% of babies have a congenital anomaly.  This figure is high in comparison to VON data as abortion was/is not in Ireland.  Does the baby have a congenital anomaly? Yes or No?"
   ]
  },
  {
   "cell_type": "code",
   "execution_count": 8,
   "metadata": {},
   "outputs": [
    {
     "data": {
      "text/plain": [
       "array(['No', 'No', 'No', 'No', 'Yes', 'No', 'No', 'No', 'No', 'No', 'No',\n",
       "       'No', 'No', 'No', 'No', 'No', 'No', 'No', 'No', 'No', 'Yes', 'No',\n",
       "       'No', 'No', 'No', 'No', 'No', 'No', 'Yes', 'No', 'No', 'No', 'No',\n",
       "       'No', 'No', 'No', 'No', 'No', 'No', 'No', 'No', 'No', 'No', 'No',\n",
       "       'No', 'No', 'No', 'Yes', 'Yes', 'No', 'No', 'No', 'No', 'No', 'No',\n",
       "       'No', 'No', 'No', 'No', 'No', 'No', 'No', 'No', 'No', 'No', 'No',\n",
       "       'No', 'No', 'No', 'No', 'No', 'No', 'No', 'No', 'No', 'No', 'Yes',\n",
       "       'No', 'No', 'No', 'No', 'No', 'No', 'No', 'No', 'No', 'Yes', 'No',\n",
       "       'No', 'No', 'No', 'No', 'Yes', 'No', 'No', 'Yes', 'No', 'No', 'No',\n",
       "       'No'], dtype='<U3')"
      ]
     },
     "execution_count": 8,
     "metadata": {},
     "output_type": "execute_result"
    }
   ],
   "source": [
    "# using random.choice, I have implmented a bias to reflect the real world\n",
    "ca = np.random.choice([\"Yes\",\"No\"], 100, p=[0.11, 0.89])\n",
    "ca\n"
   ]
  },
  {
   "cell_type": "markdown",
   "metadata": {},
   "source": [
    "## Disposition at 1 Year\n"
   ]
  },
  {
   "cell_type": "code",
   "execution_count": 9,
   "metadata": {},
   "outputs": [
    {
     "data": {
      "text/plain": [
       "array(['Died', 'Hospital', 'Hospital', 'At Home', 'At Home', 'At Home',\n",
       "       'At Home', 'At Home', 'Hospital', 'Hospital', 'At Home', 'At Home',\n",
       "       'At Home', 'Died', 'At Home', 'Died', 'At Home', 'At Home',\n",
       "       'At Home', 'Unknown', 'Hospital', 'Died', 'Hospital', 'At Home',\n",
       "       'Died', 'At Home', 'At Home', 'Hospital', 'At Home', 'At Home',\n",
       "       'At Home', 'At Home', 'At Home', 'Died', 'At Home', 'At Home',\n",
       "       'At Home', 'At Home', 'Unknown', 'At Home', 'Died', 'Unknown',\n",
       "       'At Home', 'Died', 'Unknown', 'At Home', 'At Home', 'Unknown',\n",
       "       'Hospital', 'Died', 'At Home', 'Unknown', 'At Home', 'At Home',\n",
       "       'Hospital', 'At Home', 'Unknown', 'Hospital', 'At Home', 'Unknown',\n",
       "       'At Home', 'At Home', 'Died', 'At Home', 'At Home', 'Hospital',\n",
       "       'Died', 'Died', 'Died', 'Died', 'At Home', 'Hospital', 'Died',\n",
       "       'At Home', 'At Home', 'At Home', 'Hospital', 'At Home', 'Died',\n",
       "       'Died', 'Hospital', 'At Home', 'At Home', 'At Home', 'At Home',\n",
       "       'Hospital', 'Died', 'Hospital', 'Hospital', 'Died', 'At Home',\n",
       "       'Unknown', 'At Home', 'At Home', 'At Home', 'Died', 'Hospital',\n",
       "       'Hospital', 'At Home', 'At Home'], dtype='<U8')"
      ]
     },
     "execution_count": 9,
     "metadata": {},
     "output_type": "execute_result"
    }
   ],
   "source": [
    "# 1 year after the infants recorded birth, data is once again gathered to establish the health of the infant.\n",
    "dip = np.random.choice([\"Died\", \"At Home\", \"Hospital\", \"Unknown\"], 100, p=[0.2, 0.5, 0.2, 0.1]) \n",
    "# I have used an estiamted the probabilty based on the report's key findings and used this to generate this array\n",
    "dip"
   ]
  },
  {
   "cell_type": "markdown",
   "metadata": {},
   "source": [
    "# Creating the Dataset"
   ]
  },
  {
   "cell_type": "code",
   "execution_count": 10,
   "metadata": {},
   "outputs": [
    {
     "data": {
      "text/html": [
       "<div>\n",
       "<style scoped>\n",
       "    .dataframe tbody tr th:only-of-type {\n",
       "        vertical-align: middle;\n",
       "    }\n",
       "\n",
       "    .dataframe tbody tr th {\n",
       "        vertical-align: top;\n",
       "    }\n",
       "\n",
       "    .dataframe thead th {\n",
       "        text-align: right;\n",
       "    }\n",
       "</style>\n",
       "<table border=\"1\" class=\"dataframe\">\n",
       "  <thead>\n",
       "    <tr style=\"text-align: right;\">\n",
       "      <th></th>\n",
       "      <th>Gestational Weeks</th>\n",
       "      <th>Birthweight</th>\n",
       "      <th>Sex</th>\n",
       "      <th>Congenital Anomaly</th>\n",
       "      <th>Disposition</th>\n",
       "    </tr>\n",
       "  </thead>\n",
       "  <tbody>\n",
       "    <tr>\n",
       "      <th>0</th>\n",
       "      <td>25.0</td>\n",
       "      <td>1172</td>\n",
       "      <td>Female</td>\n",
       "      <td>No</td>\n",
       "      <td>Died</td>\n",
       "    </tr>\n",
       "    <tr>\n",
       "      <th>1</th>\n",
       "      <td>35.0</td>\n",
       "      <td>737</td>\n",
       "      <td>Male</td>\n",
       "      <td>No</td>\n",
       "      <td>Hospital</td>\n",
       "    </tr>\n",
       "    <tr>\n",
       "      <th>2</th>\n",
       "      <td>34.0</td>\n",
       "      <td>955</td>\n",
       "      <td>Female</td>\n",
       "      <td>No</td>\n",
       "      <td>Hospital</td>\n",
       "    </tr>\n",
       "    <tr>\n",
       "      <th>3</th>\n",
       "      <td>26.0</td>\n",
       "      <td>1714</td>\n",
       "      <td>Female</td>\n",
       "      <td>No</td>\n",
       "      <td>At Home</td>\n",
       "    </tr>\n",
       "    <tr>\n",
       "      <th>4</th>\n",
       "      <td>25.0</td>\n",
       "      <td>2204</td>\n",
       "      <td>Male</td>\n",
       "      <td>Yes</td>\n",
       "      <td>At Home</td>\n",
       "    </tr>\n",
       "    <tr>\n",
       "      <th>5</th>\n",
       "      <td>24.0</td>\n",
       "      <td>1818</td>\n",
       "      <td>Female</td>\n",
       "      <td>No</td>\n",
       "      <td>At Home</td>\n",
       "    </tr>\n",
       "    <tr>\n",
       "      <th>6</th>\n",
       "      <td>30.0</td>\n",
       "      <td>965</td>\n",
       "      <td>Male</td>\n",
       "      <td>No</td>\n",
       "      <td>At Home</td>\n",
       "    </tr>\n",
       "    <tr>\n",
       "      <th>7</th>\n",
       "      <td>28.0</td>\n",
       "      <td>1003</td>\n",
       "      <td>Male</td>\n",
       "      <td>No</td>\n",
       "      <td>At Home</td>\n",
       "    </tr>\n",
       "    <tr>\n",
       "      <th>8</th>\n",
       "      <td>33.0</td>\n",
       "      <td>727</td>\n",
       "      <td>Male</td>\n",
       "      <td>No</td>\n",
       "      <td>Hospital</td>\n",
       "    </tr>\n",
       "    <tr>\n",
       "      <th>9</th>\n",
       "      <td>29.0</td>\n",
       "      <td>917</td>\n",
       "      <td>Female</td>\n",
       "      <td>No</td>\n",
       "      <td>Hospital</td>\n",
       "    </tr>\n",
       "    <tr>\n",
       "      <th>10</th>\n",
       "      <td>30.0</td>\n",
       "      <td>792</td>\n",
       "      <td>Male</td>\n",
       "      <td>No</td>\n",
       "      <td>At Home</td>\n",
       "    </tr>\n",
       "    <tr>\n",
       "      <th>11</th>\n",
       "      <td>30.0</td>\n",
       "      <td>1589</td>\n",
       "      <td>Male</td>\n",
       "      <td>No</td>\n",
       "      <td>At Home</td>\n",
       "    </tr>\n",
       "    <tr>\n",
       "      <th>12</th>\n",
       "      <td>22.0</td>\n",
       "      <td>2221</td>\n",
       "      <td>Female</td>\n",
       "      <td>No</td>\n",
       "      <td>At Home</td>\n",
       "    </tr>\n",
       "    <tr>\n",
       "      <th>13</th>\n",
       "      <td>27.0</td>\n",
       "      <td>2299</td>\n",
       "      <td>Male</td>\n",
       "      <td>No</td>\n",
       "      <td>Died</td>\n",
       "    </tr>\n",
       "    <tr>\n",
       "      <th>14</th>\n",
       "      <td>34.0</td>\n",
       "      <td>880</td>\n",
       "      <td>Female</td>\n",
       "      <td>No</td>\n",
       "      <td>At Home</td>\n",
       "    </tr>\n",
       "    <tr>\n",
       "      <th>15</th>\n",
       "      <td>29.0</td>\n",
       "      <td>1396</td>\n",
       "      <td>Female</td>\n",
       "      <td>No</td>\n",
       "      <td>Died</td>\n",
       "    </tr>\n",
       "    <tr>\n",
       "      <th>16</th>\n",
       "      <td>26.0</td>\n",
       "      <td>752</td>\n",
       "      <td>Female</td>\n",
       "      <td>No</td>\n",
       "      <td>At Home</td>\n",
       "    </tr>\n",
       "    <tr>\n",
       "      <th>17</th>\n",
       "      <td>23.0</td>\n",
       "      <td>387</td>\n",
       "      <td>Female</td>\n",
       "      <td>No</td>\n",
       "      <td>At Home</td>\n",
       "    </tr>\n",
       "    <tr>\n",
       "      <th>18</th>\n",
       "      <td>29.0</td>\n",
       "      <td>1423</td>\n",
       "      <td>Female</td>\n",
       "      <td>No</td>\n",
       "      <td>At Home</td>\n",
       "    </tr>\n",
       "    <tr>\n",
       "      <th>19</th>\n",
       "      <td>29.0</td>\n",
       "      <td>1071</td>\n",
       "      <td>Male</td>\n",
       "      <td>No</td>\n",
       "      <td>Unknown</td>\n",
       "    </tr>\n",
       "    <tr>\n",
       "      <th>20</th>\n",
       "      <td>32.0</td>\n",
       "      <td>2008</td>\n",
       "      <td>Female</td>\n",
       "      <td>Yes</td>\n",
       "      <td>Hospital</td>\n",
       "    </tr>\n",
       "    <tr>\n",
       "      <th>21</th>\n",
       "      <td>28.0</td>\n",
       "      <td>2123</td>\n",
       "      <td>Male</td>\n",
       "      <td>No</td>\n",
       "      <td>Died</td>\n",
       "    </tr>\n",
       "    <tr>\n",
       "      <th>22</th>\n",
       "      <td>28.0</td>\n",
       "      <td>875</td>\n",
       "      <td>Male</td>\n",
       "      <td>No</td>\n",
       "      <td>Hospital</td>\n",
       "    </tr>\n",
       "    <tr>\n",
       "      <th>23</th>\n",
       "      <td>28.0</td>\n",
       "      <td>779</td>\n",
       "      <td>Female</td>\n",
       "      <td>No</td>\n",
       "      <td>At Home</td>\n",
       "    </tr>\n",
       "    <tr>\n",
       "      <th>24</th>\n",
       "      <td>27.0</td>\n",
       "      <td>1657</td>\n",
       "      <td>Male</td>\n",
       "      <td>No</td>\n",
       "      <td>Died</td>\n",
       "    </tr>\n",
       "    <tr>\n",
       "      <th>25</th>\n",
       "      <td>26.0</td>\n",
       "      <td>2404</td>\n",
       "      <td>Female</td>\n",
       "      <td>No</td>\n",
       "      <td>At Home</td>\n",
       "    </tr>\n",
       "    <tr>\n",
       "      <th>26</th>\n",
       "      <td>27.0</td>\n",
       "      <td>590</td>\n",
       "      <td>Male</td>\n",
       "      <td>No</td>\n",
       "      <td>At Home</td>\n",
       "    </tr>\n",
       "    <tr>\n",
       "      <th>27</th>\n",
       "      <td>25.0</td>\n",
       "      <td>922</td>\n",
       "      <td>Female</td>\n",
       "      <td>No</td>\n",
       "      <td>Hospital</td>\n",
       "    </tr>\n",
       "    <tr>\n",
       "      <th>28</th>\n",
       "      <td>25.0</td>\n",
       "      <td>1784</td>\n",
       "      <td>Female</td>\n",
       "      <td>Yes</td>\n",
       "      <td>At Home</td>\n",
       "    </tr>\n",
       "    <tr>\n",
       "      <th>29</th>\n",
       "      <td>24.0</td>\n",
       "      <td>1062</td>\n",
       "      <td>Female</td>\n",
       "      <td>No</td>\n",
       "      <td>At Home</td>\n",
       "    </tr>\n",
       "    <tr>\n",
       "      <th>...</th>\n",
       "      <td>...</td>\n",
       "      <td>...</td>\n",
       "      <td>...</td>\n",
       "      <td>...</td>\n",
       "      <td>...</td>\n",
       "    </tr>\n",
       "    <tr>\n",
       "      <th>70</th>\n",
       "      <td>26.0</td>\n",
       "      <td>667</td>\n",
       "      <td>Male</td>\n",
       "      <td>No</td>\n",
       "      <td>At Home</td>\n",
       "    </tr>\n",
       "    <tr>\n",
       "      <th>71</th>\n",
       "      <td>33.0</td>\n",
       "      <td>2274</td>\n",
       "      <td>Male</td>\n",
       "      <td>No</td>\n",
       "      <td>Hospital</td>\n",
       "    </tr>\n",
       "    <tr>\n",
       "      <th>72</th>\n",
       "      <td>30.0</td>\n",
       "      <td>468</td>\n",
       "      <td>Male</td>\n",
       "      <td>No</td>\n",
       "      <td>Died</td>\n",
       "    </tr>\n",
       "    <tr>\n",
       "      <th>73</th>\n",
       "      <td>32.0</td>\n",
       "      <td>467</td>\n",
       "      <td>Female</td>\n",
       "      <td>No</td>\n",
       "      <td>At Home</td>\n",
       "    </tr>\n",
       "    <tr>\n",
       "      <th>74</th>\n",
       "      <td>28.0</td>\n",
       "      <td>1352</td>\n",
       "      <td>Female</td>\n",
       "      <td>No</td>\n",
       "      <td>At Home</td>\n",
       "    </tr>\n",
       "    <tr>\n",
       "      <th>75</th>\n",
       "      <td>31.0</td>\n",
       "      <td>1217</td>\n",
       "      <td>Female</td>\n",
       "      <td>No</td>\n",
       "      <td>At Home</td>\n",
       "    </tr>\n",
       "    <tr>\n",
       "      <th>76</th>\n",
       "      <td>25.0</td>\n",
       "      <td>1878</td>\n",
       "      <td>Male</td>\n",
       "      <td>Yes</td>\n",
       "      <td>Hospital</td>\n",
       "    </tr>\n",
       "    <tr>\n",
       "      <th>77</th>\n",
       "      <td>29.0</td>\n",
       "      <td>1378</td>\n",
       "      <td>Male</td>\n",
       "      <td>No</td>\n",
       "      <td>At Home</td>\n",
       "    </tr>\n",
       "    <tr>\n",
       "      <th>78</th>\n",
       "      <td>31.0</td>\n",
       "      <td>875</td>\n",
       "      <td>Female</td>\n",
       "      <td>No</td>\n",
       "      <td>Died</td>\n",
       "    </tr>\n",
       "    <tr>\n",
       "      <th>79</th>\n",
       "      <td>27.0</td>\n",
       "      <td>1116</td>\n",
       "      <td>Female</td>\n",
       "      <td>No</td>\n",
       "      <td>Died</td>\n",
       "    </tr>\n",
       "    <tr>\n",
       "      <th>80</th>\n",
       "      <td>33.0</td>\n",
       "      <td>1714</td>\n",
       "      <td>Male</td>\n",
       "      <td>No</td>\n",
       "      <td>Hospital</td>\n",
       "    </tr>\n",
       "    <tr>\n",
       "      <th>81</th>\n",
       "      <td>28.0</td>\n",
       "      <td>1763</td>\n",
       "      <td>Male</td>\n",
       "      <td>No</td>\n",
       "      <td>At Home</td>\n",
       "    </tr>\n",
       "    <tr>\n",
       "      <th>82</th>\n",
       "      <td>26.0</td>\n",
       "      <td>1346</td>\n",
       "      <td>Female</td>\n",
       "      <td>No</td>\n",
       "      <td>At Home</td>\n",
       "    </tr>\n",
       "    <tr>\n",
       "      <th>83</th>\n",
       "      <td>24.0</td>\n",
       "      <td>2118</td>\n",
       "      <td>Male</td>\n",
       "      <td>No</td>\n",
       "      <td>At Home</td>\n",
       "    </tr>\n",
       "    <tr>\n",
       "      <th>84</th>\n",
       "      <td>31.0</td>\n",
       "      <td>1369</td>\n",
       "      <td>Male</td>\n",
       "      <td>No</td>\n",
       "      <td>At Home</td>\n",
       "    </tr>\n",
       "    <tr>\n",
       "      <th>85</th>\n",
       "      <td>31.0</td>\n",
       "      <td>2322</td>\n",
       "      <td>Male</td>\n",
       "      <td>No</td>\n",
       "      <td>Hospital</td>\n",
       "    </tr>\n",
       "    <tr>\n",
       "      <th>86</th>\n",
       "      <td>26.0</td>\n",
       "      <td>1184</td>\n",
       "      <td>Male</td>\n",
       "      <td>Yes</td>\n",
       "      <td>Died</td>\n",
       "    </tr>\n",
       "    <tr>\n",
       "      <th>87</th>\n",
       "      <td>35.0</td>\n",
       "      <td>1237</td>\n",
       "      <td>Male</td>\n",
       "      <td>No</td>\n",
       "      <td>Hospital</td>\n",
       "    </tr>\n",
       "    <tr>\n",
       "      <th>88</th>\n",
       "      <td>33.0</td>\n",
       "      <td>367</td>\n",
       "      <td>Female</td>\n",
       "      <td>No</td>\n",
       "      <td>Hospital</td>\n",
       "    </tr>\n",
       "    <tr>\n",
       "      <th>89</th>\n",
       "      <td>28.0</td>\n",
       "      <td>1759</td>\n",
       "      <td>Male</td>\n",
       "      <td>No</td>\n",
       "      <td>Died</td>\n",
       "    </tr>\n",
       "    <tr>\n",
       "      <th>90</th>\n",
       "      <td>27.0</td>\n",
       "      <td>1440</td>\n",
       "      <td>Male</td>\n",
       "      <td>No</td>\n",
       "      <td>At Home</td>\n",
       "    </tr>\n",
       "    <tr>\n",
       "      <th>91</th>\n",
       "      <td>25.0</td>\n",
       "      <td>1014</td>\n",
       "      <td>Female</td>\n",
       "      <td>No</td>\n",
       "      <td>Unknown</td>\n",
       "    </tr>\n",
       "    <tr>\n",
       "      <th>92</th>\n",
       "      <td>29.0</td>\n",
       "      <td>1087</td>\n",
       "      <td>Female</td>\n",
       "      <td>Yes</td>\n",
       "      <td>At Home</td>\n",
       "    </tr>\n",
       "    <tr>\n",
       "      <th>93</th>\n",
       "      <td>30.0</td>\n",
       "      <td>2599</td>\n",
       "      <td>Female</td>\n",
       "      <td>No</td>\n",
       "      <td>At Home</td>\n",
       "    </tr>\n",
       "    <tr>\n",
       "      <th>94</th>\n",
       "      <td>33.0</td>\n",
       "      <td>554</td>\n",
       "      <td>Female</td>\n",
       "      <td>No</td>\n",
       "      <td>At Home</td>\n",
       "    </tr>\n",
       "    <tr>\n",
       "      <th>95</th>\n",
       "      <td>27.0</td>\n",
       "      <td>1721</td>\n",
       "      <td>Female</td>\n",
       "      <td>Yes</td>\n",
       "      <td>Died</td>\n",
       "    </tr>\n",
       "    <tr>\n",
       "      <th>96</th>\n",
       "      <td>27.0</td>\n",
       "      <td>1997</td>\n",
       "      <td>Female</td>\n",
       "      <td>No</td>\n",
       "      <td>Hospital</td>\n",
       "    </tr>\n",
       "    <tr>\n",
       "      <th>97</th>\n",
       "      <td>28.0</td>\n",
       "      <td>962</td>\n",
       "      <td>Female</td>\n",
       "      <td>No</td>\n",
       "      <td>Hospital</td>\n",
       "    </tr>\n",
       "    <tr>\n",
       "      <th>98</th>\n",
       "      <td>28.0</td>\n",
       "      <td>1649</td>\n",
       "      <td>Female</td>\n",
       "      <td>No</td>\n",
       "      <td>At Home</td>\n",
       "    </tr>\n",
       "    <tr>\n",
       "      <th>99</th>\n",
       "      <td>22.0</td>\n",
       "      <td>1823</td>\n",
       "      <td>Male</td>\n",
       "      <td>No</td>\n",
       "      <td>At Home</td>\n",
       "    </tr>\n",
       "  </tbody>\n",
       "</table>\n",
       "<p>100 rows × 5 columns</p>\n",
       "</div>"
      ],
      "text/plain": [
       "    Gestational Weeks  Birthweight     Sex Congenital Anomaly Disposition\n",
       "0                25.0         1172  Female                 No        Died\n",
       "1                35.0          737    Male                 No    Hospital\n",
       "2                34.0          955  Female                 No    Hospital\n",
       "3                26.0         1714  Female                 No     At Home\n",
       "4                25.0         2204    Male                Yes     At Home\n",
       "5                24.0         1818  Female                 No     At Home\n",
       "6                30.0          965    Male                 No     At Home\n",
       "7                28.0         1003    Male                 No     At Home\n",
       "8                33.0          727    Male                 No    Hospital\n",
       "9                29.0          917  Female                 No    Hospital\n",
       "10               30.0          792    Male                 No     At Home\n",
       "11               30.0         1589    Male                 No     At Home\n",
       "12               22.0         2221  Female                 No     At Home\n",
       "13               27.0         2299    Male                 No        Died\n",
       "14               34.0          880  Female                 No     At Home\n",
       "15               29.0         1396  Female                 No        Died\n",
       "16               26.0          752  Female                 No     At Home\n",
       "17               23.0          387  Female                 No     At Home\n",
       "18               29.0         1423  Female                 No     At Home\n",
       "19               29.0         1071    Male                 No     Unknown\n",
       "20               32.0         2008  Female                Yes    Hospital\n",
       "21               28.0         2123    Male                 No        Died\n",
       "22               28.0          875    Male                 No    Hospital\n",
       "23               28.0          779  Female                 No     At Home\n",
       "24               27.0         1657    Male                 No        Died\n",
       "25               26.0         2404  Female                 No     At Home\n",
       "26               27.0          590    Male                 No     At Home\n",
       "27               25.0          922  Female                 No    Hospital\n",
       "28               25.0         1784  Female                Yes     At Home\n",
       "29               24.0         1062  Female                 No     At Home\n",
       "..                ...          ...     ...                ...         ...\n",
       "70               26.0          667    Male                 No     At Home\n",
       "71               33.0         2274    Male                 No    Hospital\n",
       "72               30.0          468    Male                 No        Died\n",
       "73               32.0          467  Female                 No     At Home\n",
       "74               28.0         1352  Female                 No     At Home\n",
       "75               31.0         1217  Female                 No     At Home\n",
       "76               25.0         1878    Male                Yes    Hospital\n",
       "77               29.0         1378    Male                 No     At Home\n",
       "78               31.0          875  Female                 No        Died\n",
       "79               27.0         1116  Female                 No        Died\n",
       "80               33.0         1714    Male                 No    Hospital\n",
       "81               28.0         1763    Male                 No     At Home\n",
       "82               26.0         1346  Female                 No     At Home\n",
       "83               24.0         2118    Male                 No     At Home\n",
       "84               31.0         1369    Male                 No     At Home\n",
       "85               31.0         2322    Male                 No    Hospital\n",
       "86               26.0         1184    Male                Yes        Died\n",
       "87               35.0         1237    Male                 No    Hospital\n",
       "88               33.0          367  Female                 No    Hospital\n",
       "89               28.0         1759    Male                 No        Died\n",
       "90               27.0         1440    Male                 No     At Home\n",
       "91               25.0         1014  Female                 No     Unknown\n",
       "92               29.0         1087  Female                Yes     At Home\n",
       "93               30.0         2599  Female                 No     At Home\n",
       "94               33.0          554  Female                 No     At Home\n",
       "95               27.0         1721  Female                Yes        Died\n",
       "96               27.0         1997  Female                 No    Hospital\n",
       "97               28.0          962  Female                 No    Hospital\n",
       "98               28.0         1649  Female                 No     At Home\n",
       "99               22.0         1823    Male                 No     At Home\n",
       "\n",
       "[100 rows x 5 columns]"
      ]
     },
     "execution_count": 10,
     "metadata": {},
     "output_type": "execute_result"
    }
   ],
   "source": [
    "# Populating the Dataset\n",
    "# using my trial and error example above, I have used this structure to create the dataset\n",
    "\n",
    "df = pd.DataFrame({\"Gestational Weeks\" : gw, \"Birthweight\" : bw, \"Sex\" : s, \"Congenital Anomaly\" : ca, \"Disposition\" : dip})\n",
    "df"
   ]
  },
  {
   "cell_type": "code",
   "execution_count": 13,
   "metadata": {},
   "outputs": [
    {
     "name": "stdout",
     "output_type": "stream",
     "text": [
      "(100, 5)\n"
     ]
    }
   ],
   "source": [
    "import pandas as pd\n",
    "print(df.shape) # shape - this tells quantity of rows and columns in the dataset"
   ]
  },
  {
   "cell_type": "code",
   "execution_count": 15,
   "metadata": {},
   "outputs": [
    {
     "name": "stdout",
     "output_type": "stream",
     "text": [
      "   Gestational Weeks  Birthweight     Sex Congenital Anomaly Disposition\n",
      "0               25.0         1172  Female                 No        Died\n",
      "1               35.0          737    Male                 No    Hospital\n",
      "2               34.0          955  Female                 No    Hospital\n",
      "3               26.0         1714  Female                 No     At Home\n",
      "4               25.0         2204    Male                Yes     At Home\n",
      "5               24.0         1818  Female                 No     At Home\n",
      "6               30.0          965    Male                 No     At Home\n",
      "7               28.0         1003    Male                 No     At Home\n",
      "8               33.0          727    Male                 No    Hospital\n",
      "9               29.0          917  Female                 No    Hospital\n"
     ]
    }
   ],
   "source": [
    "print(df.head(10)) # head - prints first ten rows of the dataset"
   ]
  },
  {
   "cell_type": "code",
   "execution_count": 18,
   "metadata": {},
   "outputs": [
    {
     "name": "stdout",
     "output_type": "stream",
     "text": [
      "       Gestational Weeks  Birthweight\n",
      "count              100.0        100.0\n",
      "mean                28.0       1408.0\n",
      "std                  3.0        623.0\n",
      "min                 21.0        367.0\n",
      "25%                 26.0        919.0\n",
      "50%                 28.0       1312.0\n",
      "75%                 30.0       1837.0\n",
      "max                 35.0       2606.0\n"
     ]
    }
   ],
   "source": [
    "# description - prints keys stats on the dataset\n",
    "print(df.describe().round(0))"
   ]
  },
  {
   "cell_type": "code",
   "execution_count": 19,
   "metadata": {},
   "outputs": [
    {
     "data": {
      "text/html": [
       "<div>\n",
       "<style scoped>\n",
       "    .dataframe tbody tr th:only-of-type {\n",
       "        vertical-align: middle;\n",
       "    }\n",
       "\n",
       "    .dataframe tbody tr th {\n",
       "        vertical-align: top;\n",
       "    }\n",
       "\n",
       "    .dataframe thead th {\n",
       "        text-align: right;\n",
       "    }\n",
       "</style>\n",
       "<table border=\"1\" class=\"dataframe\">\n",
       "  <thead>\n",
       "    <tr style=\"text-align: right;\">\n",
       "      <th></th>\n",
       "      <th>Gestational Weeks</th>\n",
       "      <th>Birthweight</th>\n",
       "      <th>Sex</th>\n",
       "      <th>Congenital Anomaly</th>\n",
       "      <th>Disposition</th>\n",
       "    </tr>\n",
       "  </thead>\n",
       "  <tbody>\n",
       "    <tr>\n",
       "      <th>count</th>\n",
       "      <td>100.000000</td>\n",
       "      <td>100.000000</td>\n",
       "      <td>100</td>\n",
       "      <td>100</td>\n",
       "      <td>100</td>\n",
       "    </tr>\n",
       "    <tr>\n",
       "      <th>unique</th>\n",
       "      <td>NaN</td>\n",
       "      <td>NaN</td>\n",
       "      <td>2</td>\n",
       "      <td>2</td>\n",
       "      <td>4</td>\n",
       "    </tr>\n",
       "    <tr>\n",
       "      <th>top</th>\n",
       "      <td>NaN</td>\n",
       "      <td>NaN</td>\n",
       "      <td>Female</td>\n",
       "      <td>No</td>\n",
       "      <td>At Home</td>\n",
       "    </tr>\n",
       "    <tr>\n",
       "      <th>freq</th>\n",
       "      <td>NaN</td>\n",
       "      <td>NaN</td>\n",
       "      <td>55</td>\n",
       "      <td>91</td>\n",
       "      <td>52</td>\n",
       "    </tr>\n",
       "    <tr>\n",
       "      <th>mean</th>\n",
       "      <td>28.340000</td>\n",
       "      <td>1407.960000</td>\n",
       "      <td>NaN</td>\n",
       "      <td>NaN</td>\n",
       "      <td>NaN</td>\n",
       "    </tr>\n",
       "    <tr>\n",
       "      <th>std</th>\n",
       "      <td>3.082109</td>\n",
       "      <td>622.799981</td>\n",
       "      <td>NaN</td>\n",
       "      <td>NaN</td>\n",
       "      <td>NaN</td>\n",
       "    </tr>\n",
       "    <tr>\n",
       "      <th>min</th>\n",
       "      <td>21.000000</td>\n",
       "      <td>367.000000</td>\n",
       "      <td>NaN</td>\n",
       "      <td>NaN</td>\n",
       "      <td>NaN</td>\n",
       "    </tr>\n",
       "    <tr>\n",
       "      <th>25%</th>\n",
       "      <td>26.000000</td>\n",
       "      <td>919.250000</td>\n",
       "      <td>NaN</td>\n",
       "      <td>NaN</td>\n",
       "      <td>NaN</td>\n",
       "    </tr>\n",
       "    <tr>\n",
       "      <th>50%</th>\n",
       "      <td>28.000000</td>\n",
       "      <td>1312.500000</td>\n",
       "      <td>NaN</td>\n",
       "      <td>NaN</td>\n",
       "      <td>NaN</td>\n",
       "    </tr>\n",
       "    <tr>\n",
       "      <th>75%</th>\n",
       "      <td>30.000000</td>\n",
       "      <td>1836.750000</td>\n",
       "      <td>NaN</td>\n",
       "      <td>NaN</td>\n",
       "      <td>NaN</td>\n",
       "    </tr>\n",
       "    <tr>\n",
       "      <th>max</th>\n",
       "      <td>35.000000</td>\n",
       "      <td>2606.000000</td>\n",
       "      <td>NaN</td>\n",
       "      <td>NaN</td>\n",
       "      <td>NaN</td>\n",
       "    </tr>\n",
       "  </tbody>\n",
       "</table>\n",
       "</div>"
      ],
      "text/plain": [
       "        Gestational Weeks  Birthweight     Sex Congenital Anomaly Disposition\n",
       "count          100.000000   100.000000     100                100         100\n",
       "unique                NaN          NaN       2                  2           4\n",
       "top                   NaN          NaN  Female                 No     At Home\n",
       "freq                  NaN          NaN      55                 91          52\n",
       "mean            28.340000  1407.960000     NaN                NaN         NaN\n",
       "std              3.082109   622.799981     NaN                NaN         NaN\n",
       "min             21.000000   367.000000     NaN                NaN         NaN\n",
       "25%             26.000000   919.250000     NaN                NaN         NaN\n",
       "50%             28.000000  1312.500000     NaN                NaN         NaN\n",
       "75%             30.000000  1836.750000     NaN                NaN         NaN\n",
       "max             35.000000  2606.000000     NaN                NaN         NaN"
      ]
     },
     "execution_count": 19,
     "metadata": {},
     "output_type": "execute_result"
    }
   ],
   "source": [
    "df.describe(include='all') #Describing all columns of a DataFrame regardless of data type."
   ]
  },
  {
   "cell_type": "code",
   "execution_count": 20,
   "metadata": {},
   "outputs": [
    {
     "data": {
      "text/html": [
       "<div>\n",
       "<style scoped>\n",
       "    .dataframe tbody tr th:only-of-type {\n",
       "        vertical-align: middle;\n",
       "    }\n",
       "\n",
       "    .dataframe tbody tr th {\n",
       "        vertical-align: top;\n",
       "    }\n",
       "\n",
       "    .dataframe thead th {\n",
       "        text-align: right;\n",
       "    }\n",
       "</style>\n",
       "<table border=\"1\" class=\"dataframe\">\n",
       "  <thead>\n",
       "    <tr style=\"text-align: right;\">\n",
       "      <th></th>\n",
       "      <th>Sex</th>\n",
       "      <th>Congenital Anomaly</th>\n",
       "      <th>Disposition</th>\n",
       "    </tr>\n",
       "  </thead>\n",
       "  <tbody>\n",
       "    <tr>\n",
       "      <th>count</th>\n",
       "      <td>100</td>\n",
       "      <td>100</td>\n",
       "      <td>100</td>\n",
       "    </tr>\n",
       "    <tr>\n",
       "      <th>unique</th>\n",
       "      <td>2</td>\n",
       "      <td>2</td>\n",
       "      <td>4</td>\n",
       "    </tr>\n",
       "    <tr>\n",
       "      <th>top</th>\n",
       "      <td>Female</td>\n",
       "      <td>No</td>\n",
       "      <td>At Home</td>\n",
       "    </tr>\n",
       "    <tr>\n",
       "      <th>freq</th>\n",
       "      <td>55</td>\n",
       "      <td>91</td>\n",
       "      <td>52</td>\n",
       "    </tr>\n",
       "  </tbody>\n",
       "</table>\n",
       "</div>"
      ],
      "text/plain": [
       "           Sex Congenital Anomaly Disposition\n",
       "count      100                100         100\n",
       "unique       2                  2           4\n",
       "top     Female                 No     At Home\n",
       "freq        55                 91          52"
      ]
     },
     "execution_count": 20,
     "metadata": {},
     "output_type": "execute_result"
    }
   ],
   "source": [
    "df.describe(include=[np.object]) #Including only string columns in a DataFrame description"
   ]
  },
  {
   "cell_type": "code",
   "execution_count": 23,
   "metadata": {},
   "outputs": [
    {
     "data": {
      "text/html": [
       "<div>\n",
       "<style scoped>\n",
       "    .dataframe tbody tr th:only-of-type {\n",
       "        vertical-align: middle;\n",
       "    }\n",
       "\n",
       "    .dataframe tbody tr th {\n",
       "        vertical-align: top;\n",
       "    }\n",
       "\n",
       "    .dataframe thead th {\n",
       "        text-align: right;\n",
       "    }\n",
       "</style>\n",
       "<table border=\"1\" class=\"dataframe\">\n",
       "  <thead>\n",
       "    <tr style=\"text-align: right;\">\n",
       "      <th></th>\n",
       "      <th>Sex</th>\n",
       "      <th>Congenital Anomaly</th>\n",
       "      <th>Disposition</th>\n",
       "    </tr>\n",
       "  </thead>\n",
       "  <tbody>\n",
       "    <tr>\n",
       "      <th>count</th>\n",
       "      <td>100</td>\n",
       "      <td>100</td>\n",
       "      <td>100</td>\n",
       "    </tr>\n",
       "    <tr>\n",
       "      <th>unique</th>\n",
       "      <td>2</td>\n",
       "      <td>2</td>\n",
       "      <td>4</td>\n",
       "    </tr>\n",
       "    <tr>\n",
       "      <th>top</th>\n",
       "      <td>Female</td>\n",
       "      <td>No</td>\n",
       "      <td>At Home</td>\n",
       "    </tr>\n",
       "    <tr>\n",
       "      <th>freq</th>\n",
       "      <td>55</td>\n",
       "      <td>91</td>\n",
       "      <td>52</td>\n",
       "    </tr>\n",
       "  </tbody>\n",
       "</table>\n",
       "</div>"
      ],
      "text/plain": [
       "           Sex Congenital Anomaly Disposition\n",
       "count      100                100         100\n",
       "unique       2                  2           4\n",
       "top     Female                 No     At Home\n",
       "freq        55                 91          52"
      ]
     },
     "execution_count": 23,
     "metadata": {},
     "output_type": "execute_result"
    }
   ],
   "source": [
    " df.describe(exclude=[np.number]) #Excluding numeric columns from a DataFrame description - same result as code above"
   ]
  },
  {
   "cell_type": "code",
   "execution_count": 24,
   "metadata": {},
   "outputs": [],
   "source": [
    "import matplotlib.pyplot as plt # importing matplotlib to plot the data"
   ]
  },
  {
   "cell_type": "code",
   "execution_count": 35,
   "metadata": {},
   "outputs": [
    {
     "data": {
      "text/plain": [
       "Text(0.5,1,'Gestational Weeks of Infant')"
      ]
     },
     "execution_count": 35,
     "metadata": {},
     "output_type": "execute_result"
    },
    {
     "data": {
      "image/png": "[encoded data removed]",
      "text/plain": [
       "<Figure size 432x288 with 1 Axes>"
      ]
     },
     "metadata": {
      "needs_background": "light"
     },
     "output_type": "display_data"
    }
   ],
   "source": [
    "plt.plot(gw) # Plot the spead of gestational weeks of each infant\n",
    "plt.ylabel(\"Gest. Weeks\") # name the y label\n",
    "plt.title(\"Gestational Weeks of Infant\") # give the plot a title"
   ]
  },
  {
   "cell_type": "code",
   "execution_count": 36,
   "metadata": {},
   "outputs": [
    {
     "data": {
      "text/plain": [
       "Text(0.5,1,'Birthweight of Infant')"
      ]
     },
     "execution_count": 36,
     "metadata": {},
     "output_type": "execute_result"
    },
    {
     "data": {
      "image/png": "[encoded data removed]",
      "text/plain": [
       "<Figure size 432x288 with 1 Axes>"
      ]
     },
     "metadata": {
      "needs_background": "light"
     },
     "output_type": "display_data"
    }
   ],
   "source": [
    "plt.plot(bw) # Plot the spead of birth weight of each infant\n",
    "plt.ylabel(\"Birthweight\") # name the y label\n",
    "plt.title(\"Birthweight of Infant\") # give the plot a title"
   ]
  },
  {
   "cell_type": "code",
   "execution_count": 48,
   "metadata": {},
   "outputs": [
    {
     "data": {
      "text/plain": [
       "Text(0.5,1,'Gestational Weeks of Infant')"
      ]
     },
     "execution_count": 48,
     "metadata": {},
     "output_type": "execute_result"
    },
    {
     "data": {
      "image/png": "[encoded data removed]",
      "text/plain": [
       "<Figure size 432x288 with 1 Axes>"
      ]
     },
     "metadata": {
      "needs_background": "light"
     },
     "output_type": "display_data"
    }
   ],
   "source": [
    "# better to read this data on a histogram\n",
    "plt.hist(gw)\n",
    "plt.xlabel(\"Gest. Weeks\") # name the y label\n",
    "plt.ylabel(\"No. of Infants\")\n",
    "plt.title(\"Gestational Weeks of Infant\") # give the plot a title"
   ]
  },
  {
   "cell_type": "code",
   "execution_count": 49,
   "metadata": {},
   "outputs": [
    {
     "data": {
      "text/plain": [
       "Text(0.5,1,'Birthweight of Infant')"
      ]
     },
     "execution_count": 49,
     "metadata": {},
     "output_type": "execute_result"
    },
    {
     "data": {
      "image/png": "[encoded data removed]",
      "text/plain": [
       "<Figure size 432x288 with 1 Axes>"
      ]
     },
     "metadata": {
      "needs_background": "light"
     },
     "output_type": "display_data"
    }
   ],
   "source": [
    "# better to read this data on a histogram\n",
    "plt.hist(bw)\n",
    "plt.xlabel(\"Birthweight\") # name the y label\n",
    "plt.ylabel(\"No. of Infants\")\n",
    "plt.title(\"Birthweight of Infant\") # give the plot a title"
   ]
  },
  {
   "cell_type": "code",
   "execution_count": 54,
   "metadata": {},
   "outputs": [
    {
     "data": {
      "text/plain": [
       "Text(0,0.5,'No. of Infants')"
      ]
     },
     "execution_count": 54,
     "metadata": {},
     "output_type": "execute_result"
    },
    {
     "data": {
      "image/png": "[encoded data removed]",
      "text/plain": [
       "<Figure size 432x288 with 2 Axes>"
      ]
     },
     "metadata": {
      "needs_background": "light"
     },
     "output_type": "display_data"
    }
   ],
   "source": [
    "plt.subplot(2, 1, 1)\n",
    "plt.hist(gw)\n",
    "plt.xlabel(\"Gest. Weeks\") # name the y label\n",
    "plt.ylabel(\"No. of Infants\")\n",
    "\n",
    "\n",
    "plt.subplot(2, 1, 2)\n",
    "plt.hist(bw)\n",
    "plt.xlabel(\"Birthweight\") # name the y label\n",
    "plt.ylabel(\"No. of Infants\")\n"
   ]
  },
  {
   "cell_type": "code",
   "execution_count": null,
   "metadata": {},
   "outputs": [],
   "source": []
  }
 ],
 "metadata": {
  "kernelspec": {
   "display_name": "Python 3",
   "language": "python",
   "name": "python3"
  },
  "language_info": {
   "codemirror_mode": {
    "name": "ipython",
    "version": 3
   },
   "file_extension": ".py",
   "mimetype": "text/x-python",
   "name": "python",
   "nbconvert_exporter": "python",
   "pygments_lexer": "ipython3",
   "version": "3.6.6"
  }
 },
 "nbformat": 4,
 "nbformat_minor": 2
}
