{
 "cells": [
  {
   "cell_type": "markdown",
   "metadata": {},
   "source": [
    "# Model & Synthesize Data\n",
    "\n",
    "The purpose of this Jupyter Notebook is to complete the task of modeling and synthesizing a data set.  To choose a real-world phenomenon that can be measured and for which you could collect at least one-hundred data points across at least four different variables.\n",
    "\n",
    "My focus for this project is in relation to the Vermont Oxford Network.  Vermont Oxford Network (VON) is a nonprofit voluntary collaboration of health care professionals working together as an interdisciplinary community to change the landscape of neonatal care. Founded in 1988, VON is now comprised of teams of health professionals representing neonatal intensive care units and level I and II care centers around the world, in support of the mission to improve the quality and safety of medical care for newborn infants and their families through a coordinated program of research, education, and quality improvement projects. (ref: https://public.vtoxford.org/about-us/)"
   ]
  },
  {
   "cell_type": "markdown",
   "metadata": {},
   "source": [
    "The National Perinatal Epidemiology Centre, Department of Obstetrics and Gynaecology, UCC, published a report in 2018 \"Mortality Risk Amongst Very Low Birth Weight Infants Born in the Republic of Ireland\" (ref: \n",
    "https://www.ucc.ie/en/media/research/nationalperinatalepidemiologycentre/annualreports/MortalityRiskAmongstVeryLowBirthWeightInfantsintheRepublicofIrelandReport2014-2016.pdf).\n",
    "\n",
    "In 2014-2016, 19 neonatal units submitted data to the VON’s VLBW database. The inclusion criteria were as follows:\n",
    "'Any infant who is born alive at your hospital and whose birth weight is between 401 and 1500 grams OR whose gestational age is between 22 weeks 0 days and 29 weeks 6 days (inclusive), regardless of where in your hospital the infant receives care'\n",
    "\n",
    "This notebook aims to sythesise data to reflect the key variables & findings in this report"
   ]
  },
  {
   "cell_type": "markdown",
   "metadata": {},
   "source": [
    "# The Summary Approach\n",
    "\n",
    "In order to complete the task of synthesizing data which assesses the mortality risk amongst very low birth weight babies, I have decided to take the following approach:\n",
    "\n",
    " - Explain the Variables\n",
    " - Generate a Data Frame Structure\n",
    " - Create the DF variables\n",
    " - Analyise & plot the dataset and highlight key findings"
   ]
  },
  {
   "cell_type": "markdown",
   "metadata": {},
   "source": [
    "# The Variables - Explained\n",
    "\n",
    "## Gestational Weeks\n",
    "Gestational age is the common term used during pregnancy to describe how far along the pregnancy is. It is measured in weeks, from the first day of the woman's last menstrual cycle to the current date. A normal pregnancy can range from 38 to 42 weeks. Infants born before 37 weeks are considered premature. The outcome of this variable will be most likely between 22 - 32 weeks. (ref:https://medlineplus.gov/ency/article/002367.htm)\n",
    "\n",
    "## Birthweight\n",
    "Birth weight is the first weight of your baby, taken just after he or she is born. A low birth weight is less than 2,640 grams. A high birth weight is more than 4,000 grams. The expected result of this variable will see most weights less than 5.5 pounds.  \n",
    "\n",
    "The gestational ages of the VLBW (Very Low Birth Weight) infants ranged from 21 weeks to 33 weeks and their birth weights ranged from 360g to 2,640g\n",
    "(ref:https://www.ucc.ie/en/media/research/nationalperinatalepidemiologycentre/annualreports/MortalityRiskAmongstVeryLowBirthWeightInfantsintheRepublicofIrelandReport2014-2016.pdf)\n",
    "\n",
    "## Congenital Anomaly \n",
    "Congenital anomalies are also known as birth defects, congenital disorders or congenital malformations. If the infant was born with a congenital anomaly, it was recored. Yes or No.\n",
    "\n",
    "## Disposition at 1 Year\n",
    "Did the infant live or die.  The outcome is recorded one year after birth.  There are 4 possible outcomes:\n",
    "- Died: Unfortunately self explanatory  \n",
    "- Home: The infant has been discharged from hospital and is at home\n",
    "- Still Hospitalised: The infant is still under medical care in hospital\n",
    "- Unkown: no contact with the infant's family so status of infant is unknown \n",
    " \n",
    "\n"
   ]
  },
  {
   "cell_type": "markdown",
   "metadata": {},
   "source": [
    "# How to create a Dataset "
   ]
  },
  {
   "cell_type": "code",
   "execution_count": 43,
   "metadata": {},
   "outputs": [],
   "source": [
    "# create a dataframe structure by starting with the column headings\n",
    "import pandas as pd #use pandas to create the dataframe\n",
    "import numpy as np # use numpy to generate the random variables\n",
    "df = pd.DataFrame(columns= [\"Gestational Weeks\", \"Birthweight\", \"Sex\", \"Congenital Anomaly\", \"Disposition at 1 Year\"]) #gives headings to each of the columns"
   ]
  },
  {
   "cell_type": "code",
   "execution_count": 44,
   "metadata": {},
   "outputs": [
    {
     "data": {
      "text/html": [
       "<div>\n",
       "<style scoped>\n",
       "    .dataframe tbody tr th:only-of-type {\n",
       "        vertical-align: middle;\n",
       "    }\n",
       "\n",
       "    .dataframe tbody tr th {\n",
       "        vertical-align: top;\n",
       "    }\n",
       "\n",
       "    .dataframe thead th {\n",
       "        text-align: right;\n",
       "    }\n",
       "</style>\n",
       "<table border=\"1\" class=\"dataframe\">\n",
       "  <thead>\n",
       "    <tr style=\"text-align: right;\">\n",
       "      <th></th>\n",
       "      <th>Gestational Weeks</th>\n",
       "      <th>Birthweight</th>\n",
       "      <th>Sex</th>\n",
       "      <th>Congenital Anomaly</th>\n",
       "      <th>Disposition at 1 Year</th>\n",
       "    </tr>\n",
       "  </thead>\n",
       "  <tbody>\n",
       "  </tbody>\n",
       "</table>\n",
       "</div>"
      ],
      "text/plain": [
       "Empty DataFrame\n",
       "Columns: [Gestational Weeks, Birthweight, Sex, Congenital Anomaly, Disposition at 1 Year]\n",
       "Index: []"
      ]
     },
     "execution_count": 44,
     "metadata": {},
     "output_type": "execute_result"
    }
   ],
   "source": [
    "df # create the dataframe"
   ]
  },
  {
   "cell_type": "code",
   "execution_count": 45,
   "metadata": {},
   "outputs": [
    {
     "data": {
      "text/html": [
       "<div>\n",
       "<style scoped>\n",
       "    .dataframe tbody tr th:only-of-type {\n",
       "        vertical-align: middle;\n",
       "    }\n",
       "\n",
       "    .dataframe tbody tr th {\n",
       "        vertical-align: top;\n",
       "    }\n",
       "\n",
       "    .dataframe thead th {\n",
       "        text-align: right;\n",
       "    }\n",
       "</style>\n",
       "<table border=\"1\" class=\"dataframe\">\n",
       "  <thead>\n",
       "    <tr style=\"text-align: right;\">\n",
       "      <th></th>\n",
       "      <th>Gestational Weeks</th>\n",
       "      <th>Birthweight</th>\n",
       "      <th>Sex</th>\n",
       "      <th>Congenital Anomaly</th>\n",
       "      <th>Disposition at 1 Year</th>\n",
       "    </tr>\n",
       "  </thead>\n",
       "  <tbody>\n",
       "    <tr>\n",
       "      <th>0</th>\n",
       "      <td>Alex</td>\n",
       "      <td>10</td>\n",
       "      <td>6</td>\n",
       "      <td>2</td>\n",
       "      <td>5</td>\n",
       "    </tr>\n",
       "    <tr>\n",
       "      <th>1</th>\n",
       "      <td>Bob</td>\n",
       "      <td>12</td>\n",
       "      <td>6</td>\n",
       "      <td>2</td>\n",
       "      <td>5</td>\n",
       "    </tr>\n",
       "    <tr>\n",
       "      <th>2</th>\n",
       "      <td>Clarke</td>\n",
       "      <td>13</td>\n",
       "      <td>6</td>\n",
       "      <td>2</td>\n",
       "      <td>5</td>\n",
       "    </tr>\n",
       "  </tbody>\n",
       "</table>\n",
       "</div>"
      ],
      "text/plain": [
       "  Gestational Weeks  Birthweight  Sex  Congenital Anomaly  \\\n",
       "0              Alex           10    6                   2   \n",
       "1               Bob           12    6                   2   \n",
       "2            Clarke           13    6                   2   \n",
       "\n",
       "   Disposition at 1 Year  \n",
       "0                      5  \n",
       "1                      5  \n",
       "2                      5  "
      ]
     },
     "execution_count": 45,
     "metadata": {},
     "output_type": "execute_result"
    }
   ],
   "source": [
    "# Testing to populate the data \n",
    "data = [['Alex',10, 6, 2, 5],['Bob',12, 6 ,2, 5],['Clarke',13, 6 ,2, 5]]\n",
    "df = pd.DataFrame(data, columns = ['Gestational Weeks', 'Birthweight', 'Sex', 'Congenital Anomaly', 'Disposition at 1 Year'])\n",
    "df"
   ]
  },
  {
   "cell_type": "code",
   "execution_count": 46,
   "metadata": {},
   "outputs": [],
   "source": [
    "# The above table is the basic structure which I will use as the foundations for systhessing my dataset.\n",
    "# Key learning is how to structure code in order to populate the rows"
   ]
  },
  {
   "cell_type": "markdown",
   "metadata": {},
   "source": [
    "## Gestational Weeks\n",
    "In this dataset the Gestational weeks has a spread from 21 weeks to 33 weeks. With the majority of babies born around weeks 28, 29, 30.  Based on this, I think it is best to generate an array from a normal distribution.\n"
   ]
  },
  {
   "cell_type": "code",
   "execution_count": 47,
   "metadata": {},
   "outputs": [
    {
     "data": {
      "text/plain": [
       "array([28., 22., 34., 25., 30., 31., 26., 29., 29., 25., 26., 27., 27.,\n",
       "       30., 29., 28., 28., 30., 31., 30., 33., 32., 29., 32., 32., 26.,\n",
       "       29., 30., 28., 28., 26., 26., 30., 29., 33., 26., 27., 27., 26.,\n",
       "       31., 23., 27., 29., 28., 24., 31., 26., 26., 26., 23., 27., 36.,\n",
       "       28., 27., 27., 23., 26., 29., 21., 24., 30., 29., 28., 24., 29.,\n",
       "       33., 32., 27., 27., 26., 25., 27., 30., 24., 25., 26., 31., 24.,\n",
       "       26., 27., 31., 25., 30., 25., 30., 23., 29., 25., 28., 28., 24.,\n",
       "       29., 25., 33., 25., 32., 30., 31., 26., 28.])"
      ]
     },
     "execution_count": 47,
     "metadata": {},
     "output_type": "execute_result"
    }
   ],
   "source": [
    "#Setting Parameters for gestational weeks.  Majority of babies born weeks 28, 29, 30\n",
    "# mean and standard deviation\n",
    "gw = np.random.normal(28, 3, 100).round(0) # 28 is the mean, 3 is standard deviation, 100 is the size of the sample\n",
    "gw\n",
    "\n",
    "# took research to find how to round the floats to integers\n",
    "# https://stackoverflow.com/questions/33160367/numpy-how-to-generate-a-normally-distributed-set-of-integers?rq=1"
   ]
  },
  {
   "cell_type": "markdown",
   "metadata": {},
   "source": [
    "## Birthweight\n",
    "The birth weights of very low birth weight infants ranged from 360g to 2,640g.  The data here forms a uniform distribution. Infants are born at many different birth weights. No one more than any other."
   ]
  },
  {
   "cell_type": "code",
   "execution_count": 48,
   "metadata": {},
   "outputs": [
    {
     "data": {
      "text/plain": [
       "array([2625, 1351,  394, 1689, 1198, 1392,  888, 1731,  619, 2389, 1911,\n",
       "       2424, 2276, 1416, 1598,  831, 2341, 2382, 2563,  861, 2554, 2281,\n",
       "        853, 2418,  371, 2632, 1813,  979,  427,  731, 1199,  520,  995,\n",
       "       1546, 2570, 2491, 1653,  373,  853, 1888,  926,  551,  827, 1594,\n",
       "        897, 2205, 2234, 1835, 2189,  865, 2296,  938, 2355,  612, 1467,\n",
       "        747, 1767,  435,  659, 1646,  809, 1735, 2567, 2078, 1366, 1307,\n",
       "       1029, 1607, 2070, 2626,  829, 2026, 1234, 1356, 1701,  729, 1033,\n",
       "        540, 2528,  698,  943,  403, 1426, 2589, 1512, 2389, 1145, 2482,\n",
       "       1864, 2237, 1567, 2235, 2137, 1409, 2468,  554, 1206, 1866, 1638,\n",
       "       1548])"
      ]
     },
     "execution_count": 48,
     "metadata": {},
     "output_type": "execute_result"
    }
   ],
   "source": [
    "#Setting Parameters for bithweight, low = 360g, High = 2640g\n",
    "\n",
    "bw = np.random.randint(360, 2640, size=100) #this function draws random numbers from a uniform distribution\n",
    "bw"
   ]
  },
  {
   "cell_type": "markdown",
   "metadata": {},
   "source": [
    "## Sex\n",
    "\n",
    "Is the infant male or female.  There is a 50/50 chance of being either male or female.  "
   ]
  },
  {
   "cell_type": "code",
   "execution_count": 49,
   "metadata": {},
   "outputs": [
    {
     "data": {
      "text/plain": [
       "array(['Male', 'Male', 'Male', 'Male', 'Female', 'Male', 'Male', 'Male',\n",
       "       'Female', 'Female', 'Female', 'Female', 'Female', 'Male', 'Female',\n",
       "       'Female', 'Male', 'Male', 'Male', 'Male', 'Male', 'Male', 'Male',\n",
       "       'Male', 'Male', 'Female', 'Female', 'Male', 'Female', 'Female',\n",
       "       'Male', 'Male', 'Female', 'Male', 'Male', 'Male', 'Male', 'Male',\n",
       "       'Female', 'Male', 'Female', 'Male', 'Male', 'Male', 'Female',\n",
       "       'Male', 'Female', 'Male', 'Female', 'Male', 'Male', 'Male', 'Male',\n",
       "       'Male', 'Male', 'Male', 'Female', 'Male', 'Male', 'Male', 'Female',\n",
       "       'Female', 'Male', 'Male', 'Female', 'Male', 'Male', 'Male',\n",
       "       'Female', 'Female', 'Male', 'Male', 'Male', 'Male', 'Female',\n",
       "       'Female', 'Male', 'Female', 'Male', 'Male', 'Male', 'Male', 'Male',\n",
       "       'Female', 'Female', 'Female', 'Female', 'Male', 'Male', 'Male',\n",
       "       'Female', 'Female', 'Male', 'Male', 'Female', 'Male', 'Male',\n",
       "       'Male', 'Male', 'Male'], dtype='<U6')"
      ]
     },
     "execution_count": 49,
     "metadata": {},
     "output_type": "execute_result"
    }
   ],
   "source": [
    "#using random.choice, I have ensure that there is a 50/50 chance of the infant being male or female\n",
    "s = np.random.choice([\"Male\", \"Female\"], 100, p=[0.5, 0.5])\n",
    "s"
   ]
  },
  {
   "cell_type": "markdown",
   "metadata": {},
   "source": [
    "## Congenital Anomaly\n",
    "About 9% of babies have a congenital anomaly.  This figure is high in comparison to VON data as abortion was/is not in Ireland.  Does the baby have a congenital anomaly? Yes or No?"
   ]
  },
  {
   "cell_type": "code",
   "execution_count": 50,
   "metadata": {},
   "outputs": [
    {
     "data": {
      "text/plain": [
       "array(['No', 'No', 'No', 'No', 'No', 'No', 'No', 'No', 'No', 'No', 'No',\n",
       "       'No', 'No', 'No', 'No', 'No', 'No', 'No', 'No', 'No', 'No', 'No',\n",
       "       'No', 'No', 'No', 'No', 'No', 'No', 'No', 'No', 'No', 'No', 'No',\n",
       "       'No', 'Yes', 'No', 'No', 'No', 'No', 'Yes', 'No', 'Yes', 'No',\n",
       "       'No', 'No', 'No', 'No', 'Yes', 'No', 'No', 'No', 'Yes', 'No', 'No',\n",
       "       'Yes', 'No', 'No', 'No', 'No', 'Yes', 'Yes', 'No', 'No', 'No',\n",
       "       'No', 'No', 'No', 'No', 'No', 'No', 'No', 'No', 'No', 'No', 'No',\n",
       "       'Yes', 'No', 'No', 'No', 'No', 'Yes', 'No', 'No', 'No', 'No', 'No',\n",
       "       'No', 'No', 'No', 'No', 'No', 'No', 'No', 'No', 'No', 'Yes', 'No',\n",
       "       'No', 'No', 'No'], dtype='<U3')"
      ]
     },
     "execution_count": 50,
     "metadata": {},
     "output_type": "execute_result"
    }
   ],
   "source": [
    "# using random.choice, I have implmented a bias to reflect the real world\n",
    "ca = np.random.choice([\"Yes\",\"No\"], 100, p=[0.11, 0.89])\n",
    "ca\n"
   ]
  },
  {
   "cell_type": "markdown",
   "metadata": {},
   "source": [
    "## Disposition at 1 Year\n"
   ]
  },
  {
   "cell_type": "code",
   "execution_count": 51,
   "metadata": {},
   "outputs": [
    {
     "data": {
      "text/plain": [
       "array(['At Home', 'Unknown', 'Unknown', 'Died', 'Hospital', 'At Home',\n",
       "       'Hospital', 'At Home', 'Hospital', 'At Home', 'At Home', 'Died',\n",
       "       'At Home', 'Unknown', 'Hospital', 'At Home', 'Hospital', 'Died',\n",
       "       'Unknown', 'At Home', 'Hospital', 'Hospital', 'Hospital',\n",
       "       'Unknown', 'At Home', 'At Home', 'At Home', 'Hospital', 'Hospital',\n",
       "       'Unknown', 'At Home', 'Died', 'At Home', 'At Home', 'Hospital',\n",
       "       'Died', 'At Home', 'At Home', 'Hospital', 'Hospital', 'Hospital',\n",
       "       'At Home', 'Hospital', 'At Home', 'At Home', 'Died', 'At Home',\n",
       "       'At Home', 'Hospital', 'Died', 'Unknown', 'Hospital', 'Hospital',\n",
       "       'Hospital', 'Hospital', 'At Home', 'Hospital', 'At Home', 'Died',\n",
       "       'Unknown', 'At Home', 'At Home', 'Died', 'At Home', 'Unknown',\n",
       "       'Unknown', 'Hospital', 'At Home', 'At Home', 'Hospital', 'At Home',\n",
       "       'Died', 'Died', 'Hospital', 'At Home', 'At Home', 'At Home',\n",
       "       'Unknown', 'Hospital', 'Died', 'Hospital', 'Hospital', 'At Home',\n",
       "       'At Home', 'At Home', 'At Home', 'At Home', 'Unknown', 'Unknown',\n",
       "       'Died', 'At Home', 'Died', 'At Home', 'At Home', 'Hospital',\n",
       "       'Hospital', 'Unknown', 'Hospital', 'Died', 'At Home'], dtype='<U8')"
      ]
     },
     "execution_count": 51,
     "metadata": {},
     "output_type": "execute_result"
    }
   ],
   "source": [
    "# 1 year after the infants recorded birth, data is once again gathered to establish the health of the infant.\n",
    "dip = np.random.choice([\"Died\", \"At Home\", \"Hospital\", \"Unknown\"], 100, p=[0.2, 0.5, 0.2, 0.1]) \n",
    "# I have used an estiamted the probabilty based on the report's key findings and used this to generate this array\n",
    "dip"
   ]
  },
  {
   "cell_type": "markdown",
   "metadata": {},
   "source": [
    "# Creating the Dataset"
   ]
  },
  {
   "cell_type": "code",
   "execution_count": 52,
   "metadata": {},
   "outputs": [
    {
     "data": {
      "text/html": [
       "<div>\n",
       "<style scoped>\n",
       "    .dataframe tbody tr th:only-of-type {\n",
       "        vertical-align: middle;\n",
       "    }\n",
       "\n",
       "    .dataframe tbody tr th {\n",
       "        vertical-align: top;\n",
       "    }\n",
       "\n",
       "    .dataframe thead th {\n",
       "        text-align: right;\n",
       "    }\n",
       "</style>\n",
       "<table border=\"1\" class=\"dataframe\">\n",
       "  <thead>\n",
       "    <tr style=\"text-align: right;\">\n",
       "      <th></th>\n",
       "      <th>Gestational Weeks</th>\n",
       "      <th>Birthweight</th>\n",
       "      <th>Sex</th>\n",
       "      <th>Congenital Anomaly</th>\n",
       "      <th>Disposition</th>\n",
       "    </tr>\n",
       "  </thead>\n",
       "  <tbody>\n",
       "    <tr>\n",
       "      <th>0</th>\n",
       "      <td>28.0</td>\n",
       "      <td>2625</td>\n",
       "      <td>Male</td>\n",
       "      <td>No</td>\n",
       "      <td>At Home</td>\n",
       "    </tr>\n",
       "    <tr>\n",
       "      <th>1</th>\n",
       "      <td>22.0</td>\n",
       "      <td>1351</td>\n",
       "      <td>Male</td>\n",
       "      <td>No</td>\n",
       "      <td>Unknown</td>\n",
       "    </tr>\n",
       "    <tr>\n",
       "      <th>2</th>\n",
       "      <td>34.0</td>\n",
       "      <td>394</td>\n",
       "      <td>Male</td>\n",
       "      <td>No</td>\n",
       "      <td>Unknown</td>\n",
       "    </tr>\n",
       "    <tr>\n",
       "      <th>3</th>\n",
       "      <td>25.0</td>\n",
       "      <td>1689</td>\n",
       "      <td>Male</td>\n",
       "      <td>No</td>\n",
       "      <td>Died</td>\n",
       "    </tr>\n",
       "    <tr>\n",
       "      <th>4</th>\n",
       "      <td>30.0</td>\n",
       "      <td>1198</td>\n",
       "      <td>Female</td>\n",
       "      <td>No</td>\n",
       "      <td>Hospital</td>\n",
       "    </tr>\n",
       "    <tr>\n",
       "      <th>5</th>\n",
       "      <td>31.0</td>\n",
       "      <td>1392</td>\n",
       "      <td>Male</td>\n",
       "      <td>No</td>\n",
       "      <td>At Home</td>\n",
       "    </tr>\n",
       "    <tr>\n",
       "      <th>6</th>\n",
       "      <td>26.0</td>\n",
       "      <td>888</td>\n",
       "      <td>Male</td>\n",
       "      <td>No</td>\n",
       "      <td>Hospital</td>\n",
       "    </tr>\n",
       "    <tr>\n",
       "      <th>7</th>\n",
       "      <td>29.0</td>\n",
       "      <td>1731</td>\n",
       "      <td>Male</td>\n",
       "      <td>No</td>\n",
       "      <td>At Home</td>\n",
       "    </tr>\n",
       "    <tr>\n",
       "      <th>8</th>\n",
       "      <td>29.0</td>\n",
       "      <td>619</td>\n",
       "      <td>Female</td>\n",
       "      <td>No</td>\n",
       "      <td>Hospital</td>\n",
       "    </tr>\n",
       "    <tr>\n",
       "      <th>9</th>\n",
       "      <td>25.0</td>\n",
       "      <td>2389</td>\n",
       "      <td>Female</td>\n",
       "      <td>No</td>\n",
       "      <td>At Home</td>\n",
       "    </tr>\n",
       "    <tr>\n",
       "      <th>10</th>\n",
       "      <td>26.0</td>\n",
       "      <td>1911</td>\n",
       "      <td>Female</td>\n",
       "      <td>No</td>\n",
       "      <td>At Home</td>\n",
       "    </tr>\n",
       "    <tr>\n",
       "      <th>11</th>\n",
       "      <td>27.0</td>\n",
       "      <td>2424</td>\n",
       "      <td>Female</td>\n",
       "      <td>No</td>\n",
       "      <td>Died</td>\n",
       "    </tr>\n",
       "    <tr>\n",
       "      <th>12</th>\n",
       "      <td>27.0</td>\n",
       "      <td>2276</td>\n",
       "      <td>Female</td>\n",
       "      <td>No</td>\n",
       "      <td>At Home</td>\n",
       "    </tr>\n",
       "    <tr>\n",
       "      <th>13</th>\n",
       "      <td>30.0</td>\n",
       "      <td>1416</td>\n",
       "      <td>Male</td>\n",
       "      <td>No</td>\n",
       "      <td>Unknown</td>\n",
       "    </tr>\n",
       "    <tr>\n",
       "      <th>14</th>\n",
       "      <td>29.0</td>\n",
       "      <td>1598</td>\n",
       "      <td>Female</td>\n",
       "      <td>No</td>\n",
       "      <td>Hospital</td>\n",
       "    </tr>\n",
       "    <tr>\n",
       "      <th>15</th>\n",
       "      <td>28.0</td>\n",
       "      <td>831</td>\n",
       "      <td>Female</td>\n",
       "      <td>No</td>\n",
       "      <td>At Home</td>\n",
       "    </tr>\n",
       "    <tr>\n",
       "      <th>16</th>\n",
       "      <td>28.0</td>\n",
       "      <td>2341</td>\n",
       "      <td>Male</td>\n",
       "      <td>No</td>\n",
       "      <td>Hospital</td>\n",
       "    </tr>\n",
       "    <tr>\n",
       "      <th>17</th>\n",
       "      <td>30.0</td>\n",
       "      <td>2382</td>\n",
       "      <td>Male</td>\n",
       "      <td>No</td>\n",
       "      <td>Died</td>\n",
       "    </tr>\n",
       "    <tr>\n",
       "      <th>18</th>\n",
       "      <td>31.0</td>\n",
       "      <td>2563</td>\n",
       "      <td>Male</td>\n",
       "      <td>No</td>\n",
       "      <td>Unknown</td>\n",
       "    </tr>\n",
       "    <tr>\n",
       "      <th>19</th>\n",
       "      <td>30.0</td>\n",
       "      <td>861</td>\n",
       "      <td>Male</td>\n",
       "      <td>No</td>\n",
       "      <td>At Home</td>\n",
       "    </tr>\n",
       "    <tr>\n",
       "      <th>20</th>\n",
       "      <td>33.0</td>\n",
       "      <td>2554</td>\n",
       "      <td>Male</td>\n",
       "      <td>No</td>\n",
       "      <td>Hospital</td>\n",
       "    </tr>\n",
       "    <tr>\n",
       "      <th>21</th>\n",
       "      <td>32.0</td>\n",
       "      <td>2281</td>\n",
       "      <td>Male</td>\n",
       "      <td>No</td>\n",
       "      <td>Hospital</td>\n",
       "    </tr>\n",
       "    <tr>\n",
       "      <th>22</th>\n",
       "      <td>29.0</td>\n",
       "      <td>853</td>\n",
       "      <td>Male</td>\n",
       "      <td>No</td>\n",
       "      <td>Hospital</td>\n",
       "    </tr>\n",
       "    <tr>\n",
       "      <th>23</th>\n",
       "      <td>32.0</td>\n",
       "      <td>2418</td>\n",
       "      <td>Male</td>\n",
       "      <td>No</td>\n",
       "      <td>Unknown</td>\n",
       "    </tr>\n",
       "    <tr>\n",
       "      <th>24</th>\n",
       "      <td>32.0</td>\n",
       "      <td>371</td>\n",
       "      <td>Male</td>\n",
       "      <td>No</td>\n",
       "      <td>At Home</td>\n",
       "    </tr>\n",
       "    <tr>\n",
       "      <th>25</th>\n",
       "      <td>26.0</td>\n",
       "      <td>2632</td>\n",
       "      <td>Female</td>\n",
       "      <td>No</td>\n",
       "      <td>At Home</td>\n",
       "    </tr>\n",
       "    <tr>\n",
       "      <th>26</th>\n",
       "      <td>29.0</td>\n",
       "      <td>1813</td>\n",
       "      <td>Female</td>\n",
       "      <td>No</td>\n",
       "      <td>At Home</td>\n",
       "    </tr>\n",
       "    <tr>\n",
       "      <th>27</th>\n",
       "      <td>30.0</td>\n",
       "      <td>979</td>\n",
       "      <td>Male</td>\n",
       "      <td>No</td>\n",
       "      <td>Hospital</td>\n",
       "    </tr>\n",
       "    <tr>\n",
       "      <th>28</th>\n",
       "      <td>28.0</td>\n",
       "      <td>427</td>\n",
       "      <td>Female</td>\n",
       "      <td>No</td>\n",
       "      <td>Hospital</td>\n",
       "    </tr>\n",
       "    <tr>\n",
       "      <th>29</th>\n",
       "      <td>28.0</td>\n",
       "      <td>731</td>\n",
       "      <td>Female</td>\n",
       "      <td>No</td>\n",
       "      <td>Unknown</td>\n",
       "    </tr>\n",
       "    <tr>\n",
       "      <th>...</th>\n",
       "      <td>...</td>\n",
       "      <td>...</td>\n",
       "      <td>...</td>\n",
       "      <td>...</td>\n",
       "      <td>...</td>\n",
       "    </tr>\n",
       "    <tr>\n",
       "      <th>70</th>\n",
       "      <td>25.0</td>\n",
       "      <td>829</td>\n",
       "      <td>Male</td>\n",
       "      <td>No</td>\n",
       "      <td>At Home</td>\n",
       "    </tr>\n",
       "    <tr>\n",
       "      <th>71</th>\n",
       "      <td>27.0</td>\n",
       "      <td>2026</td>\n",
       "      <td>Male</td>\n",
       "      <td>No</td>\n",
       "      <td>Died</td>\n",
       "    </tr>\n",
       "    <tr>\n",
       "      <th>72</th>\n",
       "      <td>30.0</td>\n",
       "      <td>1234</td>\n",
       "      <td>Male</td>\n",
       "      <td>No</td>\n",
       "      <td>Died</td>\n",
       "    </tr>\n",
       "    <tr>\n",
       "      <th>73</th>\n",
       "      <td>24.0</td>\n",
       "      <td>1356</td>\n",
       "      <td>Male</td>\n",
       "      <td>No</td>\n",
       "      <td>Hospital</td>\n",
       "    </tr>\n",
       "    <tr>\n",
       "      <th>74</th>\n",
       "      <td>25.0</td>\n",
       "      <td>1701</td>\n",
       "      <td>Female</td>\n",
       "      <td>No</td>\n",
       "      <td>At Home</td>\n",
       "    </tr>\n",
       "    <tr>\n",
       "      <th>75</th>\n",
       "      <td>26.0</td>\n",
       "      <td>729</td>\n",
       "      <td>Female</td>\n",
       "      <td>Yes</td>\n",
       "      <td>At Home</td>\n",
       "    </tr>\n",
       "    <tr>\n",
       "      <th>76</th>\n",
       "      <td>31.0</td>\n",
       "      <td>1033</td>\n",
       "      <td>Male</td>\n",
       "      <td>No</td>\n",
       "      <td>At Home</td>\n",
       "    </tr>\n",
       "    <tr>\n",
       "      <th>77</th>\n",
       "      <td>24.0</td>\n",
       "      <td>540</td>\n",
       "      <td>Female</td>\n",
       "      <td>No</td>\n",
       "      <td>Unknown</td>\n",
       "    </tr>\n",
       "    <tr>\n",
       "      <th>78</th>\n",
       "      <td>26.0</td>\n",
       "      <td>2528</td>\n",
       "      <td>Male</td>\n",
       "      <td>No</td>\n",
       "      <td>Hospital</td>\n",
       "    </tr>\n",
       "    <tr>\n",
       "      <th>79</th>\n",
       "      <td>27.0</td>\n",
       "      <td>698</td>\n",
       "      <td>Male</td>\n",
       "      <td>No</td>\n",
       "      <td>Died</td>\n",
       "    </tr>\n",
       "    <tr>\n",
       "      <th>80</th>\n",
       "      <td>31.0</td>\n",
       "      <td>943</td>\n",
       "      <td>Male</td>\n",
       "      <td>Yes</td>\n",
       "      <td>Hospital</td>\n",
       "    </tr>\n",
       "    <tr>\n",
       "      <th>81</th>\n",
       "      <td>25.0</td>\n",
       "      <td>403</td>\n",
       "      <td>Male</td>\n",
       "      <td>No</td>\n",
       "      <td>Hospital</td>\n",
       "    </tr>\n",
       "    <tr>\n",
       "      <th>82</th>\n",
       "      <td>30.0</td>\n",
       "      <td>1426</td>\n",
       "      <td>Male</td>\n",
       "      <td>No</td>\n",
       "      <td>At Home</td>\n",
       "    </tr>\n",
       "    <tr>\n",
       "      <th>83</th>\n",
       "      <td>25.0</td>\n",
       "      <td>2589</td>\n",
       "      <td>Female</td>\n",
       "      <td>No</td>\n",
       "      <td>At Home</td>\n",
       "    </tr>\n",
       "    <tr>\n",
       "      <th>84</th>\n",
       "      <td>30.0</td>\n",
       "      <td>1512</td>\n",
       "      <td>Female</td>\n",
       "      <td>No</td>\n",
       "      <td>At Home</td>\n",
       "    </tr>\n",
       "    <tr>\n",
       "      <th>85</th>\n",
       "      <td>23.0</td>\n",
       "      <td>2389</td>\n",
       "      <td>Female</td>\n",
       "      <td>No</td>\n",
       "      <td>At Home</td>\n",
       "    </tr>\n",
       "    <tr>\n",
       "      <th>86</th>\n",
       "      <td>29.0</td>\n",
       "      <td>1145</td>\n",
       "      <td>Female</td>\n",
       "      <td>No</td>\n",
       "      <td>At Home</td>\n",
       "    </tr>\n",
       "    <tr>\n",
       "      <th>87</th>\n",
       "      <td>25.0</td>\n",
       "      <td>2482</td>\n",
       "      <td>Male</td>\n",
       "      <td>No</td>\n",
       "      <td>Unknown</td>\n",
       "    </tr>\n",
       "    <tr>\n",
       "      <th>88</th>\n",
       "      <td>28.0</td>\n",
       "      <td>1864</td>\n",
       "      <td>Male</td>\n",
       "      <td>No</td>\n",
       "      <td>Unknown</td>\n",
       "    </tr>\n",
       "    <tr>\n",
       "      <th>89</th>\n",
       "      <td>28.0</td>\n",
       "      <td>2237</td>\n",
       "      <td>Male</td>\n",
       "      <td>No</td>\n",
       "      <td>Died</td>\n",
       "    </tr>\n",
       "    <tr>\n",
       "      <th>90</th>\n",
       "      <td>24.0</td>\n",
       "      <td>1567</td>\n",
       "      <td>Female</td>\n",
       "      <td>No</td>\n",
       "      <td>At Home</td>\n",
       "    </tr>\n",
       "    <tr>\n",
       "      <th>91</th>\n",
       "      <td>29.0</td>\n",
       "      <td>2235</td>\n",
       "      <td>Female</td>\n",
       "      <td>No</td>\n",
       "      <td>Died</td>\n",
       "    </tr>\n",
       "    <tr>\n",
       "      <th>92</th>\n",
       "      <td>25.0</td>\n",
       "      <td>2137</td>\n",
       "      <td>Male</td>\n",
       "      <td>No</td>\n",
       "      <td>At Home</td>\n",
       "    </tr>\n",
       "    <tr>\n",
       "      <th>93</th>\n",
       "      <td>33.0</td>\n",
       "      <td>1409</td>\n",
       "      <td>Male</td>\n",
       "      <td>No</td>\n",
       "      <td>At Home</td>\n",
       "    </tr>\n",
       "    <tr>\n",
       "      <th>94</th>\n",
       "      <td>25.0</td>\n",
       "      <td>2468</td>\n",
       "      <td>Female</td>\n",
       "      <td>No</td>\n",
       "      <td>Hospital</td>\n",
       "    </tr>\n",
       "    <tr>\n",
       "      <th>95</th>\n",
       "      <td>32.0</td>\n",
       "      <td>554</td>\n",
       "      <td>Male</td>\n",
       "      <td>Yes</td>\n",
       "      <td>Hospital</td>\n",
       "    </tr>\n",
       "    <tr>\n",
       "      <th>96</th>\n",
       "      <td>30.0</td>\n",
       "      <td>1206</td>\n",
       "      <td>Male</td>\n",
       "      <td>No</td>\n",
       "      <td>Unknown</td>\n",
       "    </tr>\n",
       "    <tr>\n",
       "      <th>97</th>\n",
       "      <td>31.0</td>\n",
       "      <td>1866</td>\n",
       "      <td>Male</td>\n",
       "      <td>No</td>\n",
       "      <td>Hospital</td>\n",
       "    </tr>\n",
       "    <tr>\n",
       "      <th>98</th>\n",
       "      <td>26.0</td>\n",
       "      <td>1638</td>\n",
       "      <td>Male</td>\n",
       "      <td>No</td>\n",
       "      <td>Died</td>\n",
       "    </tr>\n",
       "    <tr>\n",
       "      <th>99</th>\n",
       "      <td>28.0</td>\n",
       "      <td>1548</td>\n",
       "      <td>Male</td>\n",
       "      <td>No</td>\n",
       "      <td>At Home</td>\n",
       "    </tr>\n",
       "  </tbody>\n",
       "</table>\n",
       "<p>100 rows × 5 columns</p>\n",
       "</div>"
      ],
      "text/plain": [
       "    Gestational Weeks  Birthweight     Sex Congenital Anomaly Disposition\n",
       "0                28.0         2625    Male                 No     At Home\n",
       "1                22.0         1351    Male                 No     Unknown\n",
       "2                34.0          394    Male                 No     Unknown\n",
       "3                25.0         1689    Male                 No        Died\n",
       "4                30.0         1198  Female                 No    Hospital\n",
       "5                31.0         1392    Male                 No     At Home\n",
       "6                26.0          888    Male                 No    Hospital\n",
       "7                29.0         1731    Male                 No     At Home\n",
       "8                29.0          619  Female                 No    Hospital\n",
       "9                25.0         2389  Female                 No     At Home\n",
       "10               26.0         1911  Female                 No     At Home\n",
       "11               27.0         2424  Female                 No        Died\n",
       "12               27.0         2276  Female                 No     At Home\n",
       "13               30.0         1416    Male                 No     Unknown\n",
       "14               29.0         1598  Female                 No    Hospital\n",
       "15               28.0          831  Female                 No     At Home\n",
       "16               28.0         2341    Male                 No    Hospital\n",
       "17               30.0         2382    Male                 No        Died\n",
       "18               31.0         2563    Male                 No     Unknown\n",
       "19               30.0          861    Male                 No     At Home\n",
       "20               33.0         2554    Male                 No    Hospital\n",
       "21               32.0         2281    Male                 No    Hospital\n",
       "22               29.0          853    Male                 No    Hospital\n",
       "23               32.0         2418    Male                 No     Unknown\n",
       "24               32.0          371    Male                 No     At Home\n",
       "25               26.0         2632  Female                 No     At Home\n",
       "26               29.0         1813  Female                 No     At Home\n",
       "27               30.0          979    Male                 No    Hospital\n",
       "28               28.0          427  Female                 No    Hospital\n",
       "29               28.0          731  Female                 No     Unknown\n",
       "..                ...          ...     ...                ...         ...\n",
       "70               25.0          829    Male                 No     At Home\n",
       "71               27.0         2026    Male                 No        Died\n",
       "72               30.0         1234    Male                 No        Died\n",
       "73               24.0         1356    Male                 No    Hospital\n",
       "74               25.0         1701  Female                 No     At Home\n",
       "75               26.0          729  Female                Yes     At Home\n",
       "76               31.0         1033    Male                 No     At Home\n",
       "77               24.0          540  Female                 No     Unknown\n",
       "78               26.0         2528    Male                 No    Hospital\n",
       "79               27.0          698    Male                 No        Died\n",
       "80               31.0          943    Male                Yes    Hospital\n",
       "81               25.0          403    Male                 No    Hospital\n",
       "82               30.0         1426    Male                 No     At Home\n",
       "83               25.0         2589  Female                 No     At Home\n",
       "84               30.0         1512  Female                 No     At Home\n",
       "85               23.0         2389  Female                 No     At Home\n",
       "86               29.0         1145  Female                 No     At Home\n",
       "87               25.0         2482    Male                 No     Unknown\n",
       "88               28.0         1864    Male                 No     Unknown\n",
       "89               28.0         2237    Male                 No        Died\n",
       "90               24.0         1567  Female                 No     At Home\n",
       "91               29.0         2235  Female                 No        Died\n",
       "92               25.0         2137    Male                 No     At Home\n",
       "93               33.0         1409    Male                 No     At Home\n",
       "94               25.0         2468  Female                 No    Hospital\n",
       "95               32.0          554    Male                Yes    Hospital\n",
       "96               30.0         1206    Male                 No     Unknown\n",
       "97               31.0         1866    Male                 No    Hospital\n",
       "98               26.0         1638    Male                 No        Died\n",
       "99               28.0         1548    Male                 No     At Home\n",
       "\n",
       "[100 rows x 5 columns]"
      ]
     },
     "execution_count": 52,
     "metadata": {},
     "output_type": "execute_result"
    }
   ],
   "source": [
    "# Populating the Dataset\n",
    "# using my trial and error example above, I have used this structure to create the dataset\n",
    "\n",
    "df = pd.DataFrame({\"Gestational Weeks\" : gw, \"Birthweight\" : bw, \"Sex\" : s, \"Congenital Anomaly\" : ca, \"Disposition\" : dip})\n",
    "df"
   ]
  },
  {
   "cell_type": "code",
   "execution_count": 53,
   "metadata": {},
   "outputs": [
    {
     "name": "stdout",
     "output_type": "stream",
     "text": [
      "(100, 5)\n"
     ]
    }
   ],
   "source": [
    "import pandas as pd\n",
    "print(df.shape) # shape - this tells quantity of rows and columns in the dataset"
   ]
  },
  {
   "cell_type": "code",
   "execution_count": 54,
   "metadata": {},
   "outputs": [
    {
     "name": "stdout",
     "output_type": "stream",
     "text": [
      "   Gestational Weeks  Birthweight     Sex Congenital Anomaly Disposition\n",
      "0               28.0         2625    Male                 No     At Home\n",
      "1               22.0         1351    Male                 No     Unknown\n",
      "2               34.0          394    Male                 No     Unknown\n",
      "3               25.0         1689    Male                 No        Died\n",
      "4               30.0         1198  Female                 No    Hospital\n",
      "5               31.0         1392    Male                 No     At Home\n",
      "6               26.0          888    Male                 No    Hospital\n",
      "7               29.0         1731    Male                 No     At Home\n",
      "8               29.0          619  Female                 No    Hospital\n",
      "9               25.0         2389  Female                 No     At Home\n"
     ]
    }
   ],
   "source": [
    "print(df.head(10)) # head - prints first ten rows of the dataset"
   ]
  },
  {
   "cell_type": "code",
   "execution_count": 55,
   "metadata": {},
   "outputs": [
    {
     "name": "stdout",
     "output_type": "stream",
     "text": [
      "       Gestational Weeks  Birthweight\n",
      "count              100.0        100.0\n",
      "mean                28.0       1526.0\n",
      "std                  3.0        698.0\n",
      "min                 21.0        371.0\n",
      "25%                 26.0        882.0\n",
      "50%                 28.0       1547.0\n",
      "75%                 30.0       2212.0\n",
      "max                 36.0       2632.0\n"
     ]
    }
   ],
   "source": [
    "# description - prints keys stats on the dataset\n",
    "print(df.describe().round(0))"
   ]
  },
  {
   "cell_type": "code",
   "execution_count": 56,
   "metadata": {},
   "outputs": [
    {
     "data": {
      "text/html": [
       "<div>\n",
       "<style scoped>\n",
       "    .dataframe tbody tr th:only-of-type {\n",
       "        vertical-align: middle;\n",
       "    }\n",
       "\n",
       "    .dataframe tbody tr th {\n",
       "        vertical-align: top;\n",
       "    }\n",
       "\n",
       "    .dataframe thead th {\n",
       "        text-align: right;\n",
       "    }\n",
       "</style>\n",
       "<table border=\"1\" class=\"dataframe\">\n",
       "  <thead>\n",
       "    <tr style=\"text-align: right;\">\n",
       "      <th></th>\n",
       "      <th>Gestational Weeks</th>\n",
       "      <th>Birthweight</th>\n",
       "      <th>Sex</th>\n",
       "      <th>Congenital Anomaly</th>\n",
       "      <th>Disposition</th>\n",
       "    </tr>\n",
       "  </thead>\n",
       "  <tbody>\n",
       "    <tr>\n",
       "      <th>count</th>\n",
       "      <td>100.000000</td>\n",
       "      <td>100.000000</td>\n",
       "      <td>100</td>\n",
       "      <td>100</td>\n",
       "      <td>100</td>\n",
       "    </tr>\n",
       "    <tr>\n",
       "      <th>unique</th>\n",
       "      <td>NaN</td>\n",
       "      <td>NaN</td>\n",
       "      <td>2</td>\n",
       "      <td>2</td>\n",
       "      <td>4</td>\n",
       "    </tr>\n",
       "    <tr>\n",
       "      <th>top</th>\n",
       "      <td>NaN</td>\n",
       "      <td>NaN</td>\n",
       "      <td>Male</td>\n",
       "      <td>No</td>\n",
       "      <td>At Home</td>\n",
       "    </tr>\n",
       "    <tr>\n",
       "      <th>freq</th>\n",
       "      <td>NaN</td>\n",
       "      <td>NaN</td>\n",
       "      <td>66</td>\n",
       "      <td>89</td>\n",
       "      <td>41</td>\n",
       "    </tr>\n",
       "    <tr>\n",
       "      <th>mean</th>\n",
       "      <td>27.830000</td>\n",
       "      <td>1525.570000</td>\n",
       "      <td>NaN</td>\n",
       "      <td>NaN</td>\n",
       "      <td>NaN</td>\n",
       "    </tr>\n",
       "    <tr>\n",
       "      <th>std</th>\n",
       "      <td>2.895678</td>\n",
       "      <td>697.510222</td>\n",
       "      <td>NaN</td>\n",
       "      <td>NaN</td>\n",
       "      <td>NaN</td>\n",
       "    </tr>\n",
       "    <tr>\n",
       "      <th>min</th>\n",
       "      <td>21.000000</td>\n",
       "      <td>371.000000</td>\n",
       "      <td>NaN</td>\n",
       "      <td>NaN</td>\n",
       "      <td>NaN</td>\n",
       "    </tr>\n",
       "    <tr>\n",
       "      <th>25%</th>\n",
       "      <td>26.000000</td>\n",
       "      <td>882.250000</td>\n",
       "      <td>NaN</td>\n",
       "      <td>NaN</td>\n",
       "      <td>NaN</td>\n",
       "    </tr>\n",
       "    <tr>\n",
       "      <th>50%</th>\n",
       "      <td>28.000000</td>\n",
       "      <td>1547.000000</td>\n",
       "      <td>NaN</td>\n",
       "      <td>NaN</td>\n",
       "      <td>NaN</td>\n",
       "    </tr>\n",
       "    <tr>\n",
       "      <th>75%</th>\n",
       "      <td>30.000000</td>\n",
       "      <td>2212.250000</td>\n",
       "      <td>NaN</td>\n",
       "      <td>NaN</td>\n",
       "      <td>NaN</td>\n",
       "    </tr>\n",
       "    <tr>\n",
       "      <th>max</th>\n",
       "      <td>36.000000</td>\n",
       "      <td>2632.000000</td>\n",
       "      <td>NaN</td>\n",
       "      <td>NaN</td>\n",
       "      <td>NaN</td>\n",
       "    </tr>\n",
       "  </tbody>\n",
       "</table>\n",
       "</div>"
      ],
      "text/plain": [
       "        Gestational Weeks  Birthweight   Sex Congenital Anomaly Disposition\n",
       "count          100.000000   100.000000   100                100         100\n",
       "unique                NaN          NaN     2                  2           4\n",
       "top                   NaN          NaN  Male                 No     At Home\n",
       "freq                  NaN          NaN    66                 89          41\n",
       "mean            27.830000  1525.570000   NaN                NaN         NaN\n",
       "std              2.895678   697.510222   NaN                NaN         NaN\n",
       "min             21.000000   371.000000   NaN                NaN         NaN\n",
       "25%             26.000000   882.250000   NaN                NaN         NaN\n",
       "50%             28.000000  1547.000000   NaN                NaN         NaN\n",
       "75%             30.000000  2212.250000   NaN                NaN         NaN\n",
       "max             36.000000  2632.000000   NaN                NaN         NaN"
      ]
     },
     "execution_count": 56,
     "metadata": {},
     "output_type": "execute_result"
    }
   ],
   "source": [
    "df.describe(include='all') #Describing all columns of a DataFrame regardless of data type."
   ]
  },
  {
   "cell_type": "code",
   "execution_count": 57,
   "metadata": {},
   "outputs": [
    {
     "data": {
      "text/html": [
       "<div>\n",
       "<style scoped>\n",
       "    .dataframe tbody tr th:only-of-type {\n",
       "        vertical-align: middle;\n",
       "    }\n",
       "\n",
       "    .dataframe tbody tr th {\n",
       "        vertical-align: top;\n",
       "    }\n",
       "\n",
       "    .dataframe thead th {\n",
       "        text-align: right;\n",
       "    }\n",
       "</style>\n",
       "<table border=\"1\" class=\"dataframe\">\n",
       "  <thead>\n",
       "    <tr style=\"text-align: right;\">\n",
       "      <th></th>\n",
       "      <th>Sex</th>\n",
       "      <th>Congenital Anomaly</th>\n",
       "      <th>Disposition</th>\n",
       "    </tr>\n",
       "  </thead>\n",
       "  <tbody>\n",
       "    <tr>\n",
       "      <th>count</th>\n",
       "      <td>100</td>\n",
       "      <td>100</td>\n",
       "      <td>100</td>\n",
       "    </tr>\n",
       "    <tr>\n",
       "      <th>unique</th>\n",
       "      <td>2</td>\n",
       "      <td>2</td>\n",
       "      <td>4</td>\n",
       "    </tr>\n",
       "    <tr>\n",
       "      <th>top</th>\n",
       "      <td>Male</td>\n",
       "      <td>No</td>\n",
       "      <td>At Home</td>\n",
       "    </tr>\n",
       "    <tr>\n",
       "      <th>freq</th>\n",
       "      <td>66</td>\n",
       "      <td>89</td>\n",
       "      <td>41</td>\n",
       "    </tr>\n",
       "  </tbody>\n",
       "</table>\n",
       "</div>"
      ],
      "text/plain": [
       "         Sex Congenital Anomaly Disposition\n",
       "count    100                100         100\n",
       "unique     2                  2           4\n",
       "top     Male                 No     At Home\n",
       "freq      66                 89          41"
      ]
     },
     "execution_count": 57,
     "metadata": {},
     "output_type": "execute_result"
    }
   ],
   "source": [
    "df.describe(include=[np.object]) #Including only string columns in a DataFrame description"
   ]
  },
  {
   "cell_type": "code",
   "execution_count": 58,
   "metadata": {},
   "outputs": [
    {
     "data": {
      "text/html": [
       "<div>\n",
       "<style scoped>\n",
       "    .dataframe tbody tr th:only-of-type {\n",
       "        vertical-align: middle;\n",
       "    }\n",
       "\n",
       "    .dataframe tbody tr th {\n",
       "        vertical-align: top;\n",
       "    }\n",
       "\n",
       "    .dataframe thead th {\n",
       "        text-align: right;\n",
       "    }\n",
       "</style>\n",
       "<table border=\"1\" class=\"dataframe\">\n",
       "  <thead>\n",
       "    <tr style=\"text-align: right;\">\n",
       "      <th></th>\n",
       "      <th>Sex</th>\n",
       "      <th>Congenital Anomaly</th>\n",
       "      <th>Disposition</th>\n",
       "    </tr>\n",
       "  </thead>\n",
       "  <tbody>\n",
       "    <tr>\n",
       "      <th>count</th>\n",
       "      <td>100</td>\n",
       "      <td>100</td>\n",
       "      <td>100</td>\n",
       "    </tr>\n",
       "    <tr>\n",
       "      <th>unique</th>\n",
       "      <td>2</td>\n",
       "      <td>2</td>\n",
       "      <td>4</td>\n",
       "    </tr>\n",
       "    <tr>\n",
       "      <th>top</th>\n",
       "      <td>Male</td>\n",
       "      <td>No</td>\n",
       "      <td>At Home</td>\n",
       "    </tr>\n",
       "    <tr>\n",
       "      <th>freq</th>\n",
       "      <td>66</td>\n",
       "      <td>89</td>\n",
       "      <td>41</td>\n",
       "    </tr>\n",
       "  </tbody>\n",
       "</table>\n",
       "</div>"
      ],
      "text/plain": [
       "         Sex Congenital Anomaly Disposition\n",
       "count    100                100         100\n",
       "unique     2                  2           4\n",
       "top     Male                 No     At Home\n",
       "freq      66                 89          41"
      ]
     },
     "execution_count": 58,
     "metadata": {},
     "output_type": "execute_result"
    }
   ],
   "source": [
    " df.describe(exclude=[np.number]) #Excluding numeric columns from a DataFrame description - same result as code above"
   ]
  },
  {
   "cell_type": "code",
   "execution_count": 99,
   "metadata": {},
   "outputs": [
    {
     "data": {
      "text/plain": [
       "Sex\n",
       "Female    34\n",
       "Male      66\n",
       "dtype: int64"
      ]
     },
     "execution_count": 99,
     "metadata": {},
     "output_type": "execute_result"
    }
   ],
   "source": [
    "df.groupby('Sex').size()\n"
   ]
  },
  {
   "cell_type": "code",
   "execution_count": 100,
   "metadata": {},
   "outputs": [
    {
     "data": {
      "text/plain": [
       "Congenital Anomaly\n",
       "No     89\n",
       "Yes    11\n",
       "dtype: int64"
      ]
     },
     "execution_count": 100,
     "metadata": {},
     "output_type": "execute_result"
    }
   ],
   "source": [
    "df.groupby('Congenital Anomaly').size()\n"
   ]
  },
  {
   "cell_type": "code",
   "execution_count": 101,
   "metadata": {},
   "outputs": [
    {
     "data": {
      "text/plain": [
       "Disposition\n",
       "At Home     41\n",
       "Died        15\n",
       "Hospital    30\n",
       "Unknown     14\n",
       "dtype: int64"
      ]
     },
     "execution_count": 101,
     "metadata": {},
     "output_type": "execute_result"
    }
   ],
   "source": [
    "df.groupby('Disposition').size()\n",
    "\n"
   ]
  },
  {
   "cell_type": "code",
   "execution_count": 109,
   "metadata": {},
   "outputs": [
    {
     "name": "stdout",
     "output_type": "stream",
     "text": [
      "       Gestational Weeks  Birthweight\n",
      "count          41.000000    41.000000\n",
      "mean           27.414634  1492.780488\n",
      "std             2.469571   646.170044\n",
      "min            23.000000   371.000000\n",
      "25%            26.000000   897.000000\n",
      "50%            27.000000  1548.000000\n",
      "75%            29.000000  1911.000000\n",
      "max            33.000000  2632.000000\n",
      "       Gestational Weeks  Birthweight\n",
      "count          15.000000    15.000000\n",
      "mean           26.933333  1724.666667\n",
      "std             2.658320   741.228196\n",
      "min            21.000000   520.000000\n",
      "25%            26.000000  1049.500000\n",
      "50%            27.000000  2026.000000\n",
      "75%            28.500000  2309.500000\n",
      "max            31.000000  2567.000000\n",
      "       Gestational Weeks  Birthweight\n",
      "count          30.000000    30.000000\n",
      "mean           28.600000  1463.433333\n",
      "std             3.080528   752.162340\n",
      "min            23.000000   403.000000\n",
      "25%            26.000000   861.750000\n",
      "50%            28.500000  1277.000000\n",
      "75%            31.000000  2258.000000\n",
      "max            36.000000  2626.000000\n",
      "       Gestational Weeks  Birthweight\n",
      "count          14.000000    14.000000\n",
      "mean           28.357143  1541.428571\n",
      "std             3.629095   712.930649\n",
      "min            22.000000   394.000000\n",
      "25%            25.500000  1231.250000\n",
      "50%            28.500000  1391.000000\n",
      "75%            30.750000  2188.000000\n",
      "max            34.000000  2563.000000\n"
     ]
    }
   ],
   "source": [
    "#Create 3 DataFrame for each Disposition Outcome\n",
    "# idea from https://www.kaggle.com/abhishekkrg/python-iris-data-visualization-and-explanation\n",
    "# Gather data by analysing the variables that give a certain outcome (disposition)\n",
    "AtHome=df[df['Disposition']=='At Home']\n",
    "Died=df[df['Disposition']=='Died']\n",
    "Hospital=df[df['Disposition']=='Hospital']\n",
    "Unknown=df[df['Disposition']=='Unknown']\n",
    "\n",
    "print(AtHome.describe())\n",
    "print(Died.describe())\n",
    "print(Hospital.describe())\n",
    "print(Unknown.describe())\n"
   ]
  },
  {
   "cell_type": "code",
   "execution_count": 59,
   "metadata": {},
   "outputs": [],
   "source": [
    "import matplotlib.pyplot as plt # importing matplotlib to plot the data"
   ]
  },
  {
   "cell_type": "code",
   "execution_count": 60,
   "metadata": {},
   "outputs": [
    {
     "data": {
      "text/plain": [
       "Text(0.5,1,'Gestational Weeks of Infant')"
      ]
     },
     "execution_count": 60,
     "metadata": {},
     "output_type": "execute_result"
    },
    {
     "data": {
      "image/png": "[encoded data removed]",
      "text/plain": [
       "<Figure size 432x288 with 1 Axes>"
      ]
     },
     "metadata": {
      "needs_background": "light"
     },
     "output_type": "display_data"
    }
   ],
   "source": [
    "plt.plot(gw) # Plot the spead of gestational weeks of each infant\n",
    "plt.ylabel(\"Gest. Weeks\") # name the y label\n",
    "plt.title(\"Gestational Weeks of Infant\") # give the plot a title"
   ]
  },
  {
   "cell_type": "code",
   "execution_count": 61,
   "metadata": {},
   "outputs": [
    {
     "data": {
      "text/plain": [
       "Text(0.5,1,'Birthweight of Infant')"
      ]
     },
     "execution_count": 61,
     "metadata": {},
     "output_type": "execute_result"
    },
    {
     "data": {
      "image/png": "[encoded data removed]",
      "text/plain": [
       "<Figure size 432x288 with 1 Axes>"
      ]
     },
     "metadata": {
      "needs_background": "light"
     },
     "output_type": "display_data"
    }
   ],
   "source": [
    "plt.plot(bw) # Plot the spead of birth weight of each infant\n",
    "plt.ylabel(\"Birthweight\") # name the y label\n",
    "plt.title(\"Birthweight of Infant\") # give the plot a title"
   ]
  },
  {
   "cell_type": "code",
   "execution_count": 62,
   "metadata": {},
   "outputs": [
    {
     "data": {
      "text/plain": [
       "Text(0.5,1,'Gestational Weeks of Infant')"
      ]
     },
     "execution_count": 62,
     "metadata": {},
     "output_type": "execute_result"
    },
    {
     "data": {
      "image/png": "[encoded data removed]",
      "text/plain": [
       "<Figure size 432x288 with 1 Axes>"
      ]
     },
     "metadata": {
      "needs_background": "light"
     },
     "output_type": "display_data"
    }
   ],
   "source": [
    "# better to read this data on a histogram\n",
    "plt.hist(gw)\n",
    "plt.xlabel(\"Gest. Weeks\") # name the y label\n",
    "plt.ylabel(\"No. of Infants\")\n",
    "plt.title(\"Gestational Weeks of Infant\") # give the plot a title"
   ]
  },
  {
   "cell_type": "code",
   "execution_count": 63,
   "metadata": {},
   "outputs": [
    {
     "data": {
      "text/plain": [
       "Text(0.5,1,'Birthweight of Infant')"
      ]
     },
     "execution_count": 63,
     "metadata": {},
     "output_type": "execute_result"
    },
    {
     "data": {
      "image/png": "[encoded data removed]",
      "text/plain": [
       "<Figure size 432x288 with 1 Axes>"
      ]
     },
     "metadata": {
      "needs_background": "light"
     },
     "output_type": "display_data"
    }
   ],
   "source": [
    "# better to read this data on a histogram\n",
    "plt.hist(bw)\n",
    "plt.xlabel(\"Birthweight\") # name the y label\n",
    "plt.ylabel(\"No. of Infants\")\n",
    "plt.title(\"Birthweight of Infant\") # give the plot a title"
   ]
  },
  {
   "cell_type": "code",
   "execution_count": 64,
   "metadata": {},
   "outputs": [
    {
     "data": {
      "text/plain": [
       "Text(0,0.5,'No. of Infants')"
      ]
     },
     "execution_count": 64,
     "metadata": {},
     "output_type": "execute_result"
    },
    {
     "data": {
      "image/png": "[encoded data removed]",
      "text/plain": [
       "<Figure size 432x288 with 2 Axes>"
      ]
     },
     "metadata": {
      "needs_background": "light"
     },
     "output_type": "display_data"
    }
   ],
   "source": [
    "plt.subplot(2, 1, 1)\n",
    "plt.hist(gw)\n",
    "plt.xlabel(\"Gest. Weeks\") # name the y label\n",
    "plt.ylabel(\"No. of Infants\")\n",
    "\n",
    "\n",
    "plt.subplot(2, 1, 2)\n",
    "plt.hist(bw)\n",
    "plt.xlabel(\"Birthweight\") # name the y label\n",
    "plt.ylabel(\"No. of Infants\")\n"
   ]
  },
  {
   "cell_type": "code",
   "execution_count": 65,
   "metadata": {},
   "outputs": [
    {
     "data": {
      "text/plain": [
       "Text(0,0.5,'Birthweight')"
      ]
     },
     "execution_count": 65,
     "metadata": {},
     "output_type": "execute_result"
    },
    {
     "data": {
      "image/png": "[encoded data removed]",
      "text/plain": [
       "<Figure size 432x288 with 2 Axes>"
      ]
     },
     "metadata": {
      "needs_background": "light"
     },
     "output_type": "display_data"
    }
   ],
   "source": [
    "# plotting the data as boxplots\n",
    "plt.subplot(2, 1, 1)\n",
    "plt.boxplot(gw)\n",
    "plt.ylabel(\"Gest. Weeks\") # name the y label\n",
    "\n",
    "\n",
    "\n",
    "plt.subplot(2, 1, 2)\n",
    "plt.boxplot(bw)\n",
    "plt.ylabel(\"Birthweight\") # name the y label\n"
   ]
  },
  {
   "cell_type": "code",
   "execution_count": 98,
   "metadata": {},
   "outputs": [
    {
     "ename": "AttributeError",
     "evalue": "'Series' object has no attribute 'plt'",
     "output_type": "error",
     "traceback": [
      "\u001b[1;31m---------------------------------------------------------------------------\u001b[0m",
      "\u001b[1;31mAttributeError\u001b[0m                            Traceback (most recent call last)",
      "\u001b[1;32m<ipython-input-98-4f16f4efdb61>\u001b[0m in \u001b[0;36m<module>\u001b[1;34m()\u001b[0m\n\u001b[1;32m----> 1\u001b[1;33m \u001b[0ma\u001b[0m\u001b[1;33m.\u001b[0m\u001b[0mplt\u001b[0m\u001b[1;33m.\u001b[0m\u001b[0mbar\u001b[0m\u001b[1;33m\u001b[0m\u001b[0m\n\u001b[0m",
      "\u001b[1;32m~\\Anaconda3\\lib\\site-packages\\pandas\\core\\generic.py\u001b[0m in \u001b[0;36m__getattr__\u001b[1;34m(self, name)\u001b[0m\n\u001b[0;32m   4374\u001b[0m             \u001b[1;32mif\u001b[0m \u001b[0mself\u001b[0m\u001b[1;33m.\u001b[0m\u001b[0m_info_axis\u001b[0m\u001b[1;33m.\u001b[0m\u001b[0m_can_hold_identifiers_and_holds_name\u001b[0m\u001b[1;33m(\u001b[0m\u001b[0mname\u001b[0m\u001b[1;33m)\u001b[0m\u001b[1;33m:\u001b[0m\u001b[1;33m\u001b[0m\u001b[0m\n\u001b[0;32m   4375\u001b[0m                 \u001b[1;32mreturn\u001b[0m \u001b[0mself\u001b[0m\u001b[1;33m[\u001b[0m\u001b[0mname\u001b[0m\u001b[1;33m]\u001b[0m\u001b[1;33m\u001b[0m\u001b[0m\n\u001b[1;32m-> 4376\u001b[1;33m             \u001b[1;32mreturn\u001b[0m \u001b[0mobject\u001b[0m\u001b[1;33m.\u001b[0m\u001b[0m__getattribute__\u001b[0m\u001b[1;33m(\u001b[0m\u001b[0mself\u001b[0m\u001b[1;33m,\u001b[0m \u001b[0mname\u001b[0m\u001b[1;33m)\u001b[0m\u001b[1;33m\u001b[0m\u001b[0m\n\u001b[0m\u001b[0;32m   4377\u001b[0m \u001b[1;33m\u001b[0m\u001b[0m\n\u001b[0;32m   4378\u001b[0m     \u001b[1;32mdef\u001b[0m \u001b[0m__setattr__\u001b[0m\u001b[1;33m(\u001b[0m\u001b[0mself\u001b[0m\u001b[1;33m,\u001b[0m \u001b[0mname\u001b[0m\u001b[1;33m,\u001b[0m \u001b[0mvalue\u001b[0m\u001b[1;33m)\u001b[0m\u001b[1;33m:\u001b[0m\u001b[1;33m\u001b[0m\u001b[0m\n",
      "\u001b[1;31mAttributeError\u001b[0m: 'Series' object has no attribute 'plt'"
     ]
    }
   ],
   "source": [
    "a.plt.bar\n"
   ]
  },
  {
   "cell_type": "code",
   "execution_count": 97,
   "metadata": {},
   "outputs": [
    {
     "ename": "SyntaxError",
     "evalue": "EOL while scanning string literal (<ipython-input-97-84f78e394c55>, line 2)",
     "output_type": "error",
     "traceback": [
      "\u001b[1;36m  File \u001b[1;32m\"<ipython-input-97-84f78e394c55>\"\u001b[1;36m, line \u001b[1;32m2\u001b[0m\n\u001b[1;33m    data = {'a, b, c,}\u001b[0m\n\u001b[1;37m                      ^\u001b[0m\n\u001b[1;31mSyntaxError\u001b[0m\u001b[1;31m:\u001b[0m EOL while scanning string literal\n"
     ]
    }
   ],
   "source": [
    "\n",
    "\n",
    "names = list(data.keys())\n",
    "values = list(data.values())\n",
    "\n",
    "fig, axs = plt.subplots(1, 3, figsize=(9, 3), sharey=True)\n",
    "axs[0].bar(names, values)\n",
    "axs[1].scatter(names, values)\n",
    "axs[2].plot(names, values)\n",
    "fig.suptitle('Categorical Plotting')"
   ]
  },
  {
   "cell_type": "code",
   "execution_count": null,
   "metadata": {},
   "outputs": [],
   "source": []
  }
 ],
 "metadata": {
  "kernelspec": {
   "display_name": "Python 3",
   "language": "python",
   "name": "python3"
  },
  "language_info": {
   "codemirror_mode": {
    "name": "ipython",
    "version": 3
   },
   "file_extension": ".py",
   "mimetype": "text/x-python",
   "name": "python",
   "nbconvert_exporter": "python",
   "pygments_lexer": "ipython3",
   "version": "3.6.6"
  }
 },
 "nbformat": 4,
 "nbformat_minor": 2
}
