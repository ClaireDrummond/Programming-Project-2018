{
 "cells": [
  {
   "cell_type": "markdown",
   "metadata": {},
   "source": [
    "# Model & Synthesize Data\n",
    "\n",
    "The purpose of this Jupyter Notebook is to complete the task of modeling and synthesizing a data set.  To choose a real-world phenomenon that can be measured and for which you could collect at least one-hundred data points across at least four different variables.\n",
    "\n",
    "My focus for this project is in relation to the Vermont Oxford Network.  Vermont Oxford Network (VON) is a nonprofit voluntary collaboration of health care professionals working together as an interdisciplinary community to change the landscape of neonatal care. Founded in 1988, VON is now comprised of teams of health professionals representing neonatal intensive care units and level I and II care centers around the world, in support of the mission to improve the quality and safety of medical care for newborn infants and their families through a coordinated program of research, education, and quality improvement projects. (ref: https://public.vtoxford.org/about-us/)"
   ]
  },
  {
   "cell_type": "markdown",
   "metadata": {},
   "source": [
    "The National Perinatal Epidemiology Centre, UCC, published a report in 2018 \"Mortality Risk Amongst Very Low Birth Weight Infants Born in the Republic of Ireland\" (ref: \n",
    "https://www.ucc.ie/en/media/research/nationalperinatalepidemiologycentre/annualreports/MortalityRiskAmongstVeryLowBirthWeightInfantsintheRepublicofIrelandReport2014-2016.pdf).\n",
    "\n",
    "In 2014-2016, 19 neonatal units submitted data to the VON’s VLBW database. The inclusion criteria were as follows:\n",
    "'Any infant who is born alive at your hospital and whose birth weight is between 401 and 1500 grams OR whose gestational age is between 22 weeks 0 days and 29 weeks 6 days (inclusive), regardless of where in your hospital the infant receives care'\n",
    "\n",
    "This notebook aims to sythesise data to reflect the key variables & findings in this report"
   ]
  },
  {
   "cell_type": "markdown",
   "metadata": {},
   "source": [
    "# The Summary Approach\n",
    "\n",
    "In order to complete the task of synthesizing data which assesses the mortality risk amongst very low birth weight babies, I have decided to take the following approach:\n",
    "\n",
    " - Explain the Variables\n",
    " - Generate a Data Frame Structure\n",
    " - Create the DF variables\n",
    " - Analyise & plot the dataset and highlight key findings"
   ]
  },
  {
   "cell_type": "markdown",
   "metadata": {},
   "source": [
    "# The Variables - Explained\n",
    "\n",
    "## Gestational Weeks\n",
    "Gestational age is the common term used during pregnancy to describe how far along the pregnancy is. It is measured in weeks, from the first day of the woman's last menstrual cycle to the current date. A normal pregnancy can range from 38 to 42 weeks. Infants born before 37 weeks are considered premature. The outcome of this variable will be most likely between 22 - 32 weeks. (ref:https://medlineplus.gov/ency/article/002367.htm)\n",
    "\n",
    "## Birthweight\n",
    "Birth weight is the first weight of your baby, taken just after he or she is born. A low birth weight is less than 2,640 grams. A high birth weight is more than 4,000 grams. The expected result of this variable will see most weights less than 5.5 pounds.  \n",
    "\n",
    "The gestational ages of the VLBW (Very Low Birth Weight) infants ranged from 21 weeks to 33 weeks and their birth weights ranged from 360g to 2,640g\n",
    "(ref:https://www.ucc.ie/en/media/research/nationalperinatalepidemiologycentre/annualreports/MortalityRiskAmongstVeryLowBirthWeightInfantsintheRepublicofIrelandReport2014-2016.pdf)\n",
    "\n",
    "## Congenital Anomaly \n",
    "Congenital anomalies are also known as birth defects, congenital disorders or congenital malformations. If the infant was born with a congenital anomaly, it was recored. Yes or No.\n",
    "\n",
    "## Disposition at 1 Year\n",
    "Did the infant live or die.  The outcome is recorded one year after birth.  There are 4 possible outcomes:\n",
    "- Died: Unfortunately self explanatory  \n",
    "- Home: The infant has been discharged from hospital and is at home\n",
    "- Still Hospitalised: The infant is still under medical care in hospital\n",
    "- Unkown: no contact with the infant's family so status of infant is unknown \n",
    " \n",
    "\n"
   ]
  },
  {
   "cell_type": "markdown",
   "metadata": {},
   "source": [
    "# How to create a Dataset "
   ]
  },
  {
   "cell_type": "code",
   "execution_count": 2,
   "metadata": {},
   "outputs": [],
   "source": [
    "# create a dataframe structure by starting with the column headings\n",
    "import pandas as pd #use pandas to create the dataframe\n",
    "import numpy as np # use numpy to generate the random variables\n",
    "df = pd.DataFrame(columns= [\"Gestational Weeks\", \"Birthweight\", \"Sex\", \"Congenital Anomaly\", \"Disposition at 1 Year\"]) #gives headings to each of the columns"
   ]
  },
  {
   "cell_type": "code",
   "execution_count": 3,
   "metadata": {},
   "outputs": [
    {
     "data": {
      "text/html": [
       "<div>\n",
       "<style scoped>\n",
       "    .dataframe tbody tr th:only-of-type {\n",
       "        vertical-align: middle;\n",
       "    }\n",
       "\n",
       "    .dataframe tbody tr th {\n",
       "        vertical-align: top;\n",
       "    }\n",
       "\n",
       "    .dataframe thead th {\n",
       "        text-align: right;\n",
       "    }\n",
       "</style>\n",
       "<table border=\"1\" class=\"dataframe\">\n",
       "  <thead>\n",
       "    <tr style=\"text-align: right;\">\n",
       "      <th></th>\n",
       "      <th>Gestational Weeks</th>\n",
       "      <th>Birthweight</th>\n",
       "      <th>Sex</th>\n",
       "      <th>Congenital Anomaly</th>\n",
       "      <th>Disposition at 1 Year</th>\n",
       "    </tr>\n",
       "  </thead>\n",
       "  <tbody>\n",
       "  </tbody>\n",
       "</table>\n",
       "</div>"
      ],
      "text/plain": [
       "Empty DataFrame\n",
       "Columns: [Gestational Weeks, Birthweight, Sex, Congenital Anomaly, Disposition at 1 Year]\n",
       "Index: []"
      ]
     },
     "execution_count": 3,
     "metadata": {},
     "output_type": "execute_result"
    }
   ],
   "source": [
    "df # create the dataframe"
   ]
  },
  {
   "cell_type": "code",
   "execution_count": 4,
   "metadata": {},
   "outputs": [
    {
     "data": {
      "text/html": [
       "<div>\n",
       "<style scoped>\n",
       "    .dataframe tbody tr th:only-of-type {\n",
       "        vertical-align: middle;\n",
       "    }\n",
       "\n",
       "    .dataframe tbody tr th {\n",
       "        vertical-align: top;\n",
       "    }\n",
       "\n",
       "    .dataframe thead th {\n",
       "        text-align: right;\n",
       "    }\n",
       "</style>\n",
       "<table border=\"1\" class=\"dataframe\">\n",
       "  <thead>\n",
       "    <tr style=\"text-align: right;\">\n",
       "      <th></th>\n",
       "      <th>Gestational Weeks</th>\n",
       "      <th>Birthweight</th>\n",
       "      <th>Sex</th>\n",
       "      <th>Congenital Anomaly</th>\n",
       "      <th>Disposition at 1 Year</th>\n",
       "    </tr>\n",
       "  </thead>\n",
       "  <tbody>\n",
       "    <tr>\n",
       "      <th>0</th>\n",
       "      <td>Alex</td>\n",
       "      <td>10</td>\n",
       "      <td>6</td>\n",
       "      <td>2</td>\n",
       "      <td>5</td>\n",
       "    </tr>\n",
       "    <tr>\n",
       "      <th>1</th>\n",
       "      <td>Bob</td>\n",
       "      <td>12</td>\n",
       "      <td>6</td>\n",
       "      <td>2</td>\n",
       "      <td>5</td>\n",
       "    </tr>\n",
       "    <tr>\n",
       "      <th>2</th>\n",
       "      <td>Clarke</td>\n",
       "      <td>13</td>\n",
       "      <td>6</td>\n",
       "      <td>2</td>\n",
       "      <td>5</td>\n",
       "    </tr>\n",
       "  </tbody>\n",
       "</table>\n",
       "</div>"
      ],
      "text/plain": [
       "  Gestational Weeks  Birthweight  Sex  Congenital Anomaly  \\\n",
       "0              Alex           10    6                   2   \n",
       "1               Bob           12    6                   2   \n",
       "2            Clarke           13    6                   2   \n",
       "\n",
       "   Disposition at 1 Year  \n",
       "0                      5  \n",
       "1                      5  \n",
       "2                      5  "
      ]
     },
     "execution_count": 4,
     "metadata": {},
     "output_type": "execute_result"
    }
   ],
   "source": [
    "# Testing to populate the data \n",
    "data = [['Alex',10, 6, 2, 5],['Bob',12, 6 ,2, 5],['Clarke',13, 6 ,2, 5]]\n",
    "df = pd.DataFrame(data, columns = ['Gestational Weeks', 'Birthweight', 'Sex', 'Congenital Anomaly', 'Disposition at 1 Year'])\n",
    "df"
   ]
  },
  {
   "cell_type": "code",
   "execution_count": 5,
   "metadata": {},
   "outputs": [],
   "source": [
    "# The above table is the basic structure which I will use as the foundations for systhessing my dataset.\n",
    "# Key learning is how to structure code in order to populate the rows"
   ]
  },
  {
   "cell_type": "markdown",
   "metadata": {},
   "source": [
    "## Gestational Weeks\n",
    "In this dataset the Gestational weeks has a spread from 21 weeks to 33 weeks. With the majority of babies born around weeks 28, 29, 30.  Based on this, I think it is best to generate an array from a normal distribution.\n"
   ]
  },
  {
   "cell_type": "code",
   "execution_count": 6,
   "metadata": {},
   "outputs": [
    {
     "data": {
      "text/plain": [
       "array([33., 29., 30., 30., 26., 28., 25., 28., 26., 29., 30., 22., 30.,\n",
       "       30., 26., 27., 31., 32., 32., 28., 29., 26., 29., 29., 31., 25.,\n",
       "       27., 25., 30., 32., 31., 30., 30., 23., 25., 26., 27., 24., 26.,\n",
       "       29., 26., 27., 26., 31., 26., 31., 24., 33., 25., 29., 30., 31.,\n",
       "       30., 31., 34., 29., 30., 25., 25., 27., 25., 29., 28., 28., 28.,\n",
       "       26., 27., 28., 33., 26., 26., 29., 31., 30., 28., 30., 31., 22.,\n",
       "       23., 28., 27., 28., 27., 25., 24., 30., 24., 31., 31., 30., 32.,\n",
       "       28., 24., 30., 28., 20., 25., 27., 27., 31.])"
      ]
     },
     "execution_count": 6,
     "metadata": {},
     "output_type": "execute_result"
    }
   ],
   "source": [
    "#Setting Parameters for gestational weeks.  Majority of babies born weeks 28, 29, 30\n",
    "# mean and standard deviation\n",
    "gw = np.random.normal(28, 3, 100).round(0) # 28 is the mean, 3 is standard deviation, 100 is the size of the sample\n",
    "gw\n",
    "\n",
    "# took research to find how to round the floats to integers\n",
    "# https://stackoverflow.com/questions/33160367/numpy-how-to-generate-a-normally-distributed-set-of-integers?rq=1"
   ]
  },
  {
   "cell_type": "markdown",
   "metadata": {},
   "source": [
    "## Birthweight\n",
    "The birth weights of very low birth weight infants ranged from 360g to 2,640g.  The data here forms a uniform distribution. Infants are born at many different birth weights. No one more than any other."
   ]
  },
  {
   "cell_type": "code",
   "execution_count": 7,
   "metadata": {},
   "outputs": [
    {
     "data": {
      "text/plain": [
       "array([1623,  545, 1614,  803, 1551,  770,  419, 1623,  429, 1636, 1771,\n",
       "       2021, 1569,  636, 1795, 2379, 1224, 2563, 1292, 2077, 2028,  816,\n",
       "        365,  512,  646,  923,  423, 1991,  841, 1645,  565, 1540, 1958,\n",
       "       1327, 1664, 2125,  925, 1285, 1256,  595, 1926, 1623, 1922, 1376,\n",
       "        431,  799, 2351,  376, 1100, 1545, 1737,  970, 1916, 1067, 2368,\n",
       "       1078, 1394, 1741, 2400, 1733, 2184, 2613,  426, 1162, 1076,  417,\n",
       "       2585, 1682, 2106, 2307, 1056, 1098, 1268, 2232, 1513, 1423,  746,\n",
       "        547,  635, 2521, 1805, 1621,  785,  733, 1729, 1068, 1576, 1917,\n",
       "       1576, 1388, 1530, 1737, 1033, 2545, 1699, 1301, 1211, 1562,  865,\n",
       "       1630])"
      ]
     },
     "execution_count": 7,
     "metadata": {},
     "output_type": "execute_result"
    }
   ],
   "source": [
    "#Setting Parameters for bithweight, low = 360g, High = 2640g\n",
    "\n",
    "bw = np.random.randint(360, 2640, size=100) #this function draws random numbers from a uniform distribution\n",
    "bw"
   ]
  },
  {
   "cell_type": "markdown",
   "metadata": {},
   "source": [
    "## Sex\n",
    "\n",
    "Is the infant male or female.  There is a 50/50 chance of being either male or female.  "
   ]
  },
  {
   "cell_type": "code",
   "execution_count": 8,
   "metadata": {},
   "outputs": [
    {
     "data": {
      "text/plain": [
       "array(['Female', 'Male', 'Male', 'Female', 'Male', 'Male', 'Female',\n",
       "       'Female', 'Female', 'Male', 'Female', 'Female', 'Male', 'Male',\n",
       "       'Female', 'Female', 'Female', 'Female', 'Female', 'Female', 'Male',\n",
       "       'Female', 'Female', 'Female', 'Male', 'Male', 'Female', 'Male',\n",
       "       'Male', 'Female', 'Female', 'Female', 'Male', 'Male', 'Female',\n",
       "       'Male', 'Female', 'Female', 'Female', 'Female', 'Female', 'Male',\n",
       "       'Female', 'Female', 'Male', 'Female', 'Female', 'Female', 'Female',\n",
       "       'Male', 'Male', 'Female', 'Female', 'Female', 'Male', 'Male',\n",
       "       'Female', 'Female', 'Female', 'Male', 'Male', 'Male', 'Male',\n",
       "       'Female', 'Female', 'Female', 'Male', 'Male', 'Male', 'Female',\n",
       "       'Male', 'Male', 'Male', 'Female', 'Male', 'Male', 'Male', 'Male',\n",
       "       'Male', 'Female', 'Male', 'Female', 'Male', 'Female', 'Female',\n",
       "       'Male', 'Female', 'Female', 'Male', 'Male', 'Female', 'Female',\n",
       "       'Male', 'Female', 'Female', 'Male', 'Female', 'Male', 'Male',\n",
       "       'Female'], dtype='<U6')"
      ]
     },
     "execution_count": 8,
     "metadata": {},
     "output_type": "execute_result"
    }
   ],
   "source": [
    "#using random.choice, I have ensure that there is a 50/50 chance of the infant being male or female\n",
    "s = np.random.choice([\"Male\", \"Female\"], 100, p=[0.5, 0.5])\n",
    "s"
   ]
  },
  {
   "cell_type": "markdown",
   "metadata": {},
   "source": [
    "## Congenital Anomaly\n",
    "About 9% of babies have a congenital anomaly.  This figure is high in comparison to VON data as abortion was/is not in Ireland.  Does the baby have a congenital anomaly? Yes or No?"
   ]
  },
  {
   "cell_type": "code",
   "execution_count": 9,
   "metadata": {},
   "outputs": [
    {
     "data": {
      "text/plain": [
       "array(['No', 'No', 'No', 'No', 'No', 'No', 'No', 'No', 'No', 'No', 'No',\n",
       "       'No', 'No', 'No', 'No', 'Yes', 'No', 'No', 'No', 'No', 'No', 'No',\n",
       "       'No', 'No', 'No', 'Yes', 'No', 'Yes', 'No', 'No', 'No', 'No', 'No',\n",
       "       'No', 'No', 'No', 'No', 'No', 'No', 'No', 'No', 'No', 'No', 'No',\n",
       "       'No', 'No', 'No', 'No', 'No', 'No', 'Yes', 'No', 'No', 'No', 'No',\n",
       "       'No', 'No', 'No', 'Yes', 'No', 'No', 'No', 'No', 'No', 'No', 'No',\n",
       "       'No', 'No', 'No', 'No', 'No', 'No', 'No', 'No', 'No', 'No', 'No',\n",
       "       'Yes', 'No', 'No', 'No', 'No', 'No', 'No', 'No', 'No', 'No', 'No',\n",
       "       'Yes', 'Yes', 'No', 'No', 'No', 'No', 'No', 'No', 'No', 'Yes',\n",
       "       'No', 'No'], dtype='<U3')"
      ]
     },
     "execution_count": 9,
     "metadata": {},
     "output_type": "execute_result"
    }
   ],
   "source": [
    "# using random.choice, I have implmented a bias to reflect the real world\n",
    "ca = np.random.choice([\"Yes\",\"No\"], 100, p=[0.08, 0.92])\n",
    "ca\n"
   ]
  },
  {
   "cell_type": "markdown",
   "metadata": {},
   "source": [
    "## Disposition at 1 Year\n"
   ]
  },
  {
   "cell_type": "code",
   "execution_count": 32,
   "metadata": {},
   "outputs": [
    {
     "data": {
      "text/plain": [
       "array(['At Home', 'Unknown', 'At Home', 'Hospital', 'At Home', 'At Home',\n",
       "       'At Home', 'Died', 'Died', 'At Home', 'At Home', 'Died', 'At Home',\n",
       "       'At Home', 'At Home', 'At Home', 'At Home', 'Died', 'Unknown',\n",
       "       'Unknown', 'Died', 'At Home', 'At Home', 'Unknown', 'At Home',\n",
       "       'At Home', 'Unknown', 'At Home', 'At Home', 'Unknown', 'At Home',\n",
       "       'At Home', 'At Home', 'At Home', 'At Home', 'At Home', 'At Home',\n",
       "       'Died', 'At Home', 'At Home', 'At Home', 'Died', 'Died', 'At Home',\n",
       "       'Died', 'At Home', 'At Home', 'Died', 'At Home', 'At Home', 'Died',\n",
       "       'Hospital', 'At Home', 'Died', 'At Home', 'At Home', 'At Home',\n",
       "       'At Home', 'At Home', 'Died', 'At Home', 'At Home', 'At Home',\n",
       "       'Died', 'At Home', 'Unknown', 'At Home', 'At Home', 'At Home',\n",
       "       'At Home', 'At Home', 'At Home', 'At Home', 'At Home', 'Died',\n",
       "       'At Home', 'Hospital', 'At Home', 'At Home', 'At Home', 'At Home',\n",
       "       'Hospital', 'At Home', 'At Home', 'Died', 'Hospital', 'At Home',\n",
       "       'At Home', 'At Home', 'At Home', 'Unknown', 'Hospital', 'At Home',\n",
       "       'At Home', 'At Home', 'At Home', 'At Home', 'At Home', 'At Home',\n",
       "       'Died'], dtype='<U8')"
      ]
     },
     "execution_count": 32,
     "metadata": {},
     "output_type": "execute_result"
    }
   ],
   "source": [
    "# 1 year after the infants recorded birth, data is once again gathered to establish the health of the infant.\n",
    "dip = np.random.choice([\"Died\", \"At Home\", \"Hospital\", \"Unknown\"], 100, p=[0.2, 0.65, 0.05, 0.1]) \n",
    "# I have used an estiamted the probabilty based on the report's key findings and used this to generate this array\n",
    "dip"
   ]
  },
  {
   "cell_type": "markdown",
   "metadata": {},
   "source": [
    "# Creating the Dataset"
   ]
  },
  {
   "cell_type": "code",
   "execution_count": 33,
   "metadata": {},
   "outputs": [
    {
     "data": {
      "text/html": [
       "<div>\n",
       "<style scoped>\n",
       "    .dataframe tbody tr th:only-of-type {\n",
       "        vertical-align: middle;\n",
       "    }\n",
       "\n",
       "    .dataframe tbody tr th {\n",
       "        vertical-align: top;\n",
       "    }\n",
       "\n",
       "    .dataframe thead th {\n",
       "        text-align: right;\n",
       "    }\n",
       "</style>\n",
       "<table border=\"1\" class=\"dataframe\">\n",
       "  <thead>\n",
       "    <tr style=\"text-align: right;\">\n",
       "      <th></th>\n",
       "      <th>Gestational Weeks</th>\n",
       "      <th>Birthweight</th>\n",
       "      <th>Sex</th>\n",
       "      <th>Congenital Anomaly</th>\n",
       "      <th>Disposition</th>\n",
       "    </tr>\n",
       "  </thead>\n",
       "  <tbody>\n",
       "    <tr>\n",
       "      <th>0</th>\n",
       "      <td>33.0</td>\n",
       "      <td>1623</td>\n",
       "      <td>Female</td>\n",
       "      <td>No</td>\n",
       "      <td>At Home</td>\n",
       "    </tr>\n",
       "    <tr>\n",
       "      <th>1</th>\n",
       "      <td>29.0</td>\n",
       "      <td>545</td>\n",
       "      <td>Male</td>\n",
       "      <td>No</td>\n",
       "      <td>Unknown</td>\n",
       "    </tr>\n",
       "    <tr>\n",
       "      <th>2</th>\n",
       "      <td>30.0</td>\n",
       "      <td>1614</td>\n",
       "      <td>Male</td>\n",
       "      <td>No</td>\n",
       "      <td>At Home</td>\n",
       "    </tr>\n",
       "    <tr>\n",
       "      <th>3</th>\n",
       "      <td>30.0</td>\n",
       "      <td>803</td>\n",
       "      <td>Female</td>\n",
       "      <td>No</td>\n",
       "      <td>Hospital</td>\n",
       "    </tr>\n",
       "    <tr>\n",
       "      <th>4</th>\n",
       "      <td>26.0</td>\n",
       "      <td>1551</td>\n",
       "      <td>Male</td>\n",
       "      <td>No</td>\n",
       "      <td>At Home</td>\n",
       "    </tr>\n",
       "    <tr>\n",
       "      <th>5</th>\n",
       "      <td>28.0</td>\n",
       "      <td>770</td>\n",
       "      <td>Male</td>\n",
       "      <td>No</td>\n",
       "      <td>At Home</td>\n",
       "    </tr>\n",
       "    <tr>\n",
       "      <th>6</th>\n",
       "      <td>25.0</td>\n",
       "      <td>419</td>\n",
       "      <td>Female</td>\n",
       "      <td>No</td>\n",
       "      <td>At Home</td>\n",
       "    </tr>\n",
       "    <tr>\n",
       "      <th>7</th>\n",
       "      <td>28.0</td>\n",
       "      <td>1623</td>\n",
       "      <td>Female</td>\n",
       "      <td>No</td>\n",
       "      <td>Died</td>\n",
       "    </tr>\n",
       "    <tr>\n",
       "      <th>8</th>\n",
       "      <td>26.0</td>\n",
       "      <td>429</td>\n",
       "      <td>Female</td>\n",
       "      <td>No</td>\n",
       "      <td>Died</td>\n",
       "    </tr>\n",
       "    <tr>\n",
       "      <th>9</th>\n",
       "      <td>29.0</td>\n",
       "      <td>1636</td>\n",
       "      <td>Male</td>\n",
       "      <td>No</td>\n",
       "      <td>At Home</td>\n",
       "    </tr>\n",
       "    <tr>\n",
       "      <th>10</th>\n",
       "      <td>30.0</td>\n",
       "      <td>1771</td>\n",
       "      <td>Female</td>\n",
       "      <td>No</td>\n",
       "      <td>At Home</td>\n",
       "    </tr>\n",
       "    <tr>\n",
       "      <th>11</th>\n",
       "      <td>22.0</td>\n",
       "      <td>2021</td>\n",
       "      <td>Female</td>\n",
       "      <td>No</td>\n",
       "      <td>Died</td>\n",
       "    </tr>\n",
       "    <tr>\n",
       "      <th>12</th>\n",
       "      <td>30.0</td>\n",
       "      <td>1569</td>\n",
       "      <td>Male</td>\n",
       "      <td>No</td>\n",
       "      <td>At Home</td>\n",
       "    </tr>\n",
       "    <tr>\n",
       "      <th>13</th>\n",
       "      <td>30.0</td>\n",
       "      <td>636</td>\n",
       "      <td>Male</td>\n",
       "      <td>No</td>\n",
       "      <td>At Home</td>\n",
       "    </tr>\n",
       "    <tr>\n",
       "      <th>14</th>\n",
       "      <td>26.0</td>\n",
       "      <td>1795</td>\n",
       "      <td>Female</td>\n",
       "      <td>No</td>\n",
       "      <td>At Home</td>\n",
       "    </tr>\n",
       "    <tr>\n",
       "      <th>15</th>\n",
       "      <td>27.0</td>\n",
       "      <td>2379</td>\n",
       "      <td>Female</td>\n",
       "      <td>Yes</td>\n",
       "      <td>At Home</td>\n",
       "    </tr>\n",
       "    <tr>\n",
       "      <th>16</th>\n",
       "      <td>31.0</td>\n",
       "      <td>1224</td>\n",
       "      <td>Female</td>\n",
       "      <td>No</td>\n",
       "      <td>At Home</td>\n",
       "    </tr>\n",
       "    <tr>\n",
       "      <th>17</th>\n",
       "      <td>32.0</td>\n",
       "      <td>2563</td>\n",
       "      <td>Female</td>\n",
       "      <td>No</td>\n",
       "      <td>Died</td>\n",
       "    </tr>\n",
       "    <tr>\n",
       "      <th>18</th>\n",
       "      <td>32.0</td>\n",
       "      <td>1292</td>\n",
       "      <td>Female</td>\n",
       "      <td>No</td>\n",
       "      <td>Unknown</td>\n",
       "    </tr>\n",
       "    <tr>\n",
       "      <th>19</th>\n",
       "      <td>28.0</td>\n",
       "      <td>2077</td>\n",
       "      <td>Female</td>\n",
       "      <td>No</td>\n",
       "      <td>Unknown</td>\n",
       "    </tr>\n",
       "    <tr>\n",
       "      <th>20</th>\n",
       "      <td>29.0</td>\n",
       "      <td>2028</td>\n",
       "      <td>Male</td>\n",
       "      <td>No</td>\n",
       "      <td>Died</td>\n",
       "    </tr>\n",
       "    <tr>\n",
       "      <th>21</th>\n",
       "      <td>26.0</td>\n",
       "      <td>816</td>\n",
       "      <td>Female</td>\n",
       "      <td>No</td>\n",
       "      <td>At Home</td>\n",
       "    </tr>\n",
       "    <tr>\n",
       "      <th>22</th>\n",
       "      <td>29.0</td>\n",
       "      <td>365</td>\n",
       "      <td>Female</td>\n",
       "      <td>No</td>\n",
       "      <td>At Home</td>\n",
       "    </tr>\n",
       "    <tr>\n",
       "      <th>23</th>\n",
       "      <td>29.0</td>\n",
       "      <td>512</td>\n",
       "      <td>Female</td>\n",
       "      <td>No</td>\n",
       "      <td>Unknown</td>\n",
       "    </tr>\n",
       "    <tr>\n",
       "      <th>24</th>\n",
       "      <td>31.0</td>\n",
       "      <td>646</td>\n",
       "      <td>Male</td>\n",
       "      <td>No</td>\n",
       "      <td>At Home</td>\n",
       "    </tr>\n",
       "    <tr>\n",
       "      <th>25</th>\n",
       "      <td>25.0</td>\n",
       "      <td>923</td>\n",
       "      <td>Male</td>\n",
       "      <td>Yes</td>\n",
       "      <td>At Home</td>\n",
       "    </tr>\n",
       "    <tr>\n",
       "      <th>26</th>\n",
       "      <td>27.0</td>\n",
       "      <td>423</td>\n",
       "      <td>Female</td>\n",
       "      <td>No</td>\n",
       "      <td>Unknown</td>\n",
       "    </tr>\n",
       "    <tr>\n",
       "      <th>27</th>\n",
       "      <td>25.0</td>\n",
       "      <td>1991</td>\n",
       "      <td>Male</td>\n",
       "      <td>Yes</td>\n",
       "      <td>At Home</td>\n",
       "    </tr>\n",
       "    <tr>\n",
       "      <th>28</th>\n",
       "      <td>30.0</td>\n",
       "      <td>841</td>\n",
       "      <td>Male</td>\n",
       "      <td>No</td>\n",
       "      <td>At Home</td>\n",
       "    </tr>\n",
       "    <tr>\n",
       "      <th>29</th>\n",
       "      <td>32.0</td>\n",
       "      <td>1645</td>\n",
       "      <td>Female</td>\n",
       "      <td>No</td>\n",
       "      <td>Unknown</td>\n",
       "    </tr>\n",
       "    <tr>\n",
       "      <th>...</th>\n",
       "      <td>...</td>\n",
       "      <td>...</td>\n",
       "      <td>...</td>\n",
       "      <td>...</td>\n",
       "      <td>...</td>\n",
       "    </tr>\n",
       "    <tr>\n",
       "      <th>70</th>\n",
       "      <td>26.0</td>\n",
       "      <td>1056</td>\n",
       "      <td>Male</td>\n",
       "      <td>No</td>\n",
       "      <td>At Home</td>\n",
       "    </tr>\n",
       "    <tr>\n",
       "      <th>71</th>\n",
       "      <td>29.0</td>\n",
       "      <td>1098</td>\n",
       "      <td>Male</td>\n",
       "      <td>No</td>\n",
       "      <td>At Home</td>\n",
       "    </tr>\n",
       "    <tr>\n",
       "      <th>72</th>\n",
       "      <td>31.0</td>\n",
       "      <td>1268</td>\n",
       "      <td>Male</td>\n",
       "      <td>No</td>\n",
       "      <td>At Home</td>\n",
       "    </tr>\n",
       "    <tr>\n",
       "      <th>73</th>\n",
       "      <td>30.0</td>\n",
       "      <td>2232</td>\n",
       "      <td>Female</td>\n",
       "      <td>No</td>\n",
       "      <td>At Home</td>\n",
       "    </tr>\n",
       "    <tr>\n",
       "      <th>74</th>\n",
       "      <td>28.0</td>\n",
       "      <td>1513</td>\n",
       "      <td>Male</td>\n",
       "      <td>No</td>\n",
       "      <td>Died</td>\n",
       "    </tr>\n",
       "    <tr>\n",
       "      <th>75</th>\n",
       "      <td>30.0</td>\n",
       "      <td>1423</td>\n",
       "      <td>Male</td>\n",
       "      <td>No</td>\n",
       "      <td>At Home</td>\n",
       "    </tr>\n",
       "    <tr>\n",
       "      <th>76</th>\n",
       "      <td>31.0</td>\n",
       "      <td>746</td>\n",
       "      <td>Male</td>\n",
       "      <td>No</td>\n",
       "      <td>Hospital</td>\n",
       "    </tr>\n",
       "    <tr>\n",
       "      <th>77</th>\n",
       "      <td>22.0</td>\n",
       "      <td>547</td>\n",
       "      <td>Male</td>\n",
       "      <td>Yes</td>\n",
       "      <td>At Home</td>\n",
       "    </tr>\n",
       "    <tr>\n",
       "      <th>78</th>\n",
       "      <td>23.0</td>\n",
       "      <td>635</td>\n",
       "      <td>Male</td>\n",
       "      <td>No</td>\n",
       "      <td>At Home</td>\n",
       "    </tr>\n",
       "    <tr>\n",
       "      <th>79</th>\n",
       "      <td>28.0</td>\n",
       "      <td>2521</td>\n",
       "      <td>Female</td>\n",
       "      <td>No</td>\n",
       "      <td>At Home</td>\n",
       "    </tr>\n",
       "    <tr>\n",
       "      <th>80</th>\n",
       "      <td>27.0</td>\n",
       "      <td>1805</td>\n",
       "      <td>Male</td>\n",
       "      <td>No</td>\n",
       "      <td>At Home</td>\n",
       "    </tr>\n",
       "    <tr>\n",
       "      <th>81</th>\n",
       "      <td>28.0</td>\n",
       "      <td>1621</td>\n",
       "      <td>Female</td>\n",
       "      <td>No</td>\n",
       "      <td>Hospital</td>\n",
       "    </tr>\n",
       "    <tr>\n",
       "      <th>82</th>\n",
       "      <td>27.0</td>\n",
       "      <td>785</td>\n",
       "      <td>Male</td>\n",
       "      <td>No</td>\n",
       "      <td>At Home</td>\n",
       "    </tr>\n",
       "    <tr>\n",
       "      <th>83</th>\n",
       "      <td>25.0</td>\n",
       "      <td>733</td>\n",
       "      <td>Female</td>\n",
       "      <td>No</td>\n",
       "      <td>At Home</td>\n",
       "    </tr>\n",
       "    <tr>\n",
       "      <th>84</th>\n",
       "      <td>24.0</td>\n",
       "      <td>1729</td>\n",
       "      <td>Female</td>\n",
       "      <td>No</td>\n",
       "      <td>Died</td>\n",
       "    </tr>\n",
       "    <tr>\n",
       "      <th>85</th>\n",
       "      <td>30.0</td>\n",
       "      <td>1068</td>\n",
       "      <td>Male</td>\n",
       "      <td>No</td>\n",
       "      <td>Hospital</td>\n",
       "    </tr>\n",
       "    <tr>\n",
       "      <th>86</th>\n",
       "      <td>24.0</td>\n",
       "      <td>1576</td>\n",
       "      <td>Female</td>\n",
       "      <td>No</td>\n",
       "      <td>At Home</td>\n",
       "    </tr>\n",
       "    <tr>\n",
       "      <th>87</th>\n",
       "      <td>31.0</td>\n",
       "      <td>1917</td>\n",
       "      <td>Female</td>\n",
       "      <td>No</td>\n",
       "      <td>At Home</td>\n",
       "    </tr>\n",
       "    <tr>\n",
       "      <th>88</th>\n",
       "      <td>31.0</td>\n",
       "      <td>1576</td>\n",
       "      <td>Male</td>\n",
       "      <td>Yes</td>\n",
       "      <td>At Home</td>\n",
       "    </tr>\n",
       "    <tr>\n",
       "      <th>89</th>\n",
       "      <td>30.0</td>\n",
       "      <td>1388</td>\n",
       "      <td>Male</td>\n",
       "      <td>Yes</td>\n",
       "      <td>At Home</td>\n",
       "    </tr>\n",
       "    <tr>\n",
       "      <th>90</th>\n",
       "      <td>32.0</td>\n",
       "      <td>1530</td>\n",
       "      <td>Female</td>\n",
       "      <td>No</td>\n",
       "      <td>Unknown</td>\n",
       "    </tr>\n",
       "    <tr>\n",
       "      <th>91</th>\n",
       "      <td>28.0</td>\n",
       "      <td>1737</td>\n",
       "      <td>Female</td>\n",
       "      <td>No</td>\n",
       "      <td>Hospital</td>\n",
       "    </tr>\n",
       "    <tr>\n",
       "      <th>92</th>\n",
       "      <td>24.0</td>\n",
       "      <td>1033</td>\n",
       "      <td>Male</td>\n",
       "      <td>No</td>\n",
       "      <td>At Home</td>\n",
       "    </tr>\n",
       "    <tr>\n",
       "      <th>93</th>\n",
       "      <td>30.0</td>\n",
       "      <td>2545</td>\n",
       "      <td>Female</td>\n",
       "      <td>No</td>\n",
       "      <td>At Home</td>\n",
       "    </tr>\n",
       "    <tr>\n",
       "      <th>94</th>\n",
       "      <td>28.0</td>\n",
       "      <td>1699</td>\n",
       "      <td>Female</td>\n",
       "      <td>No</td>\n",
       "      <td>At Home</td>\n",
       "    </tr>\n",
       "    <tr>\n",
       "      <th>95</th>\n",
       "      <td>20.0</td>\n",
       "      <td>1301</td>\n",
       "      <td>Male</td>\n",
       "      <td>No</td>\n",
       "      <td>At Home</td>\n",
       "    </tr>\n",
       "    <tr>\n",
       "      <th>96</th>\n",
       "      <td>25.0</td>\n",
       "      <td>1211</td>\n",
       "      <td>Female</td>\n",
       "      <td>No</td>\n",
       "      <td>At Home</td>\n",
       "    </tr>\n",
       "    <tr>\n",
       "      <th>97</th>\n",
       "      <td>27.0</td>\n",
       "      <td>1562</td>\n",
       "      <td>Male</td>\n",
       "      <td>Yes</td>\n",
       "      <td>At Home</td>\n",
       "    </tr>\n",
       "    <tr>\n",
       "      <th>98</th>\n",
       "      <td>27.0</td>\n",
       "      <td>865</td>\n",
       "      <td>Male</td>\n",
       "      <td>No</td>\n",
       "      <td>At Home</td>\n",
       "    </tr>\n",
       "    <tr>\n",
       "      <th>99</th>\n",
       "      <td>31.0</td>\n",
       "      <td>1630</td>\n",
       "      <td>Female</td>\n",
       "      <td>No</td>\n",
       "      <td>Died</td>\n",
       "    </tr>\n",
       "  </tbody>\n",
       "</table>\n",
       "<p>100 rows × 5 columns</p>\n",
       "</div>"
      ],
      "text/plain": [
       "    Gestational Weeks  Birthweight     Sex Congenital Anomaly Disposition\n",
       "0                33.0         1623  Female                 No     At Home\n",
       "1                29.0          545    Male                 No     Unknown\n",
       "2                30.0         1614    Male                 No     At Home\n",
       "3                30.0          803  Female                 No    Hospital\n",
       "4                26.0         1551    Male                 No     At Home\n",
       "5                28.0          770    Male                 No     At Home\n",
       "6                25.0          419  Female                 No     At Home\n",
       "7                28.0         1623  Female                 No        Died\n",
       "8                26.0          429  Female                 No        Died\n",
       "9                29.0         1636    Male                 No     At Home\n",
       "10               30.0         1771  Female                 No     At Home\n",
       "11               22.0         2021  Female                 No        Died\n",
       "12               30.0         1569    Male                 No     At Home\n",
       "13               30.0          636    Male                 No     At Home\n",
       "14               26.0         1795  Female                 No     At Home\n",
       "15               27.0         2379  Female                Yes     At Home\n",
       "16               31.0         1224  Female                 No     At Home\n",
       "17               32.0         2563  Female                 No        Died\n",
       "18               32.0         1292  Female                 No     Unknown\n",
       "19               28.0         2077  Female                 No     Unknown\n",
       "20               29.0         2028    Male                 No        Died\n",
       "21               26.0          816  Female                 No     At Home\n",
       "22               29.0          365  Female                 No     At Home\n",
       "23               29.0          512  Female                 No     Unknown\n",
       "24               31.0          646    Male                 No     At Home\n",
       "25               25.0          923    Male                Yes     At Home\n",
       "26               27.0          423  Female                 No     Unknown\n",
       "27               25.0         1991    Male                Yes     At Home\n",
       "28               30.0          841    Male                 No     At Home\n",
       "29               32.0         1645  Female                 No     Unknown\n",
       "..                ...          ...     ...                ...         ...\n",
       "70               26.0         1056    Male                 No     At Home\n",
       "71               29.0         1098    Male                 No     At Home\n",
       "72               31.0         1268    Male                 No     At Home\n",
       "73               30.0         2232  Female                 No     At Home\n",
       "74               28.0         1513    Male                 No        Died\n",
       "75               30.0         1423    Male                 No     At Home\n",
       "76               31.0          746    Male                 No    Hospital\n",
       "77               22.0          547    Male                Yes     At Home\n",
       "78               23.0          635    Male                 No     At Home\n",
       "79               28.0         2521  Female                 No     At Home\n",
       "80               27.0         1805    Male                 No     At Home\n",
       "81               28.0         1621  Female                 No    Hospital\n",
       "82               27.0          785    Male                 No     At Home\n",
       "83               25.0          733  Female                 No     At Home\n",
       "84               24.0         1729  Female                 No        Died\n",
       "85               30.0         1068    Male                 No    Hospital\n",
       "86               24.0         1576  Female                 No     At Home\n",
       "87               31.0         1917  Female                 No     At Home\n",
       "88               31.0         1576    Male                Yes     At Home\n",
       "89               30.0         1388    Male                Yes     At Home\n",
       "90               32.0         1530  Female                 No     Unknown\n",
       "91               28.0         1737  Female                 No    Hospital\n",
       "92               24.0         1033    Male                 No     At Home\n",
       "93               30.0         2545  Female                 No     At Home\n",
       "94               28.0         1699  Female                 No     At Home\n",
       "95               20.0         1301    Male                 No     At Home\n",
       "96               25.0         1211  Female                 No     At Home\n",
       "97               27.0         1562    Male                Yes     At Home\n",
       "98               27.0          865    Male                 No     At Home\n",
       "99               31.0         1630  Female                 No        Died\n",
       "\n",
       "[100 rows x 5 columns]"
      ]
     },
     "execution_count": 33,
     "metadata": {},
     "output_type": "execute_result"
    }
   ],
   "source": [
    "# Populating the Dataset\n",
    "# using my trial and error example above, I have used this structure to create the dataset\n",
    "\n",
    "df = pd.DataFrame({\"Gestational Weeks\" : gw, \"Birthweight\" : bw, \"Sex\" : s, \"Congenital Anomaly\" : ca, \"Disposition\" : dip})\n",
    "df"
   ]
  },
  {
   "cell_type": "code",
   "execution_count": 12,
   "metadata": {},
   "outputs": [
    {
     "name": "stdout",
     "output_type": "stream",
     "text": [
      "(100, 5)\n"
     ]
    }
   ],
   "source": [
    "import pandas as pd\n",
    "print(df.shape) # shape - this tells quantity of rows and columns in the dataset"
   ]
  },
  {
   "cell_type": "code",
   "execution_count": 34,
   "metadata": {},
   "outputs": [
    {
     "name": "stdout",
     "output_type": "stream",
     "text": [
      "   Gestational Weeks  Birthweight     Sex Congenital Anomaly Disposition\n",
      "0               33.0         1623  Female                 No     At Home\n",
      "1               29.0          545    Male                 No     Unknown\n",
      "2               30.0         1614    Male                 No     At Home\n",
      "3               30.0          803  Female                 No    Hospital\n",
      "4               26.0         1551    Male                 No     At Home\n",
      "5               28.0          770    Male                 No     At Home\n",
      "6               25.0          419  Female                 No     At Home\n",
      "7               28.0         1623  Female                 No        Died\n",
      "8               26.0          429  Female                 No        Died\n",
      "9               29.0         1636    Male                 No     At Home\n"
     ]
    }
   ],
   "source": [
    "print(df.head(10)) # head - prints first ten rows of the dataset"
   ]
  },
  {
   "cell_type": "code",
   "execution_count": 36,
   "metadata": {},
   "outputs": [
    {
     "name": "stdout",
     "output_type": "stream",
     "text": [
      "       Gestational Weeks  Birthweight\n",
      "count              100.0        100.0\n",
      "mean                28.0       1405.0\n",
      "std                  3.0        610.0\n",
      "min                 20.0        365.0\n",
      "25%                 26.0        908.0\n",
      "50%                 28.0       1522.0\n",
      "75%                 30.0       1777.0\n",
      "max                 34.0       2613.0\n"
     ]
    }
   ],
   "source": [
    "# description - prints keys stats on the dataset\n",
    "print(df.describe().round(0))"
   ]
  },
  {
   "cell_type": "code",
   "execution_count": 15,
   "metadata": {},
   "outputs": [
    {
     "data": {
      "text/html": [
       "<div>\n",
       "<style scoped>\n",
       "    .dataframe tbody tr th:only-of-type {\n",
       "        vertical-align: middle;\n",
       "    }\n",
       "\n",
       "    .dataframe tbody tr th {\n",
       "        vertical-align: top;\n",
       "    }\n",
       "\n",
       "    .dataframe thead th {\n",
       "        text-align: right;\n",
       "    }\n",
       "</style>\n",
       "<table border=\"1\" class=\"dataframe\">\n",
       "  <thead>\n",
       "    <tr style=\"text-align: right;\">\n",
       "      <th></th>\n",
       "      <th>Gestational Weeks</th>\n",
       "      <th>Birthweight</th>\n",
       "      <th>Sex</th>\n",
       "      <th>Congenital Anomaly</th>\n",
       "      <th>Disposition</th>\n",
       "    </tr>\n",
       "  </thead>\n",
       "  <tbody>\n",
       "    <tr>\n",
       "      <th>count</th>\n",
       "      <td>100.000000</td>\n",
       "      <td>100.000000</td>\n",
       "      <td>100</td>\n",
       "      <td>100</td>\n",
       "      <td>100</td>\n",
       "    </tr>\n",
       "    <tr>\n",
       "      <th>unique</th>\n",
       "      <td>NaN</td>\n",
       "      <td>NaN</td>\n",
       "      <td>2</td>\n",
       "      <td>2</td>\n",
       "      <td>4</td>\n",
       "    </tr>\n",
       "    <tr>\n",
       "      <th>top</th>\n",
       "      <td>NaN</td>\n",
       "      <td>NaN</td>\n",
       "      <td>Female</td>\n",
       "      <td>No</td>\n",
       "      <td>At Home</td>\n",
       "    </tr>\n",
       "    <tr>\n",
       "      <th>freq</th>\n",
       "      <td>NaN</td>\n",
       "      <td>NaN</td>\n",
       "      <td>55</td>\n",
       "      <td>91</td>\n",
       "      <td>48</td>\n",
       "    </tr>\n",
       "    <tr>\n",
       "      <th>mean</th>\n",
       "      <td>28.010000</td>\n",
       "      <td>1405.310000</td>\n",
       "      <td>NaN</td>\n",
       "      <td>NaN</td>\n",
       "      <td>NaN</td>\n",
       "    </tr>\n",
       "    <tr>\n",
       "      <th>std</th>\n",
       "      <td>2.790659</td>\n",
       "      <td>609.542082</td>\n",
       "      <td>NaN</td>\n",
       "      <td>NaN</td>\n",
       "      <td>NaN</td>\n",
       "    </tr>\n",
       "    <tr>\n",
       "      <th>min</th>\n",
       "      <td>20.000000</td>\n",
       "      <td>365.000000</td>\n",
       "      <td>NaN</td>\n",
       "      <td>NaN</td>\n",
       "      <td>NaN</td>\n",
       "    </tr>\n",
       "    <tr>\n",
       "      <th>25%</th>\n",
       "      <td>26.000000</td>\n",
       "      <td>908.500000</td>\n",
       "      <td>NaN</td>\n",
       "      <td>NaN</td>\n",
       "      <td>NaN</td>\n",
       "    </tr>\n",
       "    <tr>\n",
       "      <th>50%</th>\n",
       "      <td>28.000000</td>\n",
       "      <td>1521.500000</td>\n",
       "      <td>NaN</td>\n",
       "      <td>NaN</td>\n",
       "      <td>NaN</td>\n",
       "    </tr>\n",
       "    <tr>\n",
       "      <th>75%</th>\n",
       "      <td>30.000000</td>\n",
       "      <td>1777.000000</td>\n",
       "      <td>NaN</td>\n",
       "      <td>NaN</td>\n",
       "      <td>NaN</td>\n",
       "    </tr>\n",
       "    <tr>\n",
       "      <th>max</th>\n",
       "      <td>34.000000</td>\n",
       "      <td>2613.000000</td>\n",
       "      <td>NaN</td>\n",
       "      <td>NaN</td>\n",
       "      <td>NaN</td>\n",
       "    </tr>\n",
       "  </tbody>\n",
       "</table>\n",
       "</div>"
      ],
      "text/plain": [
       "        Gestational Weeks  Birthweight     Sex Congenital Anomaly Disposition\n",
       "count          100.000000   100.000000     100                100         100\n",
       "unique                NaN          NaN       2                  2           4\n",
       "top                   NaN          NaN  Female                 No     At Home\n",
       "freq                  NaN          NaN      55                 91          48\n",
       "mean            28.010000  1405.310000     NaN                NaN         NaN\n",
       "std              2.790659   609.542082     NaN                NaN         NaN\n",
       "min             20.000000   365.000000     NaN                NaN         NaN\n",
       "25%             26.000000   908.500000     NaN                NaN         NaN\n",
       "50%             28.000000  1521.500000     NaN                NaN         NaN\n",
       "75%             30.000000  1777.000000     NaN                NaN         NaN\n",
       "max             34.000000  2613.000000     NaN                NaN         NaN"
      ]
     },
     "execution_count": 15,
     "metadata": {},
     "output_type": "execute_result"
    }
   ],
   "source": [
    "df.describe(include='all') #Describing all columns of a DataFrame regardless of data type."
   ]
  },
  {
   "cell_type": "code",
   "execution_count": 16,
   "metadata": {},
   "outputs": [
    {
     "data": {
      "text/html": [
       "<div>\n",
       "<style scoped>\n",
       "    .dataframe tbody tr th:only-of-type {\n",
       "        vertical-align: middle;\n",
       "    }\n",
       "\n",
       "    .dataframe tbody tr th {\n",
       "        vertical-align: top;\n",
       "    }\n",
       "\n",
       "    .dataframe thead th {\n",
       "        text-align: right;\n",
       "    }\n",
       "</style>\n",
       "<table border=\"1\" class=\"dataframe\">\n",
       "  <thead>\n",
       "    <tr style=\"text-align: right;\">\n",
       "      <th></th>\n",
       "      <th>Sex</th>\n",
       "      <th>Congenital Anomaly</th>\n",
       "      <th>Disposition</th>\n",
       "    </tr>\n",
       "  </thead>\n",
       "  <tbody>\n",
       "    <tr>\n",
       "      <th>count</th>\n",
       "      <td>100</td>\n",
       "      <td>100</td>\n",
       "      <td>100</td>\n",
       "    </tr>\n",
       "    <tr>\n",
       "      <th>unique</th>\n",
       "      <td>2</td>\n",
       "      <td>2</td>\n",
       "      <td>4</td>\n",
       "    </tr>\n",
       "    <tr>\n",
       "      <th>top</th>\n",
       "      <td>Female</td>\n",
       "      <td>No</td>\n",
       "      <td>At Home</td>\n",
       "    </tr>\n",
       "    <tr>\n",
       "      <th>freq</th>\n",
       "      <td>55</td>\n",
       "      <td>91</td>\n",
       "      <td>48</td>\n",
       "    </tr>\n",
       "  </tbody>\n",
       "</table>\n",
       "</div>"
      ],
      "text/plain": [
       "           Sex Congenital Anomaly Disposition\n",
       "count      100                100         100\n",
       "unique       2                  2           4\n",
       "top     Female                 No     At Home\n",
       "freq        55                 91          48"
      ]
     },
     "execution_count": 16,
     "metadata": {},
     "output_type": "execute_result"
    }
   ],
   "source": [
    "df.describe(include=[np.object]) #Including only string columns in a DataFrame description"
   ]
  },
  {
   "cell_type": "code",
   "execution_count": 17,
   "metadata": {},
   "outputs": [
    {
     "data": {
      "text/html": [
       "<div>\n",
       "<style scoped>\n",
       "    .dataframe tbody tr th:only-of-type {\n",
       "        vertical-align: middle;\n",
       "    }\n",
       "\n",
       "    .dataframe tbody tr th {\n",
       "        vertical-align: top;\n",
       "    }\n",
       "\n",
       "    .dataframe thead th {\n",
       "        text-align: right;\n",
       "    }\n",
       "</style>\n",
       "<table border=\"1\" class=\"dataframe\">\n",
       "  <thead>\n",
       "    <tr style=\"text-align: right;\">\n",
       "      <th></th>\n",
       "      <th>Sex</th>\n",
       "      <th>Congenital Anomaly</th>\n",
       "      <th>Disposition</th>\n",
       "    </tr>\n",
       "  </thead>\n",
       "  <tbody>\n",
       "    <tr>\n",
       "      <th>count</th>\n",
       "      <td>100</td>\n",
       "      <td>100</td>\n",
       "      <td>100</td>\n",
       "    </tr>\n",
       "    <tr>\n",
       "      <th>unique</th>\n",
       "      <td>2</td>\n",
       "      <td>2</td>\n",
       "      <td>4</td>\n",
       "    </tr>\n",
       "    <tr>\n",
       "      <th>top</th>\n",
       "      <td>Female</td>\n",
       "      <td>No</td>\n",
       "      <td>At Home</td>\n",
       "    </tr>\n",
       "    <tr>\n",
       "      <th>freq</th>\n",
       "      <td>55</td>\n",
       "      <td>91</td>\n",
       "      <td>48</td>\n",
       "    </tr>\n",
       "  </tbody>\n",
       "</table>\n",
       "</div>"
      ],
      "text/plain": [
       "           Sex Congenital Anomaly Disposition\n",
       "count      100                100         100\n",
       "unique       2                  2           4\n",
       "top     Female                 No     At Home\n",
       "freq        55                 91          48"
      ]
     },
     "execution_count": 17,
     "metadata": {},
     "output_type": "execute_result"
    }
   ],
   "source": [
    " df.describe(exclude=[np.number]) #Excluding numeric columns from a DataFrame description - same result as code above"
   ]
  },
  {
   "cell_type": "code",
   "execution_count": 37,
   "metadata": {},
   "outputs": [
    {
     "data": {
      "text/plain": [
       "Sex\n",
       "Female    55\n",
       "Male      45\n",
       "dtype: int64"
      ]
     },
     "execution_count": 37,
     "metadata": {},
     "output_type": "execute_result"
    }
   ],
   "source": [
    "df.groupby('Sex').size()\n"
   ]
  },
  {
   "cell_type": "code",
   "execution_count": 38,
   "metadata": {},
   "outputs": [
    {
     "data": {
      "text/plain": [
       "Congenital Anomaly\n",
       "No     91\n",
       "Yes     9\n",
       "dtype: int64"
      ]
     },
     "execution_count": 38,
     "metadata": {},
     "output_type": "execute_result"
    }
   ],
   "source": [
    "df.groupby('Congenital Anomaly').size()\n"
   ]
  },
  {
   "cell_type": "code",
   "execution_count": 39,
   "metadata": {},
   "outputs": [
    {
     "data": {
      "text/plain": [
       "Disposition\n",
       "At Home     69\n",
       "Died        17\n",
       "Hospital     6\n",
       "Unknown      8\n",
       "dtype: int64"
      ]
     },
     "execution_count": 39,
     "metadata": {},
     "output_type": "execute_result"
    }
   ],
   "source": [
    "df.groupby('Disposition').size()\n",
    "\n"
   ]
  },
  {
   "cell_type": "code",
   "execution_count": 42,
   "metadata": {},
   "outputs": [
    {
     "name": "stdout",
     "output_type": "stream",
     "text": [
      "       Gestational Weeks  Birthweight\n",
      "count          69.000000    69.000000\n",
      "mean           27.768116  1453.231884\n",
      "std             2.818766   610.531450\n",
      "min            20.000000   365.000000\n",
      "25%            26.000000   925.000000\n",
      "50%            28.000000  1540.000000\n",
      "75%            30.000000  1916.000000\n",
      "max            34.000000  2613.000000\n",
      "       Gestational Weeks  Birthweight\n",
      "count          17.000000    17.000000\n",
      "mean           27.764706  1463.058824\n",
      "std             3.011009   609.633135\n",
      "min            22.000000   376.000000\n",
      "25%            26.000000  1162.000000\n",
      "50%            28.000000  1623.000000\n",
      "75%            30.000000  1737.000000\n",
      "max            33.000000  2563.000000\n",
      "       Gestational Weeks  Birthweight\n",
      "count           6.000000     6.000000\n",
      "mean           29.666667  1157.500000\n",
      "std             1.366260   421.621038\n",
      "min            28.000000   746.000000\n",
      "25%            28.500000   844.750000\n",
      "50%            30.000000  1019.000000\n",
      "75%            30.750000  1482.750000\n",
      "max            31.000000  1737.000000\n",
      "       Gestational Weeks  Birthweight\n",
      "count           8.000000     8.000000\n",
      "mean           29.375000  1055.125000\n",
      "std             2.386719   658.547631\n",
      "min            26.000000   417.000000\n",
      "25%            27.750000   489.750000\n",
      "50%            29.000000   918.500000\n",
      "75%            32.000000  1558.750000\n",
      "max            32.000000  2077.000000\n"
     ]
    }
   ],
   "source": [
    "#Create 3 DataFrame for each Disposition Outcome\n",
    "# idea from https://www.kaggle.com/abhishekkrg/python-iris-data-visualization-and-explanation\n",
    "# Gather data by analysing the variables that give a certain outcome (disposition)\n",
    "AtHome=df[df['Disposition']=='At Home']\n",
    "Died=df[df['Disposition']=='Died']\n",
    "Hospital=df[df['Disposition']=='Hospital']\n",
    "Unknown=df[df['Disposition']=='Unknown']\n",
    "\n",
    "print(AtHome.describe())\n",
    "print(Died.describe())\n",
    "print(Hospital.describe())\n",
    "print(Unknown.describe())\n"
   ]
  },
  {
   "cell_type": "code",
   "execution_count": 22,
   "metadata": {},
   "outputs": [],
   "source": [
    "import matplotlib.pyplot as plt # importing matplotlib to plot the data"
   ]
  },
  {
   "cell_type": "code",
   "execution_count": 23,
   "metadata": {},
   "outputs": [
    {
     "data": {
      "text/plain": [
       "Text(0.5,1,'Gestational Weeks of Infant')"
      ]
     },
     "execution_count": 23,
     "metadata": {},
     "output_type": "execute_result"
    },
    {
     "data": {
      "image/png": "[encoded data removed]",
      "text/plain": [
       "<Figure size 432x288 with 1 Axes>"
      ]
     },
     "metadata": {
      "needs_background": "light"
     },
     "output_type": "display_data"
    }
   ],
   "source": [
    "plt.plot(gw) # Plot the spead of gestational weeks of each infant\n",
    "plt.ylabel(\"Gest. Weeks\") # name the y label\n",
    "plt.title(\"Gestational Weeks of Infant\") # give the plot a title"
   ]
  },
  {
   "cell_type": "code",
   "execution_count": 24,
   "metadata": {},
   "outputs": [
    {
     "data": {
      "text/plain": [
       "Text(0.5,1,'Birthweight of Infant')"
      ]
     },
     "execution_count": 24,
     "metadata": {},
     "output_type": "execute_result"
    },
    {
     "data": {
      "image/png": "[encoded data removed]",
      "text/plain": [
       "<Figure size 432x288 with 1 Axes>"
      ]
     },
     "metadata": {
      "needs_background": "light"
     },
     "output_type": "display_data"
    }
   ],
   "source": [
    "plt.plot(bw) # Plot the spead of birth weight of each infant\n",
    "plt.ylabel(\"Birthweight\") # name the y label\n",
    "plt.title(\"Birthweight of Infant\") # give the plot a title"
   ]
  },
  {
   "cell_type": "code",
   "execution_count": 25,
   "metadata": {},
   "outputs": [
    {
     "data": {
      "text/plain": [
       "Text(0.5,1,'Gestational Weeks of Infant')"
      ]
     },
     "execution_count": 25,
     "metadata": {},
     "output_type": "execute_result"
    },
    {
     "data": {
      "image/png": "[encoded data removed]",
      "text/plain": [
       "<Figure size 432x288 with 1 Axes>"
      ]
     },
     "metadata": {
      "needs_background": "light"
     },
     "output_type": "display_data"
    }
   ],
   "source": [
    "# better to read this data on a histogram\n",
    "plt.hist(gw)\n",
    "plt.xlabel(\"Gest. Weeks\") # name the y label\n",
    "plt.ylabel(\"No. of Infants\")\n",
    "plt.title(\"Gestational Weeks of Infant\") # give the plot a title"
   ]
  },
  {
   "cell_type": "code",
   "execution_count": 26,
   "metadata": {},
   "outputs": [
    {
     "data": {
      "text/plain": [
       "Text(0.5,1,'Birthweight of Infant')"
      ]
     },
     "execution_count": 26,
     "metadata": {},
     "output_type": "execute_result"
    },
    {
     "data": {
      "image/png": "[encoded data removed]",
      "text/plain": [
       "<Figure size 432x288 with 1 Axes>"
      ]
     },
     "metadata": {
      "needs_background": "light"
     },
     "output_type": "display_data"
    }
   ],
   "source": [
    "# better to read this data on a histogram\n",
    "plt.hist(bw)\n",
    "plt.xlabel(\"Birthweight\") # name the y label\n",
    "plt.ylabel(\"No. of Infants\")\n",
    "plt.title(\"Birthweight of Infant\") # give the plot a title"
   ]
  },
  {
   "cell_type": "code",
   "execution_count": 27,
   "metadata": {},
   "outputs": [
    {
     "data": {
      "text/plain": [
       "Text(0,0.5,'No. of Infants')"
      ]
     },
     "execution_count": 27,
     "metadata": {},
     "output_type": "execute_result"
    },
    {
     "data": {
      "image/png": "[encoded data removed]",
      "text/plain": [
       "<Figure size 432x288 with 2 Axes>"
      ]
     },
     "metadata": {
      "needs_background": "light"
     },
     "output_type": "display_data"
    }
   ],
   "source": [
    "plt.subplot(2, 1, 1)\n",
    "plt.hist(gw)\n",
    "plt.xlabel(\"Gest. Weeks\") # name the y label\n",
    "plt.ylabel(\"No. of Infants\")\n",
    "\n",
    "\n",
    "plt.subplot(2, 1, 2)\n",
    "plt.hist(bw)\n",
    "plt.xlabel(\"Birthweight\") # name the y label\n",
    "plt.ylabel(\"No. of Infants\")\n"
   ]
  },
  {
   "cell_type": "code",
   "execution_count": 68,
   "metadata": {},
   "outputs": [
    {
     "data": {
      "image/png": "[encoded data removed]",
      "text/plain": [
       "<Figure size 432x288 with 4 Axes>"
      ]
     },
     "metadata": {
      "needs_background": "light"
     },
     "output_type": "display_data"
    },
    {
     "data": {
      "image/png": "[encoded data removed]",
      "text/plain": [
       "<Figure size 432x288 with 2 Axes>"
      ]
     },
     "metadata": {
      "needs_background": "light"
     },
     "output_type": "display_data"
    },
    {
     "data": {
      "image/png": "[encoded data removed]",
      "text/plain": [
       "<Figure size 432x288 with 4 Axes>"
      ]
     },
     "metadata": {
      "needs_background": "light"
     },
     "output_type": "display_data"
    }
   ],
   "source": [
    "# ref: https://github.com/ClaireDrummond/GMITProject2018/blob/master/Graphs.py\n",
    "from pandas.plotting import scatter_matrix\n",
    "# box plots\n",
    "df.plot(kind='box', subplots=True, layout=(2,2), sharex=False, sharey=False)\n",
    "plt.show()\n",
    "\n",
    "# histograms \n",
    "df.hist()\n",
    "plt.show()\n",
    "\n",
    "#scatter plot matrix\n",
    "scatter_matrix(df)\n",
    "plt.show()\n",
    "\n",
    "\n",
    "\n"
   ]
  },
  {
   "cell_type": "code",
   "execution_count": 64,
   "metadata": {},
   "outputs": [
    {
     "data": {
      "image/png": "[encoded data removed]",
      "text/plain": [
       "<Figure size 432x288 with 4 Axes>"
      ]
     },
     "metadata": {
      "needs_background": "light"
     },
     "output_type": "display_data"
    },
    {
     "data": {
      "image/png": "[encoded data removed]",
      "text/plain": [
       "<Figure size 432x288 with 2 Axes>"
      ]
     },
     "metadata": {
      "needs_background": "light"
     },
     "output_type": "display_data"
    },
    {
     "data": {
      "image/png": "[encoded data removed]",
      "text/plain": [
       "<Figure size 432x288 with 4 Axes>"
      ]
     },
     "metadata": {
      "needs_background": "light"
     },
     "output_type": "display_data"
    }
   ],
   "source": [
    "# box plots\n",
    "AtHome.plot(kind='box', subplots=True, layout=(2,2), sharex=False, sharey=False)\n",
    "plt.show()\n",
    "\n",
    "# histograms \n",
    "AtHome.hist()\n",
    "plt.show()\n",
    "\n",
    "#scatter plot matrix\n",
    "scatter_matrix(AtHome)\n",
    "plt.show()\n",
    "\n"
   ]
  },
  {
   "cell_type": "code",
   "execution_count": 69,
   "metadata": {},
   "outputs": [
    {
     "ename": "IndentationError",
     "evalue": "unexpected indent (<ipython-input-69-88c3c545a369>, line 3)",
     "output_type": "error",
     "traceback": [
      "\u001b[1;36m  File \u001b[1;32m\"<ipython-input-69-88c3c545a369>\"\u001b[1;36m, line \u001b[1;32m3\u001b[0m\n\u001b[1;33m    sns.stripplot(x=\"dip\", Scatterplot with one\u001b[0m\n\u001b[1;37m    ^\u001b[0m\n\u001b[1;31mIndentationError\u001b[0m\u001b[1;31m:\u001b[0m unexpected indent\n"
     ]
    }
   ],
   "source": [
    "import seaborn as sns\n",
    "\n",
    " sns.stripplot(x=\"dip\", Scatterplot with one\n",
    " y=\"bw\", categorical variable\n",
    " data=df) \n",
    "\n"
   ]
  },
  {
   "cell_type": "code",
   "execution_count": 66,
   "metadata": {},
   "outputs": [
    {
     "data": {
      "image/png": "[encoded data removed]",
      "text/plain": [
       "<Figure size 432x288 with 4 Axes>"
      ]
     },
     "metadata": {
      "needs_background": "light"
     },
     "output_type": "display_data"
    },
    {
     "data": {
      "image/png": "[encoded data removed]",
      "text/plain": [
       "<Figure size 432x288 with 2 Axes>"
      ]
     },
     "metadata": {
      "needs_background": "light"
     },
     "output_type": "display_data"
    },
    {
     "data": {
      "image/png": "[encoded data removed]",
      "text/plain": [
       "<Figure size 432x288 with 4 Axes>"
      ]
     },
     "metadata": {
      "needs_background": "light"
     },
     "output_type": "display_data"
    }
   ],
   "source": [
    "# box plots\n",
    "Hospital.plot(kind='box', subplots=True, layout=(2,2), sharex=False, sharey=False)\n",
    "plt.show()\n",
    "\n",
    "# histograms \n",
    "Hospital.hist()\n",
    "plt.show()\n",
    "\n",
    "#scatter plot matrix\n",
    "scatter_matrix(Hospital)\n",
    "plt.show()\n",
    "\n"
   ]
  },
  {
   "cell_type": "code",
   "execution_count": 67,
   "metadata": {},
   "outputs": [
    {
     "data": {
      "image/png": "[encoded data removed]",
      "text/plain": [
       "<Figure size 432x288 with 4 Axes>"
      ]
     },
     "metadata": {
      "needs_background": "light"
     },
     "output_type": "display_data"
    },
    {
     "data": {
      "image/png": "[encoded data removed]",
      "text/plain": [
       "<Figure size 432x288 with 2 Axes>"
      ]
     },
     "metadata": {
      "needs_background": "light"
     },
     "output_type": "display_data"
    },
    {
     "data": {
      "image/png": "[encoded data removed]",
      "text/plain": [
       "<Figure size 432x288 with 4 Axes>"
      ]
     },
     "metadata": {
      "needs_background": "light"
     },
     "output_type": "display_data"
    }
   ],
   "source": [
    "# box plots\n",
    "Unknown.plot(kind='box', subplots=True, layout=(2,2), sharex=False, sharey=False)\n",
    "plt.show()\n",
    "\n",
    "# histograms \n",
    "Unknown.hist()\n",
    "plt.show()\n",
    "\n",
    "#scatter plot matrix\n",
    "scatter_matrix(Unknown)\n",
    "plt.show()\n",
    "\n"
   ]
  },
  {
   "cell_type": "code",
   "execution_count": 73,
   "metadata": {},
   "outputs": [
    {
     "data": {
      "text/plain": [
       "<matplotlib.axes._subplots.AxesSubplot at 0x1f0eb76c128>"
      ]
     },
     "execution_count": 73,
     "metadata": {},
     "output_type": "execute_result"
    },
    {
     "data": {
      "image/png": "[encoded data removed]",
      "text/plain": [
       "<Figure size 432x288 with 1 Axes>"
      ]
     },
     "metadata": {
      "needs_background": "light"
     },
     "output_type": "display_data"
    }
   ],
   "source": [
    "# ref https://datacamp-community-prod.s3.amazonaws.com/f9f06e72-519a-4722-9912-b5de742dbac4\n",
    "import seaborn as sns\n",
    "sns.stripplot(dip, bw)"
   ]
  },
  {
   "cell_type": "code",
   "execution_count": 77,
   "metadata": {},
   "outputs": [
    {
     "data": {
      "text/plain": [
       "<matplotlib.axes._subplots.AxesSubplot at 0x1f0ebaa0978>"
      ]
     },
     "execution_count": 77,
     "metadata": {},
     "output_type": "execute_result"
    },
    {
     "data": {
      "image/png": "[encoded data removed]",
      "text/plain": [
       "<Figure size 432x288 with 1 Axes>"
      ]
     },
     "metadata": {
      "needs_background": "light"
     },
     "output_type": "display_data"
    }
   ],
   "source": [
    "sns.stripplot(dip, gw)"
   ]
  },
  {
   "cell_type": "code",
   "execution_count": 86,
   "metadata": {},
   "outputs": [
    {
     "data": {
      "text/plain": [
       "<matplotlib.axes._subplots.AxesSubplot at 0x1f0ed6b32b0>"
      ]
     },
     "execution_count": 86,
     "metadata": {},
     "output_type": "execute_result"
    },
    {
     "data": {
      "image/png": "[encoded data removed]",
      "text/plain": [
       "<Figure size 432x288 with 1 Axes>"
      ]
     },
     "metadata": {
      "needs_background": "light"
     },
     "output_type": "display_data"
    }
   ],
   "source": [
    "sns.countplot(dip, palette=\"Greens_d\")\n",
    "\n",
    "\n",
    "\n",
    "    \n",
    "    \n"
   ]
  },
  {
   "cell_type": "code",
   "execution_count": 82,
   "metadata": {},
   "outputs": [
    {
     "data": {
      "text/plain": [
       "<matplotlib.axes._subplots.AxesSubplot at 0x1f0ed4f3240>"
      ]
     },
     "execution_count": 82,
     "metadata": {},
     "output_type": "execute_result"
    },
    {
     "data": {
      "image/png": "[encoded data removed]",
      "text/plain": [
       "<Figure size 432x288 with 1 Axes>"
      ]
     },
     "metadata": {
      "needs_background": "light"
     },
     "output_type": "display_data"
    }
   ],
   "source": [
    "sns.countplot(ca, palette=\"Greens_d\")"
   ]
  },
  {
   "cell_type": "code",
   "execution_count": 83,
   "metadata": {},
   "outputs": [
    {
     "data": {
      "text/plain": [
       "<matplotlib.axes._subplots.AxesSubplot at 0x1f0ed535320>"
      ]
     },
     "execution_count": 83,
     "metadata": {},
     "output_type": "execute_result"
    },
    {
     "data": {
      "image/png": "[encoded data removed]",
      "text/plain": [
       "<Figure size 432x288 with 1 Axes>"
      ]
     },
     "metadata": {
      "needs_background": "light"
     },
     "output_type": "display_data"
    }
   ],
   "source": [
    "sns.countplot(s, palette=\"Greens_d\")"
   ]
  },
  {
   "cell_type": "code",
   "execution_count": null,
   "metadata": {},
   "outputs": [],
   "source": []
  }
 ],
 "metadata": {
  "kernelspec": {
   "display_name": "Python 3",
   "language": "python",
   "name": "python3"
  },
  "language_info": {
   "codemirror_mode": {
    "name": "ipython",
    "version": 3
   },
   "file_extension": ".py",
   "mimetype": "text/x-python",
   "name": "python",
   "nbconvert_exporter": "python",
   "pygments_lexer": "ipython3",
   "version": "3.6.6"
  }
 },
 "nbformat": 4,
 "nbformat_minor": 2
}
