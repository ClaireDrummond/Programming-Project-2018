{
 "cells": [
  {
   "cell_type": "code",
   "execution_count": null,
   "metadata": {},
   "outputs": [],
   "source": []
  },
  {
   "cell_type": "markdown",
   "metadata": {},
   "source": [
    "Vermont Oxford Network (VON) is a nonprofit voluntary collaboration of health care professionals working together as an interdisciplinary community to change the landscape of neonatal care.  Founded in 1988, VON is now comprised of teams of health professionals representing neonatal intensive care units and level I and II care centers around the world, in support of the mission to improve the quality and safety of medical care for newborn infants and their families through a coordinated program of research, education, and quality improvement projects. (ref: https://public.vtoxford.org/about-us/)\n",
    "\n",
    "Mortality Risk Amongst Very Low Birth Weight Infants Born in the Republic of Ireland was published by  National Perinatal Epidemiology Centre, 2018 (ref: \n",
    "https://www.ucc.ie/en/media/research/nationalperinatalepidemiologycentre/annualreports/MortalityRiskAmongstVeryLowBirthWeightInfantsintheRepublicofIrelandReport2014-2016.pdf)\n",
    "\n",
    "This notebook aims to sythesise data to reflect the findings in this report"
   ]
  },
  {
   "cell_type": "markdown",
   "metadata": {},
   "source": [
    "# The Variables - Explained\n",
    "\n",
    "## Gestational Weeks\n",
    "Gestational age is the common term used during pregnancy to describe how far along the pregnancy is. It is measured in weeks, from the first day of the woman's last menstrual cycle to the current date. A normal pregnancy can range from 38 to 42 weeks. Infants born before 37 weeks are considered premature. The outcome of this variable will be most likely between 22 - 32 weeks.\n",
    "(ref:https://medlineplus.gov/ency/article/002367.htm)\n",
    "\n",
    "## Birthweight\n",
    "Birth weight is the first weight of your baby, taken just after he or she is born. A low birth weight is less than 5.5 pounds. A high birth weight is more than 8.8 pounds. The expected result of this variable will see most weights less than 5.5 pounds \n",
    "\n",
    "## Congenital Anomaly \n",
    "Congenital anomalies are also known as birth defects, congenital disorders or congenital malformations. Yes or No.\n",
    "\n",
    "## Disposition at 1 Year\n",
    "Did the infant live or die.  The outcome is recorded one year after birth.  There are 4 possible outcomes:\n",
    "- Died\n",
    "- Home\n",
    "- Still Hospitalised\n",
    "- Unkown\n",
    " \n",
    "\n"
   ]
  },
  {
   "cell_type": "code",
   "execution_count": 26,
   "metadata": {},
   "outputs": [],
   "source": [
    "# create a dataframe structure by starting with the column headings\n",
    "import pandas as pd\n",
    "import numpy as np\n",
    "df = pd.DataFrame(columns= [\"Gestational Weeks\", \"Birthweight\", \"Congenital Anomaly\", \"Disposition at 1 Year\" ])"
   ]
  },
  {
   "cell_type": "code",
   "execution_count": 15,
   "metadata": {},
   "outputs": [
    {
     "data": {
      "text/html": [
       "<div>\n",
       "<style scoped>\n",
       "    .dataframe tbody tr th:only-of-type {\n",
       "        vertical-align: middle;\n",
       "    }\n",
       "\n",
       "    .dataframe tbody tr th {\n",
       "        vertical-align: top;\n",
       "    }\n",
       "\n",
       "    .dataframe thead th {\n",
       "        text-align: right;\n",
       "    }\n",
       "</style>\n",
       "<table border=\"1\" class=\"dataframe\">\n",
       "  <thead>\n",
       "    <tr style=\"text-align: right;\">\n",
       "      <th></th>\n",
       "      <th>Index</th>\n",
       "      <th>Gestational Weeks</th>\n",
       "      <th>Birthweight</th>\n",
       "      <th>Congenital Anomaly</th>\n",
       "      <th>Disposition at 1 Year</th>\n",
       "    </tr>\n",
       "  </thead>\n",
       "  <tbody>\n",
       "  </tbody>\n",
       "</table>\n",
       "</div>"
      ],
      "text/plain": [
       "Empty DataFrame\n",
       "Columns: [Index, Gestational Weeks, Birthweight, Congenital Anomaly, Disposition at 1 Year]\n",
       "Index: []"
      ]
     },
     "execution_count": 15,
     "metadata": {},
     "output_type": "execute_result"
    }
   ],
   "source": [
    "df"
   ]
  },
  {
   "cell_type": "code",
   "execution_count": 24,
   "metadata": {},
   "outputs": [
    {
     "data": {
      "text/html": [
       "<div>\n",
       "<style scoped>\n",
       "    .dataframe tbody tr th:only-of-type {\n",
       "        vertical-align: middle;\n",
       "    }\n",
       "\n",
       "    .dataframe tbody tr th {\n",
       "        vertical-align: top;\n",
       "    }\n",
       "\n",
       "    .dataframe thead th {\n",
       "        text-align: right;\n",
       "    }\n",
       "</style>\n",
       "<table border=\"1\" class=\"dataframe\">\n",
       "  <thead>\n",
       "    <tr style=\"text-align: right;\">\n",
       "      <th></th>\n",
       "      <th>Gestational Weeks</th>\n",
       "      <th>Birthweight</th>\n",
       "      <th>Congenital Anomaly</th>\n",
       "      <th>Disposition at 1 Year</th>\n",
       "    </tr>\n",
       "  </thead>\n",
       "  <tbody>\n",
       "    <tr>\n",
       "      <th>0</th>\n",
       "      <td>Alex</td>\n",
       "      <td>10</td>\n",
       "      <td>6</td>\n",
       "      <td>2</td>\n",
       "    </tr>\n",
       "    <tr>\n",
       "      <th>1</th>\n",
       "      <td>Bob</td>\n",
       "      <td>12</td>\n",
       "      <td>6</td>\n",
       "      <td>2</td>\n",
       "    </tr>\n",
       "    <tr>\n",
       "      <th>2</th>\n",
       "      <td>Clarke</td>\n",
       "      <td>13</td>\n",
       "      <td>6</td>\n",
       "      <td>2</td>\n",
       "    </tr>\n",
       "  </tbody>\n",
       "</table>\n",
       "</div>"
      ],
      "text/plain": [
       "  Gestational Weeks  Birthweight  Congenital Anomaly  Disposition at 1 Year\n",
       "0              Alex           10                   6                      2\n",
       "1               Bob           12                   6                      2\n",
       "2            Clarke           13                   6                      2"
      ]
     },
     "execution_count": 24,
     "metadata": {},
     "output_type": "execute_result"
    }
   ],
   "source": [
    "# Testing to populate the data \n",
    "data = [['Alex',10, 6, 2],['Bob',12, 6 ,2],['Clarke',13, 6 ,2]]\n",
    "df = pd.DataFrame(data, columns = ['Gestational Weeks', 'Birthweight', 'Congenital Anomaly', 'Disposition at 1 Year'])\n",
    "df"
   ]
  },
  {
   "cell_type": "code",
   "execution_count": 27,
   "metadata": {},
   "outputs": [],
   "source": [
    "# The above table is the basic structure which I will use as the foundations for systhessing my dataset"
   ]
  },
  {
   "cell_type": "markdown",
   "metadata": {},
   "source": [
    "## Gestational Weeks\n",
    "In this dataset the Gestational weeks has a spread from 21 weeks to 33 weeks.\n"
   ]
  },
  {
   "cell_type": "code",
   "execution_count": 36,
   "metadata": {},
   "outputs": [
    {
     "data": {
      "text/plain": [
       "array([29.69768504, 24.76739034, 25.53623763, 27.26828616, 29.59302257,\n",
       "       25.3373349 , 29.54341044, 36.15830912, 30.59832384, 27.74739893,\n",
       "       27.47888197, 27.77545595, 30.81360771, 26.91865339, 30.38561703,\n",
       "       31.97756924, 26.40315956, 25.29837499, 24.80605937, 24.84813743,\n",
       "       28.83754857, 29.26610866, 30.82146422, 29.11268851, 32.25257221,\n",
       "       23.29492779, 25.56522894, 27.11744117, 27.39699415, 23.67425756,\n",
       "       26.91146859, 25.69598078, 25.62514379, 29.69177789, 29.53570556,\n",
       "       29.75994977, 30.97226271, 24.36231541, 26.32600429, 22.0893333 ,\n",
       "       27.58096215, 26.33505857, 30.7548689 , 25.17517032, 31.53426665,\n",
       "       29.62151495, 28.52543361, 30.91486687, 37.78047092, 28.33404991,\n",
       "       27.60450218, 24.5385594 , 26.05133773, 33.56249583, 25.04210597,\n",
       "       30.7471004 , 32.6188011 , 27.60230501, 25.27491328, 25.54236253,\n",
       "       24.93176192, 32.02557391, 24.33906971, 24.7718252 , 25.67493756,\n",
       "       29.34498388, 26.30362328, 27.37844447, 29.85610213, 24.49844549,\n",
       "       31.18160767, 31.55710061, 22.1770347 , 25.06795383, 27.64340569,\n",
       "       24.66605433, 27.70605869, 33.11007611, 31.71836823, 30.82572063,\n",
       "       26.78467237, 25.66501349, 32.03514717, 30.71780312, 26.65946377,\n",
       "       20.36262923, 23.90611521, 28.95582824, 28.00302156, 28.87796838,\n",
       "       26.51667391, 31.69095201, 30.66429138, 27.72752982, 24.9207552 ,\n",
       "       28.48698929, 27.94959819, 21.14874139, 24.10045286, 25.76439286])"
      ]
     },
     "execution_count": 36,
     "metadata": {},
     "output_type": "execute_result"
    }
   ],
   "source": [
    "#Setting Parameters for gestational weeks.  Majority of babies born weeks 28, 29, 30\n",
    "mu, sigma = 28, 3 # mean and standard deviation\n",
    "gw = np.random.normal(mu, sigma, 100) \n",
    "gw"
   ]
  },
  {
   "cell_type": "markdown",
   "metadata": {},
   "source": [
    "## Birthweight\n",
    "The birth weights of very low birth weight infants ranged from\n",
    "360g to 2,640g"
   ]
  },
  {
   "cell_type": "code",
   "execution_count": 34,
   "metadata": {},
   "outputs": [
    {
     "data": {
      "text/plain": [
       "array([ 993, 1103,  922, 1125,  686, 1149,  552, 1449,  666, 1105, 1313,\n",
       "        733,  509,  889, 1285,  806,  955,  641, 1287,  481, 1120, 1204,\n",
       "       1496,  588,  416,  523, 1265,  717,  755,  926,  804,  965,  966,\n",
       "        427, 1220,  649, 1381,  417,  526,  595, 1184,  819, 1063, 1386,\n",
       "        854, 1460,  705,  555,  862, 1453,  582, 1351, 1377, 1171, 1103,\n",
       "       1260,  403,  467,  641, 1198,  666,  653, 1196, 1144,  949,  827,\n",
       "       1297, 1200,  729,  870, 1394,  580,  437, 1266, 1439, 1263, 1027,\n",
       "       1191,  445,  601,  486, 1447,  789,  746, 1149,  704,  868,  570,\n",
       "        665, 1411, 1444,  883, 1115,  731, 1490,  400, 1465, 1047,  737,\n",
       "        796])"
      ]
     },
     "execution_count": 34,
     "metadata": {},
     "output_type": "execute_result"
    }
   ],
   "source": [
    "#Setting Parameters for bithweight, low = 400g, High = 1500g\n",
    "\n",
    "bw = np.random.randint(400, 1500, size=100) #this function draws random numbers from a uniform distribution\n",
    "bw"
   ]
  },
  {
   "cell_type": "markdown",
   "metadata": {},
   "source": [
    "## Congenital Anomaly\n",
    "8.3% of babies have a congenital anomaly.  Yes or No Answer"
   ]
  },
  {
   "cell_type": "code",
   "execution_count": 41,
   "metadata": {},
   "outputs": [
    {
     "data": {
      "text/plain": [
       "array([0, 0, 0, 0, 1, 0, 1, 1, 1, 1, 0, 1, 1, 0, 1, 1, 1, 1, 1, 0, 0, 1,\n",
       "       0, 0, 1, 1, 1, 1, 1, 1, 0, 1, 1, 1, 0, 1, 0, 0, 0, 1, 0, 1, 1, 0,\n",
       "       0, 0, 0, 1, 1, 0, 1, 0, 0, 0, 0, 1, 1, 0, 0, 0, 0, 0, 1, 1, 0, 1,\n",
       "       1, 0, 1, 1, 0, 1, 1, 1, 0, 1, 1, 1, 1, 1, 1, 0, 0, 1, 0, 1, 1, 1,\n",
       "       0, 1, 0, 0, 1, 1, 1, 1, 0, 0, 1, 1])"
      ]
     },
     "execution_count": 41,
     "metadata": {},
     "output_type": "execute_result"
    }
   ],
   "source": [
    "x = np.random.randint(0, 2, 100)\n",
    "x\n"
   ]
  },
  {
   "cell_type": "code",
   "execution_count": null,
   "metadata": {},
   "outputs": [],
   "source": []
  }
 ],
 "metadata": {
  "kernelspec": {
   "display_name": "Python 3",
   "language": "python",
   "name": "python3"
  },
  "language_info": {
   "codemirror_mode": {
    "name": "ipython",
    "version": 3
   },
   "file_extension": ".py",
   "mimetype": "text/x-python",
   "name": "python",
   "nbconvert_exporter": "python",
   "pygments_lexer": "ipython3",
   "version": "3.6.6"
  }
 },
 "nbformat": 4,
 "nbformat_minor": 2
}
